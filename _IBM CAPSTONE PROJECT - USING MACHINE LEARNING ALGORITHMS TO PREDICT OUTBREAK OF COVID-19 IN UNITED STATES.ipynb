{
 "cells": [
  {
   "cell_type": "markdown",
   "metadata": {},
   "source": [
    "# IBM CAPSTONE PROJECT - ANALYZING THE OUTBREAK OF COVID-19 IN THE UNITED STATES AND USING MACHINE LEARNING ALGORITHMS TO PREDICT CONFIRMED CASES IN THE COMING DAYS"
   ]
  },
  {
   "cell_type": "markdown",
   "metadata": {},
   "source": [
    "## Background\n",
    "### The coronavirus COVID-19 pandemic is the defining global health crisis of our time and the greatest challenge we have faced since the second World War. Since its emergence in Asia late last year, the virus has spread to every continent except Antarctica. COVID-19, short for \"coronavirus disease 2019,\" is the official name given by the World Health Organization. As many as 213 countries and territories have registered COVID-19 cases, and the entire world is buzzing with uncertainty and questions. At the time of writing this report, there are over 4,713,026 confirmed cases of COVID-19 across the globe. The COVID-19 pandemic has been greatly affecting people’s lives and the world’s economy. Among many infection related questions, governments and people are most concerned with (i) when the COVID-19 outbreak will peak; (ii) how long the outbreak will last and (iii) how many people will eventually be infected. \n",
    "### Through this project, we will try to understand and analyze the trend of COVID 19 in different states in the US, predict its damage so that effective measures can be taken against it. The forecasts obtained from this project can help inform public health decision-making by projecting the likely impact in coming days. This understanding can help the government gauge the current level f preparedness and devote appropriate resources and medical services in regions requiring critical attention.\n"
   ]
  },
  {
   "cell_type": "markdown",
   "metadata": {},
   "source": [
    "## Data source and description"
   ]
  },
  {
   "cell_type": "markdown",
   "metadata": {},
   "source": [
    "### To perform the required analysis, data has been extracted from two sources, namely, Kaggle and Foursquare.\n",
    "### COVID-19 dataset has been taken from Kaggle. The details of the dataset are as follows :\n",
    "### •\tSno - Serial number \n",
    "### •\tObservationDate - Date of the observation in MM/DD/YYYY \n",
    "### •\tProvince/State - Province or state of the observation (Could be empty when missing) Country/Region - Country of observation \n",
    "### •\tLast Update - Time in UTC at which the row is updated for the given province or country. Confirmed - Cumulative number of confirmed cases till that date \n",
    "### •\tDeaths - Cumulative number of  deaths till that date \n",
    "### •\tRecovered - Cumulative number of recovered cases till that date\n",
    "### Datasource : https://www.kaggle.com/sudalairajkumar/novel-corona-virus-2019-dataset\n",
    "\n",
    "### Foursquare Location Dataset \n",
    "### It provides data about different places all around the world. Features and Examples: Analysis of different geographic locations including exploring places, finding trending locations near a venue, exploring users and their reviews about places can be done through Foursquare location dataset.  \n",
    "\n"
   ]
  },
  {
   "cell_type": "markdown",
   "metadata": {},
   "source": [
    "## EXPLORATORY DATA ANALYSIS"
   ]
  },
  {
   "cell_type": "markdown",
   "metadata": {},
   "source": [
    "### Data Preprocessing"
   ]
  },
  {
   "cell_type": "code",
   "execution_count": 51,
   "metadata": {},
   "outputs": [
    {
     "data": {
      "text/plain": [
       "'C:\\\\Users\\\\Saumya\\\\Desktop\\\\Certifications\\\\IBM Data Science\\\\Final Project'"
      ]
     },
     "execution_count": 51,
     "metadata": {},
     "output_type": "execute_result"
    }
   ],
   "source": [
    "import pandas as pd\n",
    "import numpy as np\n",
    "import os\n",
    "os.chdir(\"C:\\\\Users\\\\Saumya\\\\Desktop\\\\Certifications\\\\IBM Data Science\\\\Final Project\")\n",
    "os.getcwd()"
   ]
  },
  {
   "cell_type": "markdown",
   "metadata": {},
   "source": [
    "## Reading data into a pandas dataframe and gettng review of the data"
   ]
  },
  {
   "cell_type": "code",
   "execution_count": 52,
   "metadata": {},
   "outputs": [
    {
     "data": {
      "text/html": [
       "<div>\n",
       "<style scoped>\n",
       "    .dataframe tbody tr th:only-of-type {\n",
       "        vertical-align: middle;\n",
       "    }\n",
       "\n",
       "    .dataframe tbody tr th {\n",
       "        vertical-align: top;\n",
       "    }\n",
       "\n",
       "    .dataframe thead th {\n",
       "        text-align: right;\n",
       "    }\n",
       "</style>\n",
       "<table border=\"1\" class=\"dataframe\">\n",
       "  <thead>\n",
       "    <tr style=\"text-align: right;\">\n",
       "      <th></th>\n",
       "      <th>SNo</th>\n",
       "      <th>ObservationDate</th>\n",
       "      <th>Province/State</th>\n",
       "      <th>Country/Region</th>\n",
       "      <th>Last Update</th>\n",
       "      <th>Confirmed</th>\n",
       "      <th>Deaths</th>\n",
       "      <th>Recovered</th>\n",
       "    </tr>\n",
       "  </thead>\n",
       "  <tbody>\n",
       "    <tr>\n",
       "      <th>0</th>\n",
       "      <td>1</td>\n",
       "      <td>01/22/2020</td>\n",
       "      <td>Anhui</td>\n",
       "      <td>Mainland China</td>\n",
       "      <td>1/22/2020 17:00</td>\n",
       "      <td>1.0000</td>\n",
       "      <td>0.0000</td>\n",
       "      <td>0.0000</td>\n",
       "    </tr>\n",
       "    <tr>\n",
       "      <th>1</th>\n",
       "      <td>2</td>\n",
       "      <td>01/22/2020</td>\n",
       "      <td>Beijing</td>\n",
       "      <td>Mainland China</td>\n",
       "      <td>1/22/2020 17:00</td>\n",
       "      <td>14.0000</td>\n",
       "      <td>0.0000</td>\n",
       "      <td>0.0000</td>\n",
       "    </tr>\n",
       "    <tr>\n",
       "      <th>2</th>\n",
       "      <td>3</td>\n",
       "      <td>01/22/2020</td>\n",
       "      <td>Chongqing</td>\n",
       "      <td>Mainland China</td>\n",
       "      <td>1/22/2020 17:00</td>\n",
       "      <td>6.0000</td>\n",
       "      <td>0.0000</td>\n",
       "      <td>0.0000</td>\n",
       "    </tr>\n",
       "    <tr>\n",
       "      <th>3</th>\n",
       "      <td>4</td>\n",
       "      <td>01/22/2020</td>\n",
       "      <td>Fujian</td>\n",
       "      <td>Mainland China</td>\n",
       "      <td>1/22/2020 17:00</td>\n",
       "      <td>1.0000</td>\n",
       "      <td>0.0000</td>\n",
       "      <td>0.0000</td>\n",
       "    </tr>\n",
       "    <tr>\n",
       "      <th>4</th>\n",
       "      <td>5</td>\n",
       "      <td>01/22/2020</td>\n",
       "      <td>Gansu</td>\n",
       "      <td>Mainland China</td>\n",
       "      <td>1/22/2020 17:00</td>\n",
       "      <td>0.0000</td>\n",
       "      <td>0.0000</td>\n",
       "      <td>0.0000</td>\n",
       "    </tr>\n",
       "    <tr>\n",
       "      <th>...</th>\n",
       "      <td>...</td>\n",
       "      <td>...</td>\n",
       "      <td>...</td>\n",
       "      <td>...</td>\n",
       "      <td>...</td>\n",
       "      <td>...</td>\n",
       "      <td>...</td>\n",
       "      <td>...</td>\n",
       "    </tr>\n",
       "    <tr>\n",
       "      <th>95</th>\n",
       "      <td>96</td>\n",
       "      <td>01/24/2020</td>\n",
       "      <td>Anhui</td>\n",
       "      <td>Mainland China</td>\n",
       "      <td>1/24/20 17:00</td>\n",
       "      <td>15.0000</td>\n",
       "      <td>0.0000</td>\n",
       "      <td>0.0000</td>\n",
       "    </tr>\n",
       "    <tr>\n",
       "      <th>96</th>\n",
       "      <td>97</td>\n",
       "      <td>01/24/2020</td>\n",
       "      <td>Fujian</td>\n",
       "      <td>Mainland China</td>\n",
       "      <td>1/24/20 17:00</td>\n",
       "      <td>10.0000</td>\n",
       "      <td>0.0000</td>\n",
       "      <td>0.0000</td>\n",
       "    </tr>\n",
       "    <tr>\n",
       "      <th>97</th>\n",
       "      <td>98</td>\n",
       "      <td>01/24/2020</td>\n",
       "      <td>Henan</td>\n",
       "      <td>Mainland China</td>\n",
       "      <td>1/24/20 17:00</td>\n",
       "      <td>9.0000</td>\n",
       "      <td>0.0000</td>\n",
       "      <td>0.0000</td>\n",
       "    </tr>\n",
       "    <tr>\n",
       "      <th>98</th>\n",
       "      <td>99</td>\n",
       "      <td>01/24/2020</td>\n",
       "      <td>Jiangsu</td>\n",
       "      <td>Mainland China</td>\n",
       "      <td>1/24/20 17:00</td>\n",
       "      <td>9.0000</td>\n",
       "      <td>0.0000</td>\n",
       "      <td>0.0000</td>\n",
       "    </tr>\n",
       "    <tr>\n",
       "      <th>99</th>\n",
       "      <td>100</td>\n",
       "      <td>01/24/2020</td>\n",
       "      <td>Hainan</td>\n",
       "      <td>Mainland China</td>\n",
       "      <td>1/24/20 17:00</td>\n",
       "      <td>8.0000</td>\n",
       "      <td>0.0000</td>\n",
       "      <td>0.0000</td>\n",
       "    </tr>\n",
       "  </tbody>\n",
       "</table>\n",
       "<p>100 rows × 8 columns</p>\n",
       "</div>"
      ],
      "text/plain": [
       "    SNo ObservationDate Province/State  Country/Region      Last Update  \\\n",
       "0     1      01/22/2020          Anhui  Mainland China  1/22/2020 17:00   \n",
       "1     2      01/22/2020        Beijing  Mainland China  1/22/2020 17:00   \n",
       "2     3      01/22/2020      Chongqing  Mainland China  1/22/2020 17:00   \n",
       "3     4      01/22/2020         Fujian  Mainland China  1/22/2020 17:00   \n",
       "4     5      01/22/2020          Gansu  Mainland China  1/22/2020 17:00   \n",
       "..  ...             ...            ...             ...              ...   \n",
       "95   96      01/24/2020          Anhui  Mainland China    1/24/20 17:00   \n",
       "96   97      01/24/2020         Fujian  Mainland China    1/24/20 17:00   \n",
       "97   98      01/24/2020          Henan  Mainland China    1/24/20 17:00   \n",
       "98   99      01/24/2020        Jiangsu  Mainland China    1/24/20 17:00   \n",
       "99  100      01/24/2020         Hainan  Mainland China    1/24/20 17:00   \n",
       "\n",
       "    Confirmed  Deaths  Recovered  \n",
       "0      1.0000  0.0000     0.0000  \n",
       "1     14.0000  0.0000     0.0000  \n",
       "2      6.0000  0.0000     0.0000  \n",
       "3      1.0000  0.0000     0.0000  \n",
       "4      0.0000  0.0000     0.0000  \n",
       "..        ...     ...        ...  \n",
       "95    15.0000  0.0000     0.0000  \n",
       "96    10.0000  0.0000     0.0000  \n",
       "97     9.0000  0.0000     0.0000  \n",
       "98     9.0000  0.0000     0.0000  \n",
       "99     8.0000  0.0000     0.0000  \n",
       "\n",
       "[100 rows x 8 columns]"
      ]
     },
     "execution_count": 52,
     "metadata": {},
     "output_type": "execute_result"
    }
   ],
   "source": [
    "Data = pd.read_csv(\"covid_19_data.csv\")\n",
    "Data.head(100)"
   ]
  },
  {
   "cell_type": "code",
   "execution_count": 53,
   "metadata": {},
   "outputs": [
    {
     "name": "stdout",
     "output_type": "stream",
     "text": [
      "Dataset contains 25959 rows and 8 columns.\n",
      "The dataset contains data for 223 countries.\n",
      "The dataset contains data for 355 states.\n"
     ]
    }
   ],
   "source": [
    "print(\"Dataset contains\",Data.shape[0],\"rows\",\"and\",Data.shape[1],\"columns.\")\n",
    "print(\"The dataset contains data for\",len(Data['Country/Region'].unique()),\"countries.\")\n",
    "print(\"The dataset contains data for\",len(Data['Province/State'].unique()),\"states.\")"
   ]
  },
  {
   "cell_type": "markdown",
   "metadata": {},
   "source": [
    "## This dataframe contains Covid 19 cases for all countries, for the purpose of this project, I will be developing a new dataframe that will be focussing only on the United States"
   ]
  },
  {
   "cell_type": "code",
   "execution_count": 54,
   "metadata": {},
   "outputs": [
    {
     "data": {
      "text/html": [
       "<div>\n",
       "<style scoped>\n",
       "    .dataframe tbody tr th:only-of-type {\n",
       "        vertical-align: middle;\n",
       "    }\n",
       "\n",
       "    .dataframe tbody tr th {\n",
       "        vertical-align: top;\n",
       "    }\n",
       "\n",
       "    .dataframe thead th {\n",
       "        text-align: right;\n",
       "    }\n",
       "</style>\n",
       "<table border=\"1\" class=\"dataframe\">\n",
       "  <thead>\n",
       "    <tr style=\"text-align: right;\">\n",
       "      <th></th>\n",
       "      <th>SNo</th>\n",
       "      <th>ObservationDate</th>\n",
       "      <th>Province/State</th>\n",
       "      <th>Country/Region</th>\n",
       "      <th>Last Update</th>\n",
       "      <th>Confirmed</th>\n",
       "      <th>Deaths</th>\n",
       "      <th>Recovered</th>\n",
       "    </tr>\n",
       "  </thead>\n",
       "  <tbody>\n",
       "    <tr>\n",
       "      <th>31</th>\n",
       "      <td>32</td>\n",
       "      <td>01/22/2020</td>\n",
       "      <td>Washington</td>\n",
       "      <td>US</td>\n",
       "      <td>1/22/2020 17:00</td>\n",
       "      <td>1.0000</td>\n",
       "      <td>0.0000</td>\n",
       "      <td>0.0000</td>\n",
       "    </tr>\n",
       "    <tr>\n",
       "      <th>69</th>\n",
       "      <td>70</td>\n",
       "      <td>01/23/2020</td>\n",
       "      <td>Washington</td>\n",
       "      <td>US</td>\n",
       "      <td>1/23/20 17:00</td>\n",
       "      <td>1.0000</td>\n",
       "      <td>0.0000</td>\n",
       "      <td>0.0000</td>\n",
       "    </tr>\n",
       "    <tr>\n",
       "      <th>117</th>\n",
       "      <td>118</td>\n",
       "      <td>01/24/2020</td>\n",
       "      <td>Washington</td>\n",
       "      <td>US</td>\n",
       "      <td>1/24/20 17:00</td>\n",
       "      <td>1.0000</td>\n",
       "      <td>0.0000</td>\n",
       "      <td>0.0000</td>\n",
       "    </tr>\n",
       "    <tr>\n",
       "      <th>118</th>\n",
       "      <td>119</td>\n",
       "      <td>01/24/2020</td>\n",
       "      <td>Chicago</td>\n",
       "      <td>US</td>\n",
       "      <td>1/24/20 17:00</td>\n",
       "      <td>1.0000</td>\n",
       "      <td>0.0000</td>\n",
       "      <td>0.0000</td>\n",
       "    </tr>\n",
       "    <tr>\n",
       "      <th>158</th>\n",
       "      <td>159</td>\n",
       "      <td>01/25/2020</td>\n",
       "      <td>Washington</td>\n",
       "      <td>US</td>\n",
       "      <td>1/25/20 17:00</td>\n",
       "      <td>1.0000</td>\n",
       "      <td>0.0000</td>\n",
       "      <td>0.0000</td>\n",
       "    </tr>\n",
       "    <tr>\n",
       "      <th>...</th>\n",
       "      <td>...</td>\n",
       "      <td>...</td>\n",
       "      <td>...</td>\n",
       "      <td>...</td>\n",
       "      <td>...</td>\n",
       "      <td>...</td>\n",
       "      <td>...</td>\n",
       "      <td>...</td>\n",
       "    </tr>\n",
       "    <tr>\n",
       "      <th>25949</th>\n",
       "      <td>25950</td>\n",
       "      <td>05/17/2020</td>\n",
       "      <td>Virginia</td>\n",
       "      <td>US</td>\n",
       "      <td>2020-05-18 02:32:21</td>\n",
       "      <td>30388.0000</td>\n",
       "      <td>1010.0000</td>\n",
       "      <td>0.0000</td>\n",
       "    </tr>\n",
       "    <tr>\n",
       "      <th>25950</th>\n",
       "      <td>25951</td>\n",
       "      <td>05/17/2020</td>\n",
       "      <td>Washington</td>\n",
       "      <td>US</td>\n",
       "      <td>2020-05-18 02:32:21</td>\n",
       "      <td>18433.0000</td>\n",
       "      <td>1001.0000</td>\n",
       "      <td>0.0000</td>\n",
       "    </tr>\n",
       "    <tr>\n",
       "      <th>25951</th>\n",
       "      <td>25952</td>\n",
       "      <td>05/17/2020</td>\n",
       "      <td>West Virginia</td>\n",
       "      <td>US</td>\n",
       "      <td>2020-05-18 02:32:21</td>\n",
       "      <td>1492.0000</td>\n",
       "      <td>67.0000</td>\n",
       "      <td>0.0000</td>\n",
       "    </tr>\n",
       "    <tr>\n",
       "      <th>25953</th>\n",
       "      <td>25954</td>\n",
       "      <td>05/17/2020</td>\n",
       "      <td>Wisconsin</td>\n",
       "      <td>US</td>\n",
       "      <td>2020-05-18 02:32:21</td>\n",
       "      <td>12543.0000</td>\n",
       "      <td>453.0000</td>\n",
       "      <td>0.0000</td>\n",
       "    </tr>\n",
       "    <tr>\n",
       "      <th>25954</th>\n",
       "      <td>25955</td>\n",
       "      <td>05/17/2020</td>\n",
       "      <td>Wyoming</td>\n",
       "      <td>US</td>\n",
       "      <td>2020-05-18 02:32:21</td>\n",
       "      <td>754.0000</td>\n",
       "      <td>8.0000</td>\n",
       "      <td>0.0000</td>\n",
       "    </tr>\n",
       "  </tbody>\n",
       "</table>\n",
       "<p>4874 rows × 8 columns</p>\n",
       "</div>"
      ],
      "text/plain": [
       "         SNo ObservationDate Province/State Country/Region  \\\n",
       "31        32      01/22/2020     Washington             US   \n",
       "69        70      01/23/2020     Washington             US   \n",
       "117      118      01/24/2020     Washington             US   \n",
       "118      119      01/24/2020        Chicago             US   \n",
       "158      159      01/25/2020     Washington             US   \n",
       "...      ...             ...            ...            ...   \n",
       "25949  25950      05/17/2020       Virginia             US   \n",
       "25950  25951      05/17/2020     Washington             US   \n",
       "25951  25952      05/17/2020  West Virginia             US   \n",
       "25953  25954      05/17/2020      Wisconsin             US   \n",
       "25954  25955      05/17/2020        Wyoming             US   \n",
       "\n",
       "               Last Update  Confirmed    Deaths  Recovered  \n",
       "31         1/22/2020 17:00     1.0000    0.0000     0.0000  \n",
       "69           1/23/20 17:00     1.0000    0.0000     0.0000  \n",
       "117          1/24/20 17:00     1.0000    0.0000     0.0000  \n",
       "118          1/24/20 17:00     1.0000    0.0000     0.0000  \n",
       "158          1/25/20 17:00     1.0000    0.0000     0.0000  \n",
       "...                    ...        ...       ...        ...  \n",
       "25949  2020-05-18 02:32:21 30388.0000 1010.0000     0.0000  \n",
       "25950  2020-05-18 02:32:21 18433.0000 1001.0000     0.0000  \n",
       "25951  2020-05-18 02:32:21  1492.0000   67.0000     0.0000  \n",
       "25953  2020-05-18 02:32:21 12543.0000  453.0000     0.0000  \n",
       "25954  2020-05-18 02:32:21   754.0000    8.0000     0.0000  \n",
       "\n",
       "[4874 rows x 8 columns]"
      ]
     },
     "execution_count": 54,
     "metadata": {},
     "output_type": "execute_result"
    }
   ],
   "source": [
    "USData = Data[Data['Country/Region']=='US']\n",
    "USData"
   ]
  },
  {
   "cell_type": "markdown",
   "metadata": {},
   "source": [
    "## Finding the dimensions,null values and datatypes of the attributes in the dataset"
   ]
  },
  {
   "cell_type": "code",
   "execution_count": 55,
   "metadata": {},
   "outputs": [
    {
     "name": "stdout",
     "output_type": "stream",
     "text": [
      "Dimensions of the dataset are (4874, 8)\n",
      "The null values in each attribube in the dataset are as follows :\n",
      " SNo                0\n",
      "ObservationDate    0\n",
      "Province/State     0\n",
      "Country/Region     0\n",
      "Last Update        0\n",
      "Confirmed          0\n",
      "Deaths             0\n",
      "Recovered          0\n",
      "dtype: int64\n",
      "The datatyoe for each attribute in the datastet are as follows: \n",
      " SNo                  int64\n",
      "ObservationDate     object\n",
      "Province/State      object\n",
      "Country/Region      object\n",
      "Last Update         object\n",
      "Confirmed          float64\n",
      "Deaths             float64\n",
      "Recovered          float64\n",
      "dtype: object\n"
     ]
    }
   ],
   "source": [
    "print(\"Dimensions of the dataset are\",USData.shape)\n",
    "print(\"The null values in each attribube in the dataset are as follows :\\n\",USData.isnull().sum())\n",
    "print(\"The datatyoe for each attribute in the datastet are as follows: \\n\",USData.dtypes)"
   ]
  },
  {
   "cell_type": "markdown",
   "metadata": {},
   "source": [
    "## Dropping the Serial number column and converting Observation Date into suitable datetime format"
   ]
  },
  {
   "cell_type": "code",
   "execution_count": 56,
   "metadata": {},
   "outputs": [
    {
     "data": {
      "text/html": [
       "<div>\n",
       "<style scoped>\n",
       "    .dataframe tbody tr th:only-of-type {\n",
       "        vertical-align: middle;\n",
       "    }\n",
       "\n",
       "    .dataframe tbody tr th {\n",
       "        vertical-align: top;\n",
       "    }\n",
       "\n",
       "    .dataframe thead th {\n",
       "        text-align: right;\n",
       "    }\n",
       "</style>\n",
       "<table border=\"1\" class=\"dataframe\">\n",
       "  <thead>\n",
       "    <tr style=\"text-align: right;\">\n",
       "      <th></th>\n",
       "      <th>ObservationDate</th>\n",
       "      <th>Province/State</th>\n",
       "      <th>Country/Region</th>\n",
       "      <th>Last Update</th>\n",
       "      <th>Confirmed</th>\n",
       "      <th>Deaths</th>\n",
       "      <th>Recovered</th>\n",
       "    </tr>\n",
       "  </thead>\n",
       "  <tbody>\n",
       "    <tr>\n",
       "      <th>31</th>\n",
       "      <td>2020-01-22</td>\n",
       "      <td>Washington</td>\n",
       "      <td>US</td>\n",
       "      <td>1/22/2020 17:00</td>\n",
       "      <td>1.0000</td>\n",
       "      <td>0.0000</td>\n",
       "      <td>0.0000</td>\n",
       "    </tr>\n",
       "    <tr>\n",
       "      <th>69</th>\n",
       "      <td>2020-01-23</td>\n",
       "      <td>Washington</td>\n",
       "      <td>US</td>\n",
       "      <td>1/23/20 17:00</td>\n",
       "      <td>1.0000</td>\n",
       "      <td>0.0000</td>\n",
       "      <td>0.0000</td>\n",
       "    </tr>\n",
       "    <tr>\n",
       "      <th>117</th>\n",
       "      <td>2020-01-24</td>\n",
       "      <td>Washington</td>\n",
       "      <td>US</td>\n",
       "      <td>1/24/20 17:00</td>\n",
       "      <td>1.0000</td>\n",
       "      <td>0.0000</td>\n",
       "      <td>0.0000</td>\n",
       "    </tr>\n",
       "    <tr>\n",
       "      <th>118</th>\n",
       "      <td>2020-01-24</td>\n",
       "      <td>Chicago</td>\n",
       "      <td>US</td>\n",
       "      <td>1/24/20 17:00</td>\n",
       "      <td>1.0000</td>\n",
       "      <td>0.0000</td>\n",
       "      <td>0.0000</td>\n",
       "    </tr>\n",
       "    <tr>\n",
       "      <th>158</th>\n",
       "      <td>2020-01-25</td>\n",
       "      <td>Washington</td>\n",
       "      <td>US</td>\n",
       "      <td>1/25/20 17:00</td>\n",
       "      <td>1.0000</td>\n",
       "      <td>0.0000</td>\n",
       "      <td>0.0000</td>\n",
       "    </tr>\n",
       "  </tbody>\n",
       "</table>\n",
       "</div>"
      ],
      "text/plain": [
       "    ObservationDate Province/State Country/Region      Last Update  Confirmed  \\\n",
       "31       2020-01-22     Washington             US  1/22/2020 17:00     1.0000   \n",
       "69       2020-01-23     Washington             US    1/23/20 17:00     1.0000   \n",
       "117      2020-01-24     Washington             US    1/24/20 17:00     1.0000   \n",
       "118      2020-01-24        Chicago             US    1/24/20 17:00     1.0000   \n",
       "158      2020-01-25     Washington             US    1/25/20 17:00     1.0000   \n",
       "\n",
       "     Deaths  Recovered  \n",
       "31   0.0000     0.0000  \n",
       "69   0.0000     0.0000  \n",
       "117  0.0000     0.0000  \n",
       "118  0.0000     0.0000  \n",
       "158  0.0000     0.0000  "
      ]
     },
     "execution_count": 56,
     "metadata": {},
     "output_type": "execute_result"
    }
   ],
   "source": [
    "import datetime\n",
    "USData['ObservationDate'] = USData['ObservationDate'].apply(pd.to_datetime)\n",
    "USData = USData.drop(columns=['SNo'],axis=1)\n",
    "USData.head()"
   ]
  },
  {
   "cell_type": "markdown",
   "metadata": {},
   "source": [
    "## Extracting basic information from the data"
   ]
  },
  {
   "cell_type": "code",
   "execution_count": 57,
   "metadata": {},
   "outputs": [
    {
     "data": {
      "text/html": [
       "<div>\n",
       "<style scoped>\n",
       "    .dataframe tbody tr th:only-of-type {\n",
       "        vertical-align: middle;\n",
       "    }\n",
       "\n",
       "    .dataframe tbody tr th {\n",
       "        vertical-align: top;\n",
       "    }\n",
       "\n",
       "    .dataframe thead th {\n",
       "        text-align: right;\n",
       "    }\n",
       "</style>\n",
       "<table border=\"1\" class=\"dataframe\">\n",
       "  <thead>\n",
       "    <tr style=\"text-align: right;\">\n",
       "      <th></th>\n",
       "      <th>ObservationDate</th>\n",
       "      <th>Confirmed</th>\n",
       "      <th>Deaths</th>\n",
       "      <th>Recovered</th>\n",
       "      <th>Days Since</th>\n",
       "    </tr>\n",
       "  </thead>\n",
       "  <tbody>\n",
       "    <tr>\n",
       "      <th>112</th>\n",
       "      <td>2020-05-13</td>\n",
       "      <td>1390406.0000</td>\n",
       "      <td>84119.0000</td>\n",
       "      <td>243430.0000</td>\n",
       "      <td>112</td>\n",
       "    </tr>\n",
       "    <tr>\n",
       "      <th>113</th>\n",
       "      <td>2020-05-14</td>\n",
       "      <td>1417774.0000</td>\n",
       "      <td>85898.0000</td>\n",
       "      <td>246414.0000</td>\n",
       "      <td>113</td>\n",
       "    </tr>\n",
       "    <tr>\n",
       "      <th>114</th>\n",
       "      <td>2020-05-15</td>\n",
       "      <td>1442824.0000</td>\n",
       "      <td>87530.0000</td>\n",
       "      <td>250747.0000</td>\n",
       "      <td>114</td>\n",
       "    </tr>\n",
       "    <tr>\n",
       "      <th>115</th>\n",
       "      <td>2020-05-16</td>\n",
       "      <td>1467820.0000</td>\n",
       "      <td>88754.0000</td>\n",
       "      <td>268376.0000</td>\n",
       "      <td>115</td>\n",
       "    </tr>\n",
       "    <tr>\n",
       "      <th>116</th>\n",
       "      <td>2020-05-17</td>\n",
       "      <td>1486757.0000</td>\n",
       "      <td>89562.0000</td>\n",
       "      <td>272265.0000</td>\n",
       "      <td>116</td>\n",
       "    </tr>\n",
       "  </tbody>\n",
       "</table>\n",
       "</div>"
      ],
      "text/plain": [
       "    ObservationDate    Confirmed     Deaths   Recovered  Days Since\n",
       "112      2020-05-13 1390406.0000 84119.0000 243430.0000         112\n",
       "113      2020-05-14 1417774.0000 85898.0000 246414.0000         113\n",
       "114      2020-05-15 1442824.0000 87530.0000 250747.0000         114\n",
       "115      2020-05-16 1467820.0000 88754.0000 268376.0000         115\n",
       "116      2020-05-17 1486757.0000 89562.0000 272265.0000         116"
      ]
     },
     "execution_count": 57,
     "metadata": {},
     "output_type": "execute_result"
    }
   ],
   "source": [
    "datewise=USData.groupby([\"ObservationDate\"])[['Confirmed','Deaths','Recovered']].sum().reset_index()\n",
    "datewise[\"Days Since\"]=datewise.index-datewise.index.min()\n",
    "datewise.tail(5)"
   ]
  },
  {
   "cell_type": "code",
   "execution_count": 58,
   "metadata": {},
   "outputs": [
    {
     "name": "stdout",
     "output_type": "stream",
     "text": [
      "\u001b[1mUS COVID DATA ANALYSIS\u001b[1m\n",
      "Totol number of provinces with Covid impact:  199\n",
      "Total number of Confirmed Cases:  1486757.0\n",
      "Total number of Recovered Cases:  272265.0\n",
      "Total number of Deaths Cases:  89562.0\n",
      "Total number of Active Cases:  1124930.0\n",
      "Total number of Closed Cases:  361827.0\n",
      "Approximate number of Confirmed Cases per Day:  12707.0\n",
      "Approximate number of Recovered Cases per Day :  2327.0\n",
      "Approximate number of Death Cases per Day :  765.0\n",
      "Approximate number of Confirmed Cases per hour :  529.0\n",
      "Approximate number of Recovered Cases per hour:  97.0\n",
      "Approximate number of Death Cases per hour :  32.0\n",
      "Number of Confirmed Cases in last 24 hours:  18937.0\n",
      "Number of Recovered Cases in last 24 hours:  3889.0\n",
      "Number of Death Cases in last 24 hours:  808.0\n"
     ]
    }
   ],
   "source": [
    "print(\"\\033[1m\" + \"US COVID DATA ANALYSIS\"+\"\\033[1m\")\n",
    "print(\"Totol number of provinces with Covid impact: \",len(USData[\"Province/State\"].unique()))\n",
    "print(\"Total number of Confirmed Cases: \",datewise[\"Confirmed\"].iloc[-1])\n",
    "print(\"Total number of Recovered Cases: \",datewise[\"Recovered\"].iloc[-1])\n",
    "print(\"Total number of Deaths Cases: \",datewise[\"Deaths\"].iloc[-1])\n",
    "print(\"Total number of Active Cases: \",(datewise[\"Confirmed\"].iloc[-1]-datewise[\"Recovered\"].iloc[-1]-datewise[\"Deaths\"].iloc[-1]))\n",
    "print(\"Total number of Closed Cases: \",datewise[\"Recovered\"].iloc[-1]+datewise[\"Deaths\"].iloc[-1])\n",
    "print(\"Approximate number of Confirmed Cases per Day: \",np.round(datewise[\"Confirmed\"].iloc[-1]/datewise.shape[0]))\n",
    "print(\"Approximate number of Recovered Cases per Day : \",np.round(datewise[\"Recovered\"].iloc[-1]/datewise.shape[0]))\n",
    "print(\"Approximate number of Death Cases per Day : \",np.round(datewise[\"Deaths\"].iloc[-1]/datewise.shape[0]))\n",
    "print(\"Approximate number of Confirmed Cases per hour : \",np.round(datewise[\"Confirmed\"].iloc[-1]/((datewise.shape[0])*24)))\n",
    "print(\"Approximate number of Recovered Cases per hour: \",np.round(datewise[\"Recovered\"].iloc[-1]/((datewise.shape[0])*24)))\n",
    "print(\"Approximate number of Death Cases per hour : \",np.round(datewise[\"Deaths\"].iloc[-1]/((datewise.shape[0])*24)))\n",
    "print(\"Number of Confirmed Cases in last 24 hours: \",datewise[\"Confirmed\"].iloc[-1]-datewise[\"Confirmed\"].iloc[-2])\n",
    "print(\"Number of Recovered Cases in last 24 hours: \",datewise[\"Recovered\"].iloc[-1]-datewise[\"Recovered\"].iloc[-2])\n",
    "print(\"Number of Death Cases in last 24 hours: \",datewise[\"Deaths\"].iloc[-1]-datewise[\"Deaths\"].iloc[-2])"
   ]
  },
  {
   "cell_type": "markdown",
   "metadata": {},
   "source": [
    "## Plotting the number of cases "
   ]
  },
  {
   "cell_type": "code",
   "execution_count": 59,
   "metadata": {},
   "outputs": [
    {
     "name": "stdout",
     "output_type": "stream",
     "text": [
      "Requirement already satisfied: plotly in c:\\programdata\\anaconda3\\lib\\site-packages (4.7.1)\n",
      "Requirement already satisfied: retrying>=1.3.3 in c:\\programdata\\anaconda3\\lib\\site-packages (from plotly) (1.3.3)\n",
      "Requirement already satisfied: six in c:\\programdata\\anaconda3\\lib\\site-packages (from plotly) (1.12.0)\n"
     ]
    }
   ],
   "source": [
    "#importing the required libraries\n",
    "import matplotlib.pyplot as plt\n",
    "import seaborn as sns\n",
    "import seaborn as sns\n",
    "!pip install plotly\n",
    "import plotly.express as px\n",
    "import plotly.graph_objects as go\n",
    "from plotly.subplots import make_subplots"
   ]
  },
  {
   "cell_type": "markdown",
   "metadata": {},
   "source": [
    "### Daily increase in the number of Confirmed Cases, Recovered Cases and Deaths"
   ]
  },
  {
   "cell_type": "code",
   "execution_count": 60,
   "metadata": {},
   "outputs": [],
   "source": [
    "datewise['month']=datewise['ObservationDate'].dt.month_name()"
   ]
  },
  {
   "cell_type": "code",
   "execution_count": 61,
   "metadata": {},
   "outputs": [
    {
     "data": {
      "image/png": "[encoded data removed]",
      "text/plain": [
       "<Figure size 1440x720 with 1 Axes>"
      ]
     },
     "metadata": {
      "needs_background": "light"
     },
     "output_type": "display_data"
    }
   ],
   "source": [
    "ax = datewise.plot('Days Since','Confirmed',color='red',kind='bar',figsize=(20,10))\n",
    "plt.xlabel('Days Since',fontsize = 10)\n",
    "plt.ylabel('Number of Confirmed Cases',fontsize = 14)\n",
    "plt.title('DAILY INCREASE IN THE NUMBER OF CONFIRMED CASES IN THE US',fontsize =16)\n",
    "sns.despine(top = True,left = True,right = True)\n",
    "N=5\n",
    "xmin, xmax = ax.get_xlim()\n",
    "custom_ticks = np.linspace(xmin, xmax, N)\n",
    "ax.set_xticks(custom_ticks)\n",
    "ax.set_xticklabels(custom_ticks)\n",
    "plt.xlim(xmin=50)\n",
    "plt.show()"
   ]
  },
  {
   "cell_type": "code",
   "execution_count": 62,
   "metadata": {},
   "outputs": [
    {
     "data": {
      "image/png": "[encoded data removed]",
      "text/plain": [
       "<Figure size 1440x720 with 1 Axes>"
      ]
     },
     "metadata": {
      "needs_background": "light"
     },
     "output_type": "display_data"
    }
   ],
   "source": [
    "ax = datewise.plot('Days Since','Deaths',color='black',kind='bar',figsize=(20,10))\n",
    "plt.xlabel('Days Since',fontsize = 10)\n",
    "plt.ylabel('Number of Deaths',fontsize = 14)\n",
    "plt.title('DAILY INCREASE IN THE NUMBER OF DEATHS IN THE US',fontsize =16)\n",
    "sns.despine(top = True,left = True,right = True)\n",
    "N=5\n",
    "xmin, xmax = ax.get_xlim()\n",
    "custom_ticks = np.linspace(xmin, xmax, N)\n",
    "ax.set_xticks(custom_ticks)\n",
    "ax.set_xticklabels(custom_ticks)\n",
    "plt.xlim(xmin=50)\n",
    "plt.show()"
   ]
  },
  {
   "cell_type": "code",
   "execution_count": 63,
   "metadata": {},
   "outputs": [
    {
     "data": {
      "image/png": "[encoded data removed]",
      "text/plain": [
       "<Figure size 1440x720 with 1 Axes>"
      ]
     },
     "metadata": {
      "needs_background": "light"
     },
     "output_type": "display_data"
    }
   ],
   "source": [
    "ax = datewise.plot('Days Since','Recovered',color='green',kind='bar',figsize=(20,10))\n",
    "plt.xlabel('Days Since',fontsize = 10)\n",
    "plt.ylabel('Number of Recoveries',fontsize = 14)\n",
    "plt.title('DAILY INCREASE IN THE NUMBER OF RECOVERED CASES IN THE US',fontsize =16)\n",
    "sns.despine(top = True,left = True,right = True)\n",
    "N=5\n",
    "xmin, xmax = ax.get_xlim()\n",
    "custom_ticks = np.linspace(xmin, xmax, N)\n",
    "ax.set_xticks(custom_ticks)\n",
    "ax.set_xticklabels(custom_ticks)\n",
    "plt.xlim(xmin=50)\n",
    "plt.show()"
   ]
  },
  {
   "cell_type": "code",
   "execution_count": 64,
   "metadata": {},
   "outputs": [],
   "source": [
    "## Plotting the distribution week wise\n",
    "import warnings\n",
    "warnings.filterwarnings('ignore')\n",
    "import pandas as pd\n",
    "import matplotlib.pyplot as plt\n",
    "import seaborn as sns\n",
    "#!pip install plotly\n",
    "import plotly.express as px\n",
    "import plotly.graph_objects as go\n",
    "from plotly.subplots import make_subplots\n",
    "import numpy as np\n",
    "import datetime as dt\n",
    "from datetime import timedelta\n",
    "datewise[\"WeekOfYear\"]=1"
   ]
  },
  {
   "cell_type": "markdown",
   "metadata": {},
   "source": [
    "### Weekly increase in the number of Confirmed Cases, Recovered Cases and Deaths per province"
   ]
  },
  {
   "cell_type": "code",
   "execution_count": 65,
   "metadata": {},
   "outputs": [],
   "source": [
    "datewise[\"WeekOfYear\"]=datewise['ObservationDate'].dt.weekofyear\n",
    "datewise['WeekOfYear'] = datewise['WeekOfYear']-3 ## to get the weeks starting from 21st January"
   ]
  },
  {
   "cell_type": "code",
   "execution_count": 66,
   "metadata": {},
   "outputs": [
    {
     "data": {
      "image/png": "[encoded data removed]",
      "text/plain": [
       "<Figure size 1080x360 with 3 Axes>"
      ]
     },
     "metadata": {
      "needs_background": "light"
     },
     "output_type": "display_data"
    }
   ],
   "source": [
    "week_num=[]\n",
    "weekwise_confirmed=[]\n",
    "weekwise_recovered=[]\n",
    "weekwise_deaths=[]\n",
    "w=1\n",
    "for i in list(datewise[\"WeekOfYear\"].unique()):\n",
    "    weekwise_confirmed.append(datewise[datewise[\"WeekOfYear\"]==i][\"Confirmed\"].iloc[-1])\n",
    "    weekwise_recovered.append(datewise[datewise[\"WeekOfYear\"]==i][\"Recovered\"].iloc[-1])\n",
    "    weekwise_deaths.append(datewise[datewise[\"WeekOfYear\"]==i][\"Deaths\"].iloc[-1])\n",
    "    week_num.append(w)\n",
    "    w=w+1\n",
    "fig, (ax1,ax2,ax3) = plt.subplots(1, 3,figsize=(15,5))\n",
    "sns.barplot(x=week_num,y=pd.Series(weekwise_confirmed).diff().fillna(0),ax=ax1,color='yellow')\n",
    "sns.barplot(x=week_num,y=pd.Series(weekwise_deaths).diff().fillna(0),ax=ax2,color='red')\n",
    "sns.barplot(x=week_num,y=pd.Series(weekwise_recovered).diff().fillna(0),ax=ax3,color='green')\n",
    "ax1.set_xlabel(\"Week Number\")\n",
    "ax2.set_xlabel(\"Week Number\")\n",
    "ax3.set_xlabel(\"Week Number\")\n",
    "ax1.set_ylabel(\"Number of Confirmed Cases\")\n",
    "ax2.set_ylabel(\"Number of Death Cases\")\n",
    "ax3.set_ylabel(\"Number of Recovered Cases\")\n",
    "ax1.set_title(\"WEEKLY INCREASE IN NUMBER OF CONFIRMED CASES\")\n",
    "ax2.set_title(\"WEEKLY INCREASE IN NUMBER OF DEATHS\")\n",
    "ax3.set_title(\"WEEKLY INCREASE IN NUMBER OF RECOVERED CASES\")\n",
    "plt.tight_layout()"
   ]
  },
  {
   "cell_type": "markdown",
   "metadata": {},
   "source": [
    "## Performing Province wise analysis on the dataset"
   ]
  },
  {
   "cell_type": "markdown",
   "metadata": {},
   "source": [
    "### Since every date has cumulative number of cases, data needs to be filtered out province wise"
   ]
  },
  {
   "cell_type": "code",
   "execution_count": 67,
   "metadata": {},
   "outputs": [
    {
     "data": {
      "text/html": [
       "<div>\n",
       "<style scoped>\n",
       "    .dataframe tbody tr th:only-of-type {\n",
       "        vertical-align: middle;\n",
       "    }\n",
       "\n",
       "    .dataframe tbody tr th {\n",
       "        vertical-align: top;\n",
       "    }\n",
       "\n",
       "    .dataframe thead th {\n",
       "        text-align: right;\n",
       "    }\n",
       "</style>\n",
       "<table border=\"1\" class=\"dataframe\">\n",
       "  <thead>\n",
       "    <tr style=\"text-align: right;\">\n",
       "      <th></th>\n",
       "      <th>Confirmed</th>\n",
       "      <th>Deaths</th>\n",
       "    </tr>\n",
       "    <tr>\n",
       "      <th>Province/State</th>\n",
       "      <th></th>\n",
       "      <th></th>\n",
       "    </tr>\n",
       "  </thead>\n",
       "  <tbody>\n",
       "    <tr>\n",
       "      <th>New York</th>\n",
       "      <td>350121.0000</td>\n",
       "      <td>28232.0000</td>\n",
       "    </tr>\n",
       "    <tr>\n",
       "      <th>New Jersey</th>\n",
       "      <td>146504.0000</td>\n",
       "      <td>10363.0000</td>\n",
       "    </tr>\n",
       "    <tr>\n",
       "      <th>Illinois</th>\n",
       "      <td>94191.0000</td>\n",
       "      <td>4177.0000</td>\n",
       "    </tr>\n",
       "    <tr>\n",
       "      <th>Massachusetts</th>\n",
       "      <td>86010.0000</td>\n",
       "      <td>5797.0000</td>\n",
       "    </tr>\n",
       "    <tr>\n",
       "      <th>California</th>\n",
       "      <td>80166.0000</td>\n",
       "      <td>3240.0000</td>\n",
       "    </tr>\n",
       "  </tbody>\n",
       "</table>\n",
       "</div>"
      ],
      "text/plain": [
       "                 Confirmed     Deaths\n",
       "Province/State                       \n",
       "New York       350121.0000 28232.0000\n",
       "New Jersey     146504.0000 10363.0000\n",
       "Illinois        94191.0000  4177.0000\n",
       "Massachusetts   86010.0000  5797.0000\n",
       "California      80166.0000  3240.0000"
      ]
     },
     "execution_count": 67,
     "metadata": {},
     "output_type": "execute_result"
    }
   ],
   "source": [
    "ProvinceData=USData[USData[\"ObservationDate\"]==USData[\"ObservationDate\"].max()].groupby([\"Province/State\"]).agg({\"Confirmed\":'sum',\"Deaths\":'sum'}).sort_values([\"Confirmed\"],ascending=False)\n",
    "ProvinceData.head()"
   ]
  },
  {
   "cell_type": "markdown",
   "metadata": {},
   "source": [
    "## Finding top 20 provinces with highest number of Confirmed cases and highest number of deaths"
   ]
  },
  {
   "cell_type": "code",
   "execution_count": 68,
   "metadata": {},
   "outputs": [
    {
     "data": {
      "text/plain": [
       "Text(0.5, 1.0, 'Top 20 states as per Number of Deaths')"
      ]
     },
     "execution_count": 68,
     "metadata": {},
     "output_type": "execute_result"
    },
    {
     "data": {
      "image/png": "[encoded data removed]",
      "text/plain": [
       "<Figure size 1080x1440 with 2 Axes>"
      ]
     },
     "metadata": {
      "needs_background": "light"
     },
     "output_type": "display_data"
    }
   ],
   "source": [
    "fig, (ax1, ax2) = plt.subplots(2, 1,figsize=(15,20))\n",
    "top_20_confirmed=ProvinceData.sort_values([\"Confirmed\"],ascending=False).head(20)\n",
    "top_20_deaths=ProvinceData.sort_values([\"Deaths\"],ascending=False).head(20)\n",
    "sns.barplot(x=top_20_confirmed[\"Confirmed\"],y=top_20_confirmed.index,ax=ax1,color='blue')\n",
    "ax1.set_title(\"Top 20 states as per Number of Confirmed Cases\",fontsize=14)\n",
    "sns.barplot(x=top_20_deaths[\"Deaths\"],y=top_20_deaths.index,ax=ax2,color='red')\n",
    "ax2.set_title(\"Top 20 states as per Number of Deaths\",fontsize=14)"
   ]
  },
  {
   "cell_type": "markdown",
   "metadata": {},
   "source": [
    "## Finding the mortality rate for every province"
   ]
  },
  {
   "cell_type": "code",
   "execution_count": 69,
   "metadata": {},
   "outputs": [
    {
     "data": {
      "image/png": "[encoded data removed]",
      "text/plain": [
       "<Figure size 864x720 with 1 Axes>"
      ]
     },
     "metadata": {
      "needs_background": "light"
     },
     "output_type": "display_data"
    }
   ],
   "source": [
    "ProvinceData[\"Mortality\"]=(ProvinceData[\"Deaths\"]/ProvinceData[\"Confirmed\"])*100\n",
    "ProvinceData_mortality_rate=ProvinceData[ProvinceData[\"Confirmed\"]>1000].sort_values([\"Mortality\"],ascending=False).head(20)\n",
    "plt.figure(figsize=(12,10))\n",
    "ax = sns.barplot(x=ProvinceData_mortality_rate[\"Mortality\"],y=ProvinceData_mortality_rate.index,color='darkgreen')\n",
    "ax.set_title(\"Top 20 Countries according High Mortatlity Rate\",fontsize=14)\n",
    "ax.set_xlabel(\"Mortality (in Percentage)\")\n",
    "plt.show()"
   ]
  },
  {
   "cell_type": "markdown",
   "metadata": {},
   "source": [
    "## Creating state codes for plotting cases in USA"
   ]
  },
  {
   "cell_type": "code",
   "execution_count": 70,
   "metadata": {},
   "outputs": [],
   "source": [
    "us_state_abbrev = {\n",
    "    'Alabama': 'AL',\n",
    "    'Alaska': 'AK',\n",
    "    'American Samoa': 'AS',\n",
    "    'Arizona': 'AZ',\n",
    "    'Arkansas': 'AR',\n",
    "    'California': 'CA',\n",
    "    'Colorado': 'CO',\n",
    "    'Connecticut': 'CT',\n",
    "    'Delaware': 'DE',\n",
    "    'District of Columbia': 'DC',\n",
    "    'Florida': 'FL',\n",
    "    'Georgia': 'GA',\n",
    "    'Guam': 'GU',\n",
    "    'Hawaii': 'HI',\n",
    "    'Idaho': 'ID',\n",
    "    'Illinois': 'IL',\n",
    "    'Indiana': 'IN',\n",
    "    'Iowa': 'IA',\n",
    "    'Kansas': 'KS',\n",
    "    'Kentucky': 'KY',\n",
    "    'Louisiana': 'LA',\n",
    "    'Maine': 'ME',\n",
    "    'Maryland': 'MD',\n",
    "    'Massachusetts': 'MA',\n",
    "    'Michigan': 'MI',\n",
    "    'Minnesota': 'MN',\n",
    "    'Mississippi': 'MS',\n",
    "    'Missouri': 'MO',\n",
    "    'Montana': 'MT',\n",
    "    'Nebraska': 'NE',\n",
    "    'Nevada': 'NV',\n",
    "    'New Hampshire': 'NH',\n",
    "    'New Jersey': 'NJ',\n",
    "    'New Mexico': 'NM',\n",
    "    'New York': 'NY',\n",
    "    'North Carolina': 'NC',\n",
    "    'North Dakota': 'ND',\n",
    "    'Northern Mariana Islands':'MP',\n",
    "    'Ohio': 'OH',\n",
    "    'Oklahoma': 'OK',\n",
    "    'Oregon': 'OR',\n",
    "    'Pennsylvania': 'PA',\n",
    "    'Puerto Rico': 'PR',\n",
    "    'Rhode Island': 'RI',\n",
    "    'South Carolina': 'SC',\n",
    "    'South Dakota': 'SD',\n",
    "    'Tennessee': 'TN',\n",
    "    'Texas': 'TX',\n",
    "    'Utah': 'UT',\n",
    "    'Vermont': 'VT',\n",
    "    'Virgin Islands': 'VI',\n",
    "    'Virginia': 'VA',\n",
    "    'Washington': 'WA',\n",
    "    'West Virginia': 'WV',\n",
    "    'Wisconsin': 'WI',\n",
    "    'Wyoming': 'WY'\n",
    "}"
   ]
  },
  {
   "cell_type": "code",
   "execution_count": 71,
   "metadata": {},
   "outputs": [
    {
     "data": {
      "text/html": [
       "<div>\n",
       "<style scoped>\n",
       "    .dataframe tbody tr th:only-of-type {\n",
       "        vertical-align: middle;\n",
       "    }\n",
       "\n",
       "    .dataframe tbody tr th {\n",
       "        vertical-align: top;\n",
       "    }\n",
       "\n",
       "    .dataframe thead th {\n",
       "        text-align: right;\n",
       "    }\n",
       "</style>\n",
       "<table border=\"1\" class=\"dataframe\">\n",
       "  <thead>\n",
       "    <tr style=\"text-align: right;\">\n",
       "      <th></th>\n",
       "      <th>Province/State</th>\n",
       "      <th>Confirmed</th>\n",
       "      <th>Deaths</th>\n",
       "      <th>code</th>\n",
       "    </tr>\n",
       "  </thead>\n",
       "  <tbody>\n",
       "    <tr>\n",
       "      <th>0</th>\n",
       "      <td>New York</td>\n",
       "      <td>350121.0000</td>\n",
       "      <td>28232.0000</td>\n",
       "      <td>NY</td>\n",
       "    </tr>\n",
       "    <tr>\n",
       "      <th>1</th>\n",
       "      <td>New Jersey</td>\n",
       "      <td>146504.0000</td>\n",
       "      <td>10363.0000</td>\n",
       "      <td>NJ</td>\n",
       "    </tr>\n",
       "    <tr>\n",
       "      <th>2</th>\n",
       "      <td>Illinois</td>\n",
       "      <td>94191.0000</td>\n",
       "      <td>4177.0000</td>\n",
       "      <td>IL</td>\n",
       "    </tr>\n",
       "    <tr>\n",
       "      <th>3</th>\n",
       "      <td>Massachusetts</td>\n",
       "      <td>86010.0000</td>\n",
       "      <td>5797.0000</td>\n",
       "      <td>MA</td>\n",
       "    </tr>\n",
       "    <tr>\n",
       "      <th>4</th>\n",
       "      <td>California</td>\n",
       "      <td>80166.0000</td>\n",
       "      <td>3240.0000</td>\n",
       "      <td>CA</td>\n",
       "    </tr>\n",
       "    <tr>\n",
       "      <th>5</th>\n",
       "      <td>Pennsylvania</td>\n",
       "      <td>65700.0000</td>\n",
       "      <td>4495.0000</td>\n",
       "      <td>PA</td>\n",
       "    </tr>\n",
       "    <tr>\n",
       "      <th>6</th>\n",
       "      <td>Michigan</td>\n",
       "      <td>51142.0000</td>\n",
       "      <td>4891.0000</td>\n",
       "      <td>MI</td>\n",
       "    </tr>\n",
       "    <tr>\n",
       "      <th>7</th>\n",
       "      <td>Texas</td>\n",
       "      <td>48396.0000</td>\n",
       "      <td>1343.0000</td>\n",
       "      <td>TX</td>\n",
       "    </tr>\n",
       "    <tr>\n",
       "      <th>8</th>\n",
       "      <td>Florida</td>\n",
       "      <td>45588.0000</td>\n",
       "      <td>1973.0000</td>\n",
       "      <td>FL</td>\n",
       "    </tr>\n",
       "    <tr>\n",
       "      <th>9</th>\n",
       "      <td>Maryland</td>\n",
       "      <td>38804.0000</td>\n",
       "      <td>1992.0000</td>\n",
       "      <td>MD</td>\n",
       "    </tr>\n",
       "    <tr>\n",
       "      <th>10</th>\n",
       "      <td>Georgia</td>\n",
       "      <td>37579.0000</td>\n",
       "      <td>1610.0000</td>\n",
       "      <td>GA</td>\n",
       "    </tr>\n",
       "    <tr>\n",
       "      <th>11</th>\n",
       "      <td>Connecticut</td>\n",
       "      <td>37419.0000</td>\n",
       "      <td>3408.0000</td>\n",
       "      <td>CT</td>\n",
       "    </tr>\n",
       "    <tr>\n",
       "      <th>12</th>\n",
       "      <td>Louisiana</td>\n",
       "      <td>34432.0000</td>\n",
       "      <td>2491.0000</td>\n",
       "      <td>LA</td>\n",
       "    </tr>\n",
       "    <tr>\n",
       "      <th>13</th>\n",
       "      <td>Virginia</td>\n",
       "      <td>30388.0000</td>\n",
       "      <td>1010.0000</td>\n",
       "      <td>VA</td>\n",
       "    </tr>\n",
       "    <tr>\n",
       "      <th>14</th>\n",
       "      <td>Ohio</td>\n",
       "      <td>27923.0000</td>\n",
       "      <td>1625.0000</td>\n",
       "      <td>OH</td>\n",
       "    </tr>\n",
       "    <tr>\n",
       "      <th>15</th>\n",
       "      <td>Indiana</td>\n",
       "      <td>27778.0000</td>\n",
       "      <td>1751.0000</td>\n",
       "      <td>IN</td>\n",
       "    </tr>\n",
       "    <tr>\n",
       "      <th>16</th>\n",
       "      <td>Colorado</td>\n",
       "      <td>21938.0000</td>\n",
       "      <td>1215.0000</td>\n",
       "      <td>CO</td>\n",
       "    </tr>\n",
       "    <tr>\n",
       "      <th>17</th>\n",
       "      <td>North Carolina</td>\n",
       "      <td>18673.0000</td>\n",
       "      <td>686.0000</td>\n",
       "      <td>NC</td>\n",
       "    </tr>\n",
       "    <tr>\n",
       "      <th>18</th>\n",
       "      <td>Washington</td>\n",
       "      <td>18433.0000</td>\n",
       "      <td>1001.0000</td>\n",
       "      <td>WA</td>\n",
       "    </tr>\n",
       "    <tr>\n",
       "      <th>19</th>\n",
       "      <td>Tennessee</td>\n",
       "      <td>17359.0000</td>\n",
       "      <td>298.0000</td>\n",
       "      <td>TN</td>\n",
       "    </tr>\n",
       "    <tr>\n",
       "      <th>20</th>\n",
       "      <td>Minnesota</td>\n",
       "      <td>15668.0000</td>\n",
       "      <td>731.0000</td>\n",
       "      <td>MN</td>\n",
       "    </tr>\n",
       "    <tr>\n",
       "      <th>21</th>\n",
       "      <td>Iowa</td>\n",
       "      <td>14651.0000</td>\n",
       "      <td>351.0000</td>\n",
       "      <td>IA</td>\n",
       "    </tr>\n",
       "    <tr>\n",
       "      <th>22</th>\n",
       "      <td>Arizona</td>\n",
       "      <td>13945.0000</td>\n",
       "      <td>680.0000</td>\n",
       "      <td>AZ</td>\n",
       "    </tr>\n",
       "    <tr>\n",
       "      <th>23</th>\n",
       "      <td>Rhode Island</td>\n",
       "      <td>12674.0000</td>\n",
       "      <td>499.0000</td>\n",
       "      <td>RI</td>\n",
       "    </tr>\n",
       "    <tr>\n",
       "      <th>24</th>\n",
       "      <td>Wisconsin</td>\n",
       "      <td>12543.0000</td>\n",
       "      <td>453.0000</td>\n",
       "      <td>WI</td>\n",
       "    </tr>\n",
       "    <tr>\n",
       "      <th>25</th>\n",
       "      <td>Alabama</td>\n",
       "      <td>11771.0000</td>\n",
       "      <td>488.0000</td>\n",
       "      <td>AL</td>\n",
       "    </tr>\n",
       "    <tr>\n",
       "      <th>26</th>\n",
       "      <td>Mississippi</td>\n",
       "      <td>11296.0000</td>\n",
       "      <td>521.0000</td>\n",
       "      <td>MS</td>\n",
       "    </tr>\n",
       "    <tr>\n",
       "      <th>27</th>\n",
       "      <td>Missouri</td>\n",
       "      <td>11108.0000</td>\n",
       "      <td>600.0000</td>\n",
       "      <td>MO</td>\n",
       "    </tr>\n",
       "    <tr>\n",
       "      <th>28</th>\n",
       "      <td>Nebraska</td>\n",
       "      <td>10177.0000</td>\n",
       "      <td>123.0000</td>\n",
       "      <td>NE</td>\n",
       "    </tr>\n",
       "    <tr>\n",
       "      <th>29</th>\n",
       "      <td>South Carolina</td>\n",
       "      <td>8816.0000</td>\n",
       "      <td>385.0000</td>\n",
       "      <td>SC</td>\n",
       "    </tr>\n",
       "    <tr>\n",
       "      <th>30</th>\n",
       "      <td>Kansas</td>\n",
       "      <td>7953.0000</td>\n",
       "      <td>195.0000</td>\n",
       "      <td>KS</td>\n",
       "    </tr>\n",
       "    <tr>\n",
       "      <th>31</th>\n",
       "      <td>Kentucky</td>\n",
       "      <td>7688.0000</td>\n",
       "      <td>334.0000</td>\n",
       "      <td>KY</td>\n",
       "    </tr>\n",
       "    <tr>\n",
       "      <th>32</th>\n",
       "      <td>Delaware</td>\n",
       "      <td>7670.0000</td>\n",
       "      <td>290.0000</td>\n",
       "      <td>DE</td>\n",
       "    </tr>\n",
       "    <tr>\n",
       "      <th>33</th>\n",
       "      <td>Utah</td>\n",
       "      <td>7238.0000</td>\n",
       "      <td>80.0000</td>\n",
       "      <td>UT</td>\n",
       "    </tr>\n",
       "    <tr>\n",
       "      <th>34</th>\n",
       "      <td>District of Columbia</td>\n",
       "      <td>7123.0000</td>\n",
       "      <td>383.0000</td>\n",
       "      <td>DC</td>\n",
       "    </tr>\n",
       "    <tr>\n",
       "      <th>35</th>\n",
       "      <td>Nevada</td>\n",
       "      <td>6949.0000</td>\n",
       "      <td>350.0000</td>\n",
       "      <td>NV</td>\n",
       "    </tr>\n",
       "    <tr>\n",
       "      <th>36</th>\n",
       "      <td>New Mexico</td>\n",
       "      <td>5938.0000</td>\n",
       "      <td>265.0000</td>\n",
       "      <td>NM</td>\n",
       "    </tr>\n",
       "    <tr>\n",
       "      <th>37</th>\n",
       "      <td>Oklahoma</td>\n",
       "      <td>5310.0000</td>\n",
       "      <td>288.0000</td>\n",
       "      <td>OK</td>\n",
       "    </tr>\n",
       "    <tr>\n",
       "      <th>38</th>\n",
       "      <td>Arkansas</td>\n",
       "      <td>4759.0000</td>\n",
       "      <td>98.0000</td>\n",
       "      <td>AR</td>\n",
       "    </tr>\n",
       "    <tr>\n",
       "      <th>39</th>\n",
       "      <td>South Dakota</td>\n",
       "      <td>3987.0000</td>\n",
       "      <td>44.0000</td>\n",
       "      <td>SD</td>\n",
       "    </tr>\n",
       "    <tr>\n",
       "      <th>40</th>\n",
       "      <td>Oregon</td>\n",
       "      <td>3623.0000</td>\n",
       "      <td>137.0000</td>\n",
       "      <td>OR</td>\n",
       "    </tr>\n",
       "    <tr>\n",
       "      <th>41</th>\n",
       "      <td>New Hampshire</td>\n",
       "      <td>3596.0000</td>\n",
       "      <td>172.0000</td>\n",
       "      <td>NH</td>\n",
       "    </tr>\n",
       "    <tr>\n",
       "      <th>42</th>\n",
       "      <td>Puerto Rico</td>\n",
       "      <td>2646.0000</td>\n",
       "      <td>123.0000</td>\n",
       "      <td>PR</td>\n",
       "    </tr>\n",
       "    <tr>\n",
       "      <th>43</th>\n",
       "      <td>Idaho</td>\n",
       "      <td>2419.0000</td>\n",
       "      <td>73.0000</td>\n",
       "      <td>ID</td>\n",
       "    </tr>\n",
       "    <tr>\n",
       "      <th>44</th>\n",
       "      <td>North Dakota</td>\n",
       "      <td>1900.0000</td>\n",
       "      <td>43.0000</td>\n",
       "      <td>ND</td>\n",
       "    </tr>\n",
       "    <tr>\n",
       "      <th>45</th>\n",
       "      <td>Maine</td>\n",
       "      <td>1687.0000</td>\n",
       "      <td>70.0000</td>\n",
       "      <td>ME</td>\n",
       "    </tr>\n",
       "    <tr>\n",
       "      <th>46</th>\n",
       "      <td>West Virginia</td>\n",
       "      <td>1492.0000</td>\n",
       "      <td>67.0000</td>\n",
       "      <td>WV</td>\n",
       "    </tr>\n",
       "    <tr>\n",
       "      <th>47</th>\n",
       "      <td>Vermont</td>\n",
       "      <td>940.0000</td>\n",
       "      <td>54.0000</td>\n",
       "      <td>VT</td>\n",
       "    </tr>\n",
       "    <tr>\n",
       "      <th>48</th>\n",
       "      <td>Wyoming</td>\n",
       "      <td>754.0000</td>\n",
       "      <td>8.0000</td>\n",
       "      <td>WY</td>\n",
       "    </tr>\n",
       "    <tr>\n",
       "      <th>49</th>\n",
       "      <td>Hawaii</td>\n",
       "      <td>640.0000</td>\n",
       "      <td>17.0000</td>\n",
       "      <td>HI</td>\n",
       "    </tr>\n",
       "    <tr>\n",
       "      <th>50</th>\n",
       "      <td>Montana</td>\n",
       "      <td>468.0000</td>\n",
       "      <td>16.0000</td>\n",
       "      <td>MT</td>\n",
       "    </tr>\n",
       "    <tr>\n",
       "      <th>51</th>\n",
       "      <td>Alaska</td>\n",
       "      <td>388.0000</td>\n",
       "      <td>10.0000</td>\n",
       "      <td>AK</td>\n",
       "    </tr>\n",
       "    <tr>\n",
       "      <th>52</th>\n",
       "      <td>Guam</td>\n",
       "      <td>154.0000</td>\n",
       "      <td>5.0000</td>\n",
       "      <td>GU</td>\n",
       "    </tr>\n",
       "    <tr>\n",
       "      <th>54</th>\n",
       "      <td>Virgin Islands</td>\n",
       "      <td>69.0000</td>\n",
       "      <td>6.0000</td>\n",
       "      <td>VI</td>\n",
       "    </tr>\n",
       "    <tr>\n",
       "      <th>56</th>\n",
       "      <td>Northern Mariana Islands</td>\n",
       "      <td>21.0000</td>\n",
       "      <td>2.0000</td>\n",
       "      <td>MP</td>\n",
       "    </tr>\n",
       "  </tbody>\n",
       "</table>\n",
       "</div>"
      ],
      "text/plain": [
       "              Province/State   Confirmed     Deaths code\n",
       "0                   New York 350121.0000 28232.0000   NY\n",
       "1                 New Jersey 146504.0000 10363.0000   NJ\n",
       "2                   Illinois  94191.0000  4177.0000   IL\n",
       "3              Massachusetts  86010.0000  5797.0000   MA\n",
       "4                 California  80166.0000  3240.0000   CA\n",
       "5               Pennsylvania  65700.0000  4495.0000   PA\n",
       "6                   Michigan  51142.0000  4891.0000   MI\n",
       "7                      Texas  48396.0000  1343.0000   TX\n",
       "8                    Florida  45588.0000  1973.0000   FL\n",
       "9                   Maryland  38804.0000  1992.0000   MD\n",
       "10                   Georgia  37579.0000  1610.0000   GA\n",
       "11               Connecticut  37419.0000  3408.0000   CT\n",
       "12                 Louisiana  34432.0000  2491.0000   LA\n",
       "13                  Virginia  30388.0000  1010.0000   VA\n",
       "14                      Ohio  27923.0000  1625.0000   OH\n",
       "15                   Indiana  27778.0000  1751.0000   IN\n",
       "16                  Colorado  21938.0000  1215.0000   CO\n",
       "17            North Carolina  18673.0000   686.0000   NC\n",
       "18                Washington  18433.0000  1001.0000   WA\n",
       "19                 Tennessee  17359.0000   298.0000   TN\n",
       "20                 Minnesota  15668.0000   731.0000   MN\n",
       "21                      Iowa  14651.0000   351.0000   IA\n",
       "22                   Arizona  13945.0000   680.0000   AZ\n",
       "23              Rhode Island  12674.0000   499.0000   RI\n",
       "24                 Wisconsin  12543.0000   453.0000   WI\n",
       "25                   Alabama  11771.0000   488.0000   AL\n",
       "26               Mississippi  11296.0000   521.0000   MS\n",
       "27                  Missouri  11108.0000   600.0000   MO\n",
       "28                  Nebraska  10177.0000   123.0000   NE\n",
       "29            South Carolina   8816.0000   385.0000   SC\n",
       "30                    Kansas   7953.0000   195.0000   KS\n",
       "31                  Kentucky   7688.0000   334.0000   KY\n",
       "32                  Delaware   7670.0000   290.0000   DE\n",
       "33                      Utah   7238.0000    80.0000   UT\n",
       "34      District of Columbia   7123.0000   383.0000   DC\n",
       "35                    Nevada   6949.0000   350.0000   NV\n",
       "36                New Mexico   5938.0000   265.0000   NM\n",
       "37                  Oklahoma   5310.0000   288.0000   OK\n",
       "38                  Arkansas   4759.0000    98.0000   AR\n",
       "39              South Dakota   3987.0000    44.0000   SD\n",
       "40                    Oregon   3623.0000   137.0000   OR\n",
       "41             New Hampshire   3596.0000   172.0000   NH\n",
       "42               Puerto Rico   2646.0000   123.0000   PR\n",
       "43                     Idaho   2419.0000    73.0000   ID\n",
       "44              North Dakota   1900.0000    43.0000   ND\n",
       "45                     Maine   1687.0000    70.0000   ME\n",
       "46             West Virginia   1492.0000    67.0000   WV\n",
       "47                   Vermont    940.0000    54.0000   VT\n",
       "48                   Wyoming    754.0000     8.0000   WY\n",
       "49                    Hawaii    640.0000    17.0000   HI\n",
       "50                   Montana    468.0000    16.0000   MT\n",
       "51                    Alaska    388.0000    10.0000   AK\n",
       "52                      Guam    154.0000     5.0000   GU\n",
       "54            Virgin Islands     69.0000     6.0000   VI\n",
       "56  Northern Mariana Islands     21.0000     2.0000   MP"
      ]
     },
     "execution_count": 71,
     "metadata": {},
     "output_type": "execute_result"
    }
   ],
   "source": [
    "MapData=USData[USData[\"ObservationDate\"]==USData[\"ObservationDate\"].max()].groupby([\"Province/State\"]).agg({\"Confirmed\":'sum',\"Deaths\":'sum'}).sort_values([\"Confirmed\"],ascending=False).reset_index()\n",
    "x=0\n",
    "MapData['code']=1\n",
    "for i in MapData['Province/State']:\n",
    "    if i in us_state_abbrev:\n",
    "        MapData.iloc[x,3]=us_state_abbrev[i]\n",
    "        \n",
    "    x=x+1\n",
    "df=MapData[MapData['code']!=1]\n",
    "df"
   ]
  },
  {
   "cell_type": "markdown",
   "metadata": {},
   "source": [
    "## Plotting a map for Number of Confirmed Cases in the US"
   ]
  },
  {
   "cell_type": "code",
   "execution_count": 72,
   "metadata": {},
   "outputs": [
    {
     "data": {
      "application/vnd.plotly.v1+json": {
       "config": {
        "plotlyServerURL": "https://plot.ly"
       },
       "data": [
        {
         "colorbar": {
          "title": {
           "text": "Confirmed Cases in thousands"
          }
         },
         "colorscale": [
          [
           0,
           "rgb(255,247,236)"
          ],
          [
           0.125,
           "rgb(254,232,200)"
          ],
          [
           0.25,
           "rgb(253,212,158)"
          ],
          [
           0.375,
           "rgb(253,187,132)"
          ],
          [
           0.5,
           "rgb(252,141,89)"
          ],
          [
           0.625,
           "rgb(239,101,72)"
          ],
          [
           0.75,
           "rgb(215,48,31)"
          ],
          [
           0.875,
           "rgb(179,0,0)"
          ],
          [
           1,
           "rgb(127,0,0)"
          ]
         ],
         "locationmode": "USA-states",
         "locations": [
          "NY",
          "NJ",
          "IL",
          "MA",
          "CA",
          "PA",
          "MI",
          "TX",
          "FL",
          "MD",
          "GA",
          "CT",
          "LA",
          "VA",
          "OH",
          "IN",
          "CO",
          "NC",
          "WA",
          "TN",
          "MN",
          "IA",
          "AZ",
          "RI",
          "WI",
          "AL",
          "MS",
          "MO",
          "NE",
          "SC",
          "KS",
          "KY",
          "DE",
          "UT",
          "DC",
          "NV",
          "NM",
          "OK",
          "AR",
          "SD",
          "OR",
          "NH",
          "PR",
          "ID",
          "ND",
          "ME",
          "WV",
          "VT",
          "WY",
          "HI",
          "MT",
          "AK",
          "GU",
          "VI",
          "MP"
         ],
         "type": "choropleth",
         "z": [
          350121,
          146504,
          94191,
          86010,
          80166,
          65700,
          51142,
          48396,
          45588,
          38804,
          37579,
          37419,
          34432,
          30388,
          27923,
          27778,
          21938,
          18673,
          18433,
          17359,
          15668,
          14651,
          13945,
          12674,
          12543,
          11771,
          11296,
          11108,
          10177,
          8816,
          7953,
          7688,
          7670,
          7238,
          7123,
          6949,
          5938,
          5310,
          4759,
          3987,
          3623,
          3596,
          2646,
          2419,
          1900,
          1687,
          1492,
          940,
          754,
          640,
          468,
          388,
          154,
          69,
          21
         ]
        }
       ],
       "layout": {
        "geo": {
         "scope": "usa"
        },
        "template": {
         "data": {
          "bar": [
           {
            "error_x": {
             "color": "#2a3f5f"
            },
            "error_y": {
             "color": "#2a3f5f"
            },
            "marker": {
             "line": {
              "color": "#E5ECF6",
              "width": 0.5
             }
            },
            "type": "bar"
           }
          ],
          "barpolar": [
           {
            "marker": {
             "line": {
              "color": "#E5ECF6",
              "width": 0.5
             }
            },
            "type": "barpolar"
           }
          ],
          "carpet": [
           {
            "aaxis": {
             "endlinecolor": "#2a3f5f",
             "gridcolor": "white",
             "linecolor": "white",
             "minorgridcolor": "white",
             "startlinecolor": "#2a3f5f"
            },
            "baxis": {
             "endlinecolor": "#2a3f5f",
             "gridcolor": "white",
             "linecolor": "white",
             "minorgridcolor": "white",
             "startlinecolor": "#2a3f5f"
            },
            "type": "carpet"
           }
          ],
          "choropleth": [
           {
            "colorbar": {
             "outlinewidth": 0,
             "ticks": ""
            },
            "type": "choropleth"
           }
          ],
          "contour": [
           {
            "colorbar": {
             "outlinewidth": 0,
             "ticks": ""
            },
            "colorscale": [
             [
              0,
              "#0d0887"
             ],
             [
              0.1111111111111111,
              "#46039f"
             ],
             [
              0.2222222222222222,
              "#7201a8"
             ],
             [
              0.3333333333333333,
              "#9c179e"
             ],
             [
              0.4444444444444444,
              "#bd3786"
             ],
             [
              0.5555555555555556,
              "#d8576b"
             ],
             [
              0.6666666666666666,
              "#ed7953"
             ],
             [
              0.7777777777777778,
              "#fb9f3a"
             ],
             [
              0.8888888888888888,
              "#fdca26"
             ],
             [
              1,
              "#f0f921"
             ]
            ],
            "type": "contour"
           }
          ],
          "contourcarpet": [
           {
            "colorbar": {
             "outlinewidth": 0,
             "ticks": ""
            },
            "type": "contourcarpet"
           }
          ],
          "heatmap": [
           {
            "colorbar": {
             "outlinewidth": 0,
             "ticks": ""
            },
            "colorscale": [
             [
              0,
              "#0d0887"
             ],
             [
              0.1111111111111111,
              "#46039f"
             ],
             [
              0.2222222222222222,
              "#7201a8"
             ],
             [
              0.3333333333333333,
              "#9c179e"
             ],
             [
              0.4444444444444444,
              "#bd3786"
             ],
             [
              0.5555555555555556,
              "#d8576b"
             ],
             [
              0.6666666666666666,
              "#ed7953"
             ],
             [
              0.7777777777777778,
              "#fb9f3a"
             ],
             [
              0.8888888888888888,
              "#fdca26"
             ],
             [
              1,
              "#f0f921"
             ]
            ],
            "type": "heatmap"
           }
          ],
          "heatmapgl": [
           {
            "colorbar": {
             "outlinewidth": 0,
             "ticks": ""
            },
            "colorscale": [
             [
              0,
              "#0d0887"
             ],
             [
              0.1111111111111111,
              "#46039f"
             ],
             [
              0.2222222222222222,
              "#7201a8"
             ],
             [
              0.3333333333333333,
              "#9c179e"
             ],
             [
              0.4444444444444444,
              "#bd3786"
             ],
             [
              0.5555555555555556,
              "#d8576b"
             ],
             [
              0.6666666666666666,
              "#ed7953"
             ],
             [
              0.7777777777777778,
              "#fb9f3a"
             ],
             [
              0.8888888888888888,
              "#fdca26"
             ],
             [
              1,
              "#f0f921"
             ]
            ],
            "type": "heatmapgl"
           }
          ],
          "histogram": [
           {
            "marker": {
             "colorbar": {
              "outlinewidth": 0,
              "ticks": ""
             }
            },
            "type": "histogram"
           }
          ],
          "histogram2d": [
           {
            "colorbar": {
             "outlinewidth": 0,
             "ticks": ""
            },
            "colorscale": [
             [
              0,
              "#0d0887"
             ],
             [
              0.1111111111111111,
              "#46039f"
             ],
             [
              0.2222222222222222,
              "#7201a8"
             ],
             [
              0.3333333333333333,
              "#9c179e"
             ],
             [
              0.4444444444444444,
              "#bd3786"
             ],
             [
              0.5555555555555556,
              "#d8576b"
             ],
             [
              0.6666666666666666,
              "#ed7953"
             ],
             [
              0.7777777777777778,
              "#fb9f3a"
             ],
             [
              0.8888888888888888,
              "#fdca26"
             ],
             [
              1,
              "#f0f921"
             ]
            ],
            "type": "histogram2d"
           }
          ],
          "histogram2dcontour": [
           {
            "colorbar": {
             "outlinewidth": 0,
             "ticks": ""
            },
            "colorscale": [
             [
              0,
              "#0d0887"
             ],
             [
              0.1111111111111111,
              "#46039f"
             ],
             [
              0.2222222222222222,
              "#7201a8"
             ],
             [
              0.3333333333333333,
              "#9c179e"
             ],
             [
              0.4444444444444444,
              "#bd3786"
             ],
             [
              0.5555555555555556,
              "#d8576b"
             ],
             [
              0.6666666666666666,
              "#ed7953"
             ],
             [
              0.7777777777777778,
              "#fb9f3a"
             ],
             [
              0.8888888888888888,
              "#fdca26"
             ],
             [
              1,
              "#f0f921"
             ]
            ],
            "type": "histogram2dcontour"
           }
          ],
          "mesh3d": [
           {
            "colorbar": {
             "outlinewidth": 0,
             "ticks": ""
            },
            "type": "mesh3d"
           }
          ],
          "parcoords": [
           {
            "line": {
             "colorbar": {
              "outlinewidth": 0,
              "ticks": ""
             }
            },
            "type": "parcoords"
           }
          ],
          "pie": [
           {
            "automargin": true,
            "type": "pie"
           }
          ],
          "scatter": [
           {
            "marker": {
             "colorbar": {
              "outlinewidth": 0,
              "ticks": ""
             }
            },
            "type": "scatter"
           }
          ],
          "scatter3d": [
           {
            "line": {
             "colorbar": {
              "outlinewidth": 0,
              "ticks": ""
             }
            },
            "marker": {
             "colorbar": {
              "outlinewidth": 0,
              "ticks": ""
             }
            },
            "type": "scatter3d"
           }
          ],
          "scattercarpet": [
           {
            "marker": {
             "colorbar": {
              "outlinewidth": 0,
              "ticks": ""
             }
            },
            "type": "scattercarpet"
           }
          ],
          "scattergeo": [
           {
            "marker": {
             "colorbar": {
              "outlinewidth": 0,
              "ticks": ""
             }
            },
            "type": "scattergeo"
           }
          ],
          "scattergl": [
           {
            "marker": {
             "colorbar": {
              "outlinewidth": 0,
              "ticks": ""
             }
            },
            "type": "scattergl"
           }
          ],
          "scattermapbox": [
           {
            "marker": {
             "colorbar": {
              "outlinewidth": 0,
              "ticks": ""
             }
            },
            "type": "scattermapbox"
           }
          ],
          "scatterpolar": [
           {
            "marker": {
             "colorbar": {
              "outlinewidth": 0,
              "ticks": ""
             }
            },
            "type": "scatterpolar"
           }
          ],
          "scatterpolargl": [
           {
            "marker": {
             "colorbar": {
              "outlinewidth": 0,
              "ticks": ""
             }
            },
            "type": "scatterpolargl"
           }
          ],
          "scatterternary": [
           {
            "marker": {
             "colorbar": {
              "outlinewidth": 0,
              "ticks": ""
             }
            },
            "type": "scatterternary"
           }
          ],
          "surface": [
           {
            "colorbar": {
             "outlinewidth": 0,
             "ticks": ""
            },
            "colorscale": [
             [
              0,
              "#0d0887"
             ],
             [
              0.1111111111111111,
              "#46039f"
             ],
             [
              0.2222222222222222,
              "#7201a8"
             ],
             [
              0.3333333333333333,
              "#9c179e"
             ],
             [
              0.4444444444444444,
              "#bd3786"
             ],
             [
              0.5555555555555556,
              "#d8576b"
             ],
             [
              0.6666666666666666,
              "#ed7953"
             ],
             [
              0.7777777777777778,
              "#fb9f3a"
             ],
             [
              0.8888888888888888,
              "#fdca26"
             ],
             [
              1,
              "#f0f921"
             ]
            ],
            "type": "surface"
           }
          ],
          "table": [
           {
            "cells": {
             "fill": {
              "color": "#EBF0F8"
             },
             "line": {
              "color": "white"
             }
            },
            "header": {
             "fill": {
              "color": "#C8D4E3"
             },
             "line": {
              "color": "white"
             }
            },
            "type": "table"
           }
          ]
         },
         "layout": {
          "annotationdefaults": {
           "arrowcolor": "#2a3f5f",
           "arrowhead": 0,
           "arrowwidth": 1
          },
          "coloraxis": {
           "colorbar": {
            "outlinewidth": 0,
            "ticks": ""
           }
          },
          "colorscale": {
           "diverging": [
            [
             0,
             "#8e0152"
            ],
            [
             0.1,
             "#c51b7d"
            ],
            [
             0.2,
             "#de77ae"
            ],
            [
             0.3,
             "#f1b6da"
            ],
            [
             0.4,
             "#fde0ef"
            ],
            [
             0.5,
             "#f7f7f7"
            ],
            [
             0.6,
             "#e6f5d0"
            ],
            [
             0.7,
             "#b8e186"
            ],
            [
             0.8,
             "#7fbc41"
            ],
            [
             0.9,
             "#4d9221"
            ],
            [
             1,
             "#276419"
            ]
           ],
           "sequential": [
            [
             0,
             "#0d0887"
            ],
            [
             0.1111111111111111,
             "#46039f"
            ],
            [
             0.2222222222222222,
             "#7201a8"
            ],
            [
             0.3333333333333333,
             "#9c179e"
            ],
            [
             0.4444444444444444,
             "#bd3786"
            ],
            [
             0.5555555555555556,
             "#d8576b"
            ],
            [
             0.6666666666666666,
             "#ed7953"
            ],
            [
             0.7777777777777778,
             "#fb9f3a"
            ],
            [
             0.8888888888888888,
             "#fdca26"
            ],
            [
             1,
             "#f0f921"
            ]
           ],
           "sequentialminus": [
            [
             0,
             "#0d0887"
            ],
            [
             0.1111111111111111,
             "#46039f"
            ],
            [
             0.2222222222222222,
             "#7201a8"
            ],
            [
             0.3333333333333333,
             "#9c179e"
            ],
            [
             0.4444444444444444,
             "#bd3786"
            ],
            [
             0.5555555555555556,
             "#d8576b"
            ],
            [
             0.6666666666666666,
             "#ed7953"
            ],
            [
             0.7777777777777778,
             "#fb9f3a"
            ],
            [
             0.8888888888888888,
             "#fdca26"
            ],
            [
             1,
             "#f0f921"
            ]
           ]
          },
          "colorway": [
           "#636efa",
           "#EF553B",
           "#00cc96",
           "#ab63fa",
           "#FFA15A",
           "#19d3f3",
           "#FF6692",
           "#B6E880",
           "#FF97FF",
           "#FECB52"
          ],
          "font": {
           "color": "#2a3f5f"
          },
          "geo": {
           "bgcolor": "white",
           "lakecolor": "white",
           "landcolor": "#E5ECF6",
           "showlakes": true,
           "showland": true,
           "subunitcolor": "white"
          },
          "hoverlabel": {
           "align": "left"
          },
          "hovermode": "closest",
          "mapbox": {
           "style": "light"
          },
          "paper_bgcolor": "white",
          "plot_bgcolor": "#E5ECF6",
          "polar": {
           "angularaxis": {
            "gridcolor": "white",
            "linecolor": "white",
            "ticks": ""
           },
           "bgcolor": "#E5ECF6",
           "radialaxis": {
            "gridcolor": "white",
            "linecolor": "white",
            "ticks": ""
           }
          },
          "scene": {
           "xaxis": {
            "backgroundcolor": "#E5ECF6",
            "gridcolor": "white",
            "gridwidth": 2,
            "linecolor": "white",
            "showbackground": true,
            "ticks": "",
            "zerolinecolor": "white"
           },
           "yaxis": {
            "backgroundcolor": "#E5ECF6",
            "gridcolor": "white",
            "gridwidth": 2,
            "linecolor": "white",
            "showbackground": true,
            "ticks": "",
            "zerolinecolor": "white"
           },
           "zaxis": {
            "backgroundcolor": "#E5ECF6",
            "gridcolor": "white",
            "gridwidth": 2,
            "linecolor": "white",
            "showbackground": true,
            "ticks": "",
            "zerolinecolor": "white"
           }
          },
          "shapedefaults": {
           "line": {
            "color": "#2a3f5f"
           }
          },
          "ternary": {
           "aaxis": {
            "gridcolor": "white",
            "linecolor": "white",
            "ticks": ""
           },
           "baxis": {
            "gridcolor": "white",
            "linecolor": "white",
            "ticks": ""
           },
           "bgcolor": "#E5ECF6",
           "caxis": {
            "gridcolor": "white",
            "linecolor": "white",
            "ticks": ""
           }
          },
          "title": {
           "x": 0.05
          },
          "xaxis": {
           "automargin": true,
           "gridcolor": "white",
           "linecolor": "white",
           "ticks": "",
           "title": {
            "standoff": 15
           },
           "zerolinecolor": "white",
           "zerolinewidth": 2
          },
          "yaxis": {
           "automargin": true,
           "gridcolor": "white",
           "linecolor": "white",
           "ticks": "",
           "title": {
            "standoff": 15
           },
           "zerolinecolor": "white",
           "zerolinewidth": 2
          }
         }
        },
        "title": {
         "text": "NUMBER OF CONFIRMED CASES IN DIFFERENT STATES IN USA"
        }
       }
      },
      "text/html": [
       "<div>\n",
       "        \n",
       "        \n",
       "            <div id=\"b9b6d544-1efb-4a2d-9cb9-98087b36c8fa\" class=\"plotly-graph-div\" style=\"height:525px; width:100%;\"></div>\n",
       "            <script type=\"text/javascript\">\n",
       "                require([\"plotly\"], function(Plotly) {\n",
       "                    window.PLOTLYENV=window.PLOTLYENV || {};\n",
       "                    \n",
       "                if (document.getElementById(\"b9b6d544-1efb-4a2d-9cb9-98087b36c8fa\")) {\n",
       "                    Plotly.newPlot(\n",
       "                        'b9b6d544-1efb-4a2d-9cb9-98087b36c8fa',\n",
       "                        [{\"colorbar\": {\"title\": {\"text\": \"Confirmed Cases in thousands\"}}, \"colorscale\": [[0.0, \"rgb(255,247,236)\"], [0.125, \"rgb(254,232,200)\"], [0.25, \"rgb(253,212,158)\"], [0.375, \"rgb(253,187,132)\"], [0.5, \"rgb(252,141,89)\"], [0.625, \"rgb(239,101,72)\"], [0.75, \"rgb(215,48,31)\"], [0.875, \"rgb(179,0,0)\"], [1.0, \"rgb(127,0,0)\"]], \"locationmode\": \"USA-states\", \"locations\": [\"NY\", \"NJ\", \"IL\", \"MA\", \"CA\", \"PA\", \"MI\", \"TX\", \"FL\", \"MD\", \"GA\", \"CT\", \"LA\", \"VA\", \"OH\", \"IN\", \"CO\", \"NC\", \"WA\", \"TN\", \"MN\", \"IA\", \"AZ\", \"RI\", \"WI\", \"AL\", \"MS\", \"MO\", \"NE\", \"SC\", \"KS\", \"KY\", \"DE\", \"UT\", \"DC\", \"NV\", \"NM\", \"OK\", \"AR\", \"SD\", \"OR\", \"NH\", \"PR\", \"ID\", \"ND\", \"ME\", \"WV\", \"VT\", \"WY\", \"HI\", \"MT\", \"AK\", \"GU\", \"VI\", \"MP\"], \"type\": \"choropleth\", \"z\": [350121.0, 146504.0, 94191.0, 86010.0, 80166.0, 65700.0, 51142.0, 48396.0, 45588.0, 38804.0, 37579.0, 37419.0, 34432.0, 30388.0, 27923.0, 27778.0, 21938.0, 18673.0, 18433.0, 17359.0, 15668.0, 14651.0, 13945.0, 12674.0, 12543.0, 11771.0, 11296.0, 11108.0, 10177.0, 8816.0, 7953.0, 7688.0, 7670.0, 7238.0, 7123.0, 6949.0, 5938.0, 5310.0, 4759.0, 3987.0, 3623.0, 3596.0, 2646.0, 2419.0, 1900.0, 1687.0, 1492.0, 940.0, 754.0, 640.0, 468.0, 388.0, 154.0, 69.0, 21.0]}],\n",
       "                        {\"geo\": {\"scope\": \"usa\"}, \"template\": {\"data\": {\"bar\": [{\"error_x\": {\"color\": \"#2a3f5f\"}, \"error_y\": {\"color\": \"#2a3f5f\"}, \"marker\": {\"line\": {\"color\": \"#E5ECF6\", \"width\": 0.5}}, \"type\": \"bar\"}], \"barpolar\": [{\"marker\": {\"line\": {\"color\": \"#E5ECF6\", \"width\": 0.5}}, \"type\": \"barpolar\"}], \"carpet\": [{\"aaxis\": {\"endlinecolor\": \"#2a3f5f\", \"gridcolor\": \"white\", \"linecolor\": \"white\", \"minorgridcolor\": \"white\", \"startlinecolor\": \"#2a3f5f\"}, \"baxis\": {\"endlinecolor\": \"#2a3f5f\", \"gridcolor\": \"white\", \"linecolor\": \"white\", \"minorgridcolor\": \"white\", \"startlinecolor\": \"#2a3f5f\"}, \"type\": \"carpet\"}], \"choropleth\": [{\"colorbar\": {\"outlinewidth\": 0, \"ticks\": \"\"}, \"type\": \"choropleth\"}], \"contour\": [{\"colorbar\": {\"outlinewidth\": 0, \"ticks\": \"\"}, \"colorscale\": [[0.0, \"#0d0887\"], [0.1111111111111111, \"#46039f\"], [0.2222222222222222, \"#7201a8\"], [0.3333333333333333, \"#9c179e\"], [0.4444444444444444, \"#bd3786\"], [0.5555555555555556, \"#d8576b\"], [0.6666666666666666, \"#ed7953\"], [0.7777777777777778, \"#fb9f3a\"], [0.8888888888888888, \"#fdca26\"], [1.0, \"#f0f921\"]], \"type\": \"contour\"}], \"contourcarpet\": [{\"colorbar\": {\"outlinewidth\": 0, \"ticks\": \"\"}, \"type\": \"contourcarpet\"}], \"heatmap\": [{\"colorbar\": {\"outlinewidth\": 0, \"ticks\": \"\"}, \"colorscale\": [[0.0, \"#0d0887\"], [0.1111111111111111, \"#46039f\"], [0.2222222222222222, \"#7201a8\"], [0.3333333333333333, \"#9c179e\"], [0.4444444444444444, \"#bd3786\"], [0.5555555555555556, \"#d8576b\"], [0.6666666666666666, \"#ed7953\"], [0.7777777777777778, \"#fb9f3a\"], [0.8888888888888888, \"#fdca26\"], [1.0, \"#f0f921\"]], \"type\": \"heatmap\"}], \"heatmapgl\": [{\"colorbar\": {\"outlinewidth\": 0, \"ticks\": \"\"}, \"colorscale\": [[0.0, \"#0d0887\"], [0.1111111111111111, \"#46039f\"], [0.2222222222222222, \"#7201a8\"], [0.3333333333333333, \"#9c179e\"], [0.4444444444444444, \"#bd3786\"], [0.5555555555555556, \"#d8576b\"], [0.6666666666666666, \"#ed7953\"], [0.7777777777777778, \"#fb9f3a\"], [0.8888888888888888, \"#fdca26\"], [1.0, \"#f0f921\"]], \"type\": \"heatmapgl\"}], \"histogram\": [{\"marker\": {\"colorbar\": {\"outlinewidth\": 0, \"ticks\": \"\"}}, \"type\": \"histogram\"}], \"histogram2d\": [{\"colorbar\": {\"outlinewidth\": 0, \"ticks\": \"\"}, \"colorscale\": [[0.0, \"#0d0887\"], [0.1111111111111111, \"#46039f\"], [0.2222222222222222, \"#7201a8\"], [0.3333333333333333, \"#9c179e\"], [0.4444444444444444, \"#bd3786\"], [0.5555555555555556, \"#d8576b\"], [0.6666666666666666, \"#ed7953\"], [0.7777777777777778, \"#fb9f3a\"], [0.8888888888888888, \"#fdca26\"], [1.0, \"#f0f921\"]], \"type\": \"histogram2d\"}], \"histogram2dcontour\": [{\"colorbar\": {\"outlinewidth\": 0, \"ticks\": \"\"}, \"colorscale\": [[0.0, \"#0d0887\"], [0.1111111111111111, \"#46039f\"], [0.2222222222222222, \"#7201a8\"], [0.3333333333333333, \"#9c179e\"], [0.4444444444444444, \"#bd3786\"], [0.5555555555555556, \"#d8576b\"], [0.6666666666666666, \"#ed7953\"], [0.7777777777777778, \"#fb9f3a\"], [0.8888888888888888, \"#fdca26\"], [1.0, \"#f0f921\"]], \"type\": \"histogram2dcontour\"}], \"mesh3d\": [{\"colorbar\": {\"outlinewidth\": 0, \"ticks\": \"\"}, \"type\": \"mesh3d\"}], \"parcoords\": [{\"line\": {\"colorbar\": {\"outlinewidth\": 0, \"ticks\": \"\"}}, \"type\": \"parcoords\"}], \"pie\": [{\"automargin\": true, \"type\": \"pie\"}], \"scatter\": [{\"marker\": {\"colorbar\": {\"outlinewidth\": 0, \"ticks\": \"\"}}, \"type\": \"scatter\"}], \"scatter3d\": [{\"line\": {\"colorbar\": {\"outlinewidth\": 0, \"ticks\": \"\"}}, \"marker\": {\"colorbar\": {\"outlinewidth\": 0, \"ticks\": \"\"}}, \"type\": \"scatter3d\"}], \"scattercarpet\": [{\"marker\": {\"colorbar\": {\"outlinewidth\": 0, \"ticks\": \"\"}}, \"type\": \"scattercarpet\"}], \"scattergeo\": [{\"marker\": {\"colorbar\": {\"outlinewidth\": 0, \"ticks\": \"\"}}, \"type\": \"scattergeo\"}], \"scattergl\": [{\"marker\": {\"colorbar\": {\"outlinewidth\": 0, \"ticks\": \"\"}}, \"type\": \"scattergl\"}], \"scattermapbox\": [{\"marker\": {\"colorbar\": {\"outlinewidth\": 0, \"ticks\": \"\"}}, \"type\": \"scattermapbox\"}], \"scatterpolar\": [{\"marker\": {\"colorbar\": {\"outlinewidth\": 0, \"ticks\": \"\"}}, \"type\": \"scatterpolar\"}], \"scatterpolargl\": [{\"marker\": {\"colorbar\": {\"outlinewidth\": 0, \"ticks\": \"\"}}, \"type\": \"scatterpolargl\"}], \"scatterternary\": [{\"marker\": {\"colorbar\": {\"outlinewidth\": 0, \"ticks\": \"\"}}, \"type\": \"scatterternary\"}], \"surface\": [{\"colorbar\": {\"outlinewidth\": 0, \"ticks\": \"\"}, \"colorscale\": [[0.0, \"#0d0887\"], [0.1111111111111111, \"#46039f\"], [0.2222222222222222, \"#7201a8\"], [0.3333333333333333, \"#9c179e\"], [0.4444444444444444, \"#bd3786\"], [0.5555555555555556, \"#d8576b\"], [0.6666666666666666, \"#ed7953\"], [0.7777777777777778, \"#fb9f3a\"], [0.8888888888888888, \"#fdca26\"], [1.0, \"#f0f921\"]], \"type\": \"surface\"}], \"table\": [{\"cells\": {\"fill\": {\"color\": \"#EBF0F8\"}, \"line\": {\"color\": \"white\"}}, \"header\": {\"fill\": {\"color\": \"#C8D4E3\"}, \"line\": {\"color\": \"white\"}}, \"type\": \"table\"}]}, \"layout\": {\"annotationdefaults\": {\"arrowcolor\": \"#2a3f5f\", \"arrowhead\": 0, \"arrowwidth\": 1}, \"coloraxis\": {\"colorbar\": {\"outlinewidth\": 0, \"ticks\": \"\"}}, \"colorscale\": {\"diverging\": [[0, \"#8e0152\"], [0.1, \"#c51b7d\"], [0.2, \"#de77ae\"], [0.3, \"#f1b6da\"], [0.4, \"#fde0ef\"], [0.5, \"#f7f7f7\"], [0.6, \"#e6f5d0\"], [0.7, \"#b8e186\"], [0.8, \"#7fbc41\"], [0.9, \"#4d9221\"], [1, \"#276419\"]], \"sequential\": [[0.0, \"#0d0887\"], [0.1111111111111111, \"#46039f\"], [0.2222222222222222, \"#7201a8\"], [0.3333333333333333, \"#9c179e\"], [0.4444444444444444, \"#bd3786\"], [0.5555555555555556, \"#d8576b\"], [0.6666666666666666, \"#ed7953\"], [0.7777777777777778, \"#fb9f3a\"], [0.8888888888888888, \"#fdca26\"], [1.0, \"#f0f921\"]], \"sequentialminus\": [[0.0, \"#0d0887\"], [0.1111111111111111, \"#46039f\"], [0.2222222222222222, \"#7201a8\"], [0.3333333333333333, \"#9c179e\"], [0.4444444444444444, \"#bd3786\"], [0.5555555555555556, \"#d8576b\"], [0.6666666666666666, \"#ed7953\"], [0.7777777777777778, \"#fb9f3a\"], [0.8888888888888888, \"#fdca26\"], [1.0, \"#f0f921\"]]}, \"colorway\": [\"#636efa\", \"#EF553B\", \"#00cc96\", \"#ab63fa\", \"#FFA15A\", \"#19d3f3\", \"#FF6692\", \"#B6E880\", \"#FF97FF\", \"#FECB52\"], \"font\": {\"color\": \"#2a3f5f\"}, \"geo\": {\"bgcolor\": \"white\", \"lakecolor\": \"white\", \"landcolor\": \"#E5ECF6\", \"showlakes\": true, \"showland\": true, \"subunitcolor\": \"white\"}, \"hoverlabel\": {\"align\": \"left\"}, \"hovermode\": \"closest\", \"mapbox\": {\"style\": \"light\"}, \"paper_bgcolor\": \"white\", \"plot_bgcolor\": \"#E5ECF6\", \"polar\": {\"angularaxis\": {\"gridcolor\": \"white\", \"linecolor\": \"white\", \"ticks\": \"\"}, \"bgcolor\": \"#E5ECF6\", \"radialaxis\": {\"gridcolor\": \"white\", \"linecolor\": \"white\", \"ticks\": \"\"}}, \"scene\": {\"xaxis\": {\"backgroundcolor\": \"#E5ECF6\", \"gridcolor\": \"white\", \"gridwidth\": 2, \"linecolor\": \"white\", \"showbackground\": true, \"ticks\": \"\", \"zerolinecolor\": \"white\"}, \"yaxis\": {\"backgroundcolor\": \"#E5ECF6\", \"gridcolor\": \"white\", \"gridwidth\": 2, \"linecolor\": \"white\", \"showbackground\": true, \"ticks\": \"\", \"zerolinecolor\": \"white\"}, \"zaxis\": {\"backgroundcolor\": \"#E5ECF6\", \"gridcolor\": \"white\", \"gridwidth\": 2, \"linecolor\": \"white\", \"showbackground\": true, \"ticks\": \"\", \"zerolinecolor\": \"white\"}}, \"shapedefaults\": {\"line\": {\"color\": \"#2a3f5f\"}}, \"ternary\": {\"aaxis\": {\"gridcolor\": \"white\", \"linecolor\": \"white\", \"ticks\": \"\"}, \"baxis\": {\"gridcolor\": \"white\", \"linecolor\": \"white\", \"ticks\": \"\"}, \"bgcolor\": \"#E5ECF6\", \"caxis\": {\"gridcolor\": \"white\", \"linecolor\": \"white\", \"ticks\": \"\"}}, \"title\": {\"x\": 0.05}, \"xaxis\": {\"automargin\": true, \"gridcolor\": \"white\", \"linecolor\": \"white\", \"ticks\": \"\", \"title\": {\"standoff\": 15}, \"zerolinecolor\": \"white\", \"zerolinewidth\": 2}, \"yaxis\": {\"automargin\": true, \"gridcolor\": \"white\", \"linecolor\": \"white\", \"ticks\": \"\", \"title\": {\"standoff\": 15}, \"zerolinecolor\": \"white\", \"zerolinewidth\": 2}}}, \"title\": {\"text\": \"NUMBER OF CONFIRMED CASES IN DIFFERENT STATES IN USA\"}},\n",
       "                        {\"responsive\": true}\n",
       "                    ).then(function(){\n",
       "                            \n",
       "var gd = document.getElementById('b9b6d544-1efb-4a2d-9cb9-98087b36c8fa');\n",
       "var x = new MutationObserver(function (mutations, observer) {{\n",
       "        var display = window.getComputedStyle(gd).display;\n",
       "        if (!display || display === 'none') {{\n",
       "            console.log([gd, 'removed!']);\n",
       "            Plotly.purge(gd);\n",
       "            observer.disconnect();\n",
       "        }}\n",
       "}});\n",
       "\n",
       "// Listen for the removal of the full notebook cells\n",
       "var notebookContainer = gd.closest('#notebook-container');\n",
       "if (notebookContainer) {{\n",
       "    x.observe(notebookContainer, {childList: true});\n",
       "}}\n",
       "\n",
       "// Listen for the clearing of the current output cell\n",
       "var outputEl = gd.closest('.output');\n",
       "if (outputEl) {{\n",
       "    x.observe(outputEl, {childList: true});\n",
       "}}\n",
       "\n",
       "                        })\n",
       "                };\n",
       "                });\n",
       "            </script>\n",
       "        </div>"
      ]
     },
     "metadata": {},
     "output_type": "display_data"
    }
   ],
   "source": [
    "import plotly.graph_objects as go\n",
    "\n",
    "# Load data frame and tidy it.\n",
    "import pandas as pd\n",
    "\n",
    "fig = go.Figure(data=go.Choropleth(\n",
    "    locations=df['code'], # Spatial coordinates\n",
    "    z = df['Confirmed'], # Data to be color-coded\n",
    "    locationmode = 'USA-states', # set of locations match entries in `locations`\n",
    "    colorscale = 'orrd',#Zmin and zmap for limiting the values to be plotted\n",
    "    colorbar_title = \"Confirmed Cases in thousands\"\n",
    "))\n",
    "\n",
    "fig.update_layout(\n",
    "    title_text = 'NUMBER OF CONFIRMED CASES IN DIFFERENT STATES IN USA',\n",
    "    geo_scope='usa', # limite map scope to USA\n",
    ")\n",
    "#fig.colorbar(sm, orientation=\"horizontal\", fraction=0.036, pad=0.1, aspect = 30)\n",
    "\n",
    "fig.show()"
   ]
  },
  {
   "cell_type": "markdown",
   "metadata": {},
   "source": [
    "## Plotting a map for Number of Deaths in the US"
   ]
  },
  {
   "cell_type": "code",
   "execution_count": 73,
   "metadata": {},
   "outputs": [
    {
     "data": {
      "application/vnd.plotly.v1+json": {
       "config": {
        "plotlyServerURL": "https://plot.ly"
       },
       "data": [
        {
         "colorbar": {
          "title": {
           "text": "Confirmed Cases in thousands"
          }
         },
         "colorscale": [
          [
           0,
           "rgb(247,251,255)"
          ],
          [
           0.125,
           "rgb(222,235,247)"
          ],
          [
           0.25,
           "rgb(198,219,239)"
          ],
          [
           0.375,
           "rgb(158,202,225)"
          ],
          [
           0.5,
           "rgb(107,174,214)"
          ],
          [
           0.625,
           "rgb(66,146,198)"
          ],
          [
           0.75,
           "rgb(33,113,181)"
          ],
          [
           0.875,
           "rgb(8,81,156)"
          ],
          [
           1,
           "rgb(8,48,107)"
          ]
         ],
         "locationmode": "USA-states",
         "locations": [
          "NY",
          "NJ",
          "IL",
          "MA",
          "CA",
          "PA",
          "MI",
          "TX",
          "FL",
          "MD",
          "GA",
          "CT",
          "LA",
          "VA",
          "OH",
          "IN",
          "CO",
          "NC",
          "WA",
          "TN",
          "MN",
          "IA",
          "AZ",
          "RI",
          "WI",
          "AL",
          "MS",
          "MO",
          "NE",
          "SC",
          "KS",
          "KY",
          "DE",
          "UT",
          "DC",
          "NV",
          "NM",
          "OK",
          "AR",
          "SD",
          "OR",
          "NH",
          "PR",
          "ID",
          "ND",
          "ME",
          "WV",
          "VT",
          "WY",
          "HI",
          "MT",
          "AK",
          "GU",
          "VI",
          "MP"
         ],
         "type": "choropleth",
         "z": [
          28232,
          10363,
          4177,
          5797,
          3240,
          4495,
          4891,
          1343,
          1973,
          1992,
          1610,
          3408,
          2491,
          1010,
          1625,
          1751,
          1215,
          686,
          1001,
          298,
          731,
          351,
          680,
          499,
          453,
          488,
          521,
          600,
          123,
          385,
          195,
          334,
          290,
          80,
          383,
          350,
          265,
          288,
          98,
          44,
          137,
          172,
          123,
          73,
          43,
          70,
          67,
          54,
          8,
          17,
          16,
          10,
          5,
          6,
          2
         ]
        }
       ],
       "layout": {
        "geo": {
         "scope": "usa"
        },
        "template": {
         "data": {
          "bar": [
           {
            "error_x": {
             "color": "#2a3f5f"
            },
            "error_y": {
             "color": "#2a3f5f"
            },
            "marker": {
             "line": {
              "color": "#E5ECF6",
              "width": 0.5
             }
            },
            "type": "bar"
           }
          ],
          "barpolar": [
           {
            "marker": {
             "line": {
              "color": "#E5ECF6",
              "width": 0.5
             }
            },
            "type": "barpolar"
           }
          ],
          "carpet": [
           {
            "aaxis": {
             "endlinecolor": "#2a3f5f",
             "gridcolor": "white",
             "linecolor": "white",
             "minorgridcolor": "white",
             "startlinecolor": "#2a3f5f"
            },
            "baxis": {
             "endlinecolor": "#2a3f5f",
             "gridcolor": "white",
             "linecolor": "white",
             "minorgridcolor": "white",
             "startlinecolor": "#2a3f5f"
            },
            "type": "carpet"
           }
          ],
          "choropleth": [
           {
            "colorbar": {
             "outlinewidth": 0,
             "ticks": ""
            },
            "type": "choropleth"
           }
          ],
          "contour": [
           {
            "colorbar": {
             "outlinewidth": 0,
             "ticks": ""
            },
            "colorscale": [
             [
              0,
              "#0d0887"
             ],
             [
              0.1111111111111111,
              "#46039f"
             ],
             [
              0.2222222222222222,
              "#7201a8"
             ],
             [
              0.3333333333333333,
              "#9c179e"
             ],
             [
              0.4444444444444444,
              "#bd3786"
             ],
             [
              0.5555555555555556,
              "#d8576b"
             ],
             [
              0.6666666666666666,
              "#ed7953"
             ],
             [
              0.7777777777777778,
              "#fb9f3a"
             ],
             [
              0.8888888888888888,
              "#fdca26"
             ],
             [
              1,
              "#f0f921"
             ]
            ],
            "type": "contour"
           }
          ],
          "contourcarpet": [
           {
            "colorbar": {
             "outlinewidth": 0,
             "ticks": ""
            },
            "type": "contourcarpet"
           }
          ],
          "heatmap": [
           {
            "colorbar": {
             "outlinewidth": 0,
             "ticks": ""
            },
            "colorscale": [
             [
              0,
              "#0d0887"
             ],
             [
              0.1111111111111111,
              "#46039f"
             ],
             [
              0.2222222222222222,
              "#7201a8"
             ],
             [
              0.3333333333333333,
              "#9c179e"
             ],
             [
              0.4444444444444444,
              "#bd3786"
             ],
             [
              0.5555555555555556,
              "#d8576b"
             ],
             [
              0.6666666666666666,
              "#ed7953"
             ],
             [
              0.7777777777777778,
              "#fb9f3a"
             ],
             [
              0.8888888888888888,
              "#fdca26"
             ],
             [
              1,
              "#f0f921"
             ]
            ],
            "type": "heatmap"
           }
          ],
          "heatmapgl": [
           {
            "colorbar": {
             "outlinewidth": 0,
             "ticks": ""
            },
            "colorscale": [
             [
              0,
              "#0d0887"
             ],
             [
              0.1111111111111111,
              "#46039f"
             ],
             [
              0.2222222222222222,
              "#7201a8"
             ],
             [
              0.3333333333333333,
              "#9c179e"
             ],
             [
              0.4444444444444444,
              "#bd3786"
             ],
             [
              0.5555555555555556,
              "#d8576b"
             ],
             [
              0.6666666666666666,
              "#ed7953"
             ],
             [
              0.7777777777777778,
              "#fb9f3a"
             ],
             [
              0.8888888888888888,
              "#fdca26"
             ],
             [
              1,
              "#f0f921"
             ]
            ],
            "type": "heatmapgl"
           }
          ],
          "histogram": [
           {
            "marker": {
             "colorbar": {
              "outlinewidth": 0,
              "ticks": ""
             }
            },
            "type": "histogram"
           }
          ],
          "histogram2d": [
           {
            "colorbar": {
             "outlinewidth": 0,
             "ticks": ""
            },
            "colorscale": [
             [
              0,
              "#0d0887"
             ],
             [
              0.1111111111111111,
              "#46039f"
             ],
             [
              0.2222222222222222,
              "#7201a8"
             ],
             [
              0.3333333333333333,
              "#9c179e"
             ],
             [
              0.4444444444444444,
              "#bd3786"
             ],
             [
              0.5555555555555556,
              "#d8576b"
             ],
             [
              0.6666666666666666,
              "#ed7953"
             ],
             [
              0.7777777777777778,
              "#fb9f3a"
             ],
             [
              0.8888888888888888,
              "#fdca26"
             ],
             [
              1,
              "#f0f921"
             ]
            ],
            "type": "histogram2d"
           }
          ],
          "histogram2dcontour": [
           {
            "colorbar": {
             "outlinewidth": 0,
             "ticks": ""
            },
            "colorscale": [
             [
              0,
              "#0d0887"
             ],
             [
              0.1111111111111111,
              "#46039f"
             ],
             [
              0.2222222222222222,
              "#7201a8"
             ],
             [
              0.3333333333333333,
              "#9c179e"
             ],
             [
              0.4444444444444444,
              "#bd3786"
             ],
             [
              0.5555555555555556,
              "#d8576b"
             ],
             [
              0.6666666666666666,
              "#ed7953"
             ],
             [
              0.7777777777777778,
              "#fb9f3a"
             ],
             [
              0.8888888888888888,
              "#fdca26"
             ],
             [
              1,
              "#f0f921"
             ]
            ],
            "type": "histogram2dcontour"
           }
          ],
          "mesh3d": [
           {
            "colorbar": {
             "outlinewidth": 0,
             "ticks": ""
            },
            "type": "mesh3d"
           }
          ],
          "parcoords": [
           {
            "line": {
             "colorbar": {
              "outlinewidth": 0,
              "ticks": ""
             }
            },
            "type": "parcoords"
           }
          ],
          "pie": [
           {
            "automargin": true,
            "type": "pie"
           }
          ],
          "scatter": [
           {
            "marker": {
             "colorbar": {
              "outlinewidth": 0,
              "ticks": ""
             }
            },
            "type": "scatter"
           }
          ],
          "scatter3d": [
           {
            "line": {
             "colorbar": {
              "outlinewidth": 0,
              "ticks": ""
             }
            },
            "marker": {
             "colorbar": {
              "outlinewidth": 0,
              "ticks": ""
             }
            },
            "type": "scatter3d"
           }
          ],
          "scattercarpet": [
           {
            "marker": {
             "colorbar": {
              "outlinewidth": 0,
              "ticks": ""
             }
            },
            "type": "scattercarpet"
           }
          ],
          "scattergeo": [
           {
            "marker": {
             "colorbar": {
              "outlinewidth": 0,
              "ticks": ""
             }
            },
            "type": "scattergeo"
           }
          ],
          "scattergl": [
           {
            "marker": {
             "colorbar": {
              "outlinewidth": 0,
              "ticks": ""
             }
            },
            "type": "scattergl"
           }
          ],
          "scattermapbox": [
           {
            "marker": {
             "colorbar": {
              "outlinewidth": 0,
              "ticks": ""
             }
            },
            "type": "scattermapbox"
           }
          ],
          "scatterpolar": [
           {
            "marker": {
             "colorbar": {
              "outlinewidth": 0,
              "ticks": ""
             }
            },
            "type": "scatterpolar"
           }
          ],
          "scatterpolargl": [
           {
            "marker": {
             "colorbar": {
              "outlinewidth": 0,
              "ticks": ""
             }
            },
            "type": "scatterpolargl"
           }
          ],
          "scatterternary": [
           {
            "marker": {
             "colorbar": {
              "outlinewidth": 0,
              "ticks": ""
             }
            },
            "type": "scatterternary"
           }
          ],
          "surface": [
           {
            "colorbar": {
             "outlinewidth": 0,
             "ticks": ""
            },
            "colorscale": [
             [
              0,
              "#0d0887"
             ],
             [
              0.1111111111111111,
              "#46039f"
             ],
             [
              0.2222222222222222,
              "#7201a8"
             ],
             [
              0.3333333333333333,
              "#9c179e"
             ],
             [
              0.4444444444444444,
              "#bd3786"
             ],
             [
              0.5555555555555556,
              "#d8576b"
             ],
             [
              0.6666666666666666,
              "#ed7953"
             ],
             [
              0.7777777777777778,
              "#fb9f3a"
             ],
             [
              0.8888888888888888,
              "#fdca26"
             ],
             [
              1,
              "#f0f921"
             ]
            ],
            "type": "surface"
           }
          ],
          "table": [
           {
            "cells": {
             "fill": {
              "color": "#EBF0F8"
             },
             "line": {
              "color": "white"
             }
            },
            "header": {
             "fill": {
              "color": "#C8D4E3"
             },
             "line": {
              "color": "white"
             }
            },
            "type": "table"
           }
          ]
         },
         "layout": {
          "annotationdefaults": {
           "arrowcolor": "#2a3f5f",
           "arrowhead": 0,
           "arrowwidth": 1
          },
          "coloraxis": {
           "colorbar": {
            "outlinewidth": 0,
            "ticks": ""
           }
          },
          "colorscale": {
           "diverging": [
            [
             0,
             "#8e0152"
            ],
            [
             0.1,
             "#c51b7d"
            ],
            [
             0.2,
             "#de77ae"
            ],
            [
             0.3,
             "#f1b6da"
            ],
            [
             0.4,
             "#fde0ef"
            ],
            [
             0.5,
             "#f7f7f7"
            ],
            [
             0.6,
             "#e6f5d0"
            ],
            [
             0.7,
             "#b8e186"
            ],
            [
             0.8,
             "#7fbc41"
            ],
            [
             0.9,
             "#4d9221"
            ],
            [
             1,
             "#276419"
            ]
           ],
           "sequential": [
            [
             0,
             "#0d0887"
            ],
            [
             0.1111111111111111,
             "#46039f"
            ],
            [
             0.2222222222222222,
             "#7201a8"
            ],
            [
             0.3333333333333333,
             "#9c179e"
            ],
            [
             0.4444444444444444,
             "#bd3786"
            ],
            [
             0.5555555555555556,
             "#d8576b"
            ],
            [
             0.6666666666666666,
             "#ed7953"
            ],
            [
             0.7777777777777778,
             "#fb9f3a"
            ],
            [
             0.8888888888888888,
             "#fdca26"
            ],
            [
             1,
             "#f0f921"
            ]
           ],
           "sequentialminus": [
            [
             0,
             "#0d0887"
            ],
            [
             0.1111111111111111,
             "#46039f"
            ],
            [
             0.2222222222222222,
             "#7201a8"
            ],
            [
             0.3333333333333333,
             "#9c179e"
            ],
            [
             0.4444444444444444,
             "#bd3786"
            ],
            [
             0.5555555555555556,
             "#d8576b"
            ],
            [
             0.6666666666666666,
             "#ed7953"
            ],
            [
             0.7777777777777778,
             "#fb9f3a"
            ],
            [
             0.8888888888888888,
             "#fdca26"
            ],
            [
             1,
             "#f0f921"
            ]
           ]
          },
          "colorway": [
           "#636efa",
           "#EF553B",
           "#00cc96",
           "#ab63fa",
           "#FFA15A",
           "#19d3f3",
           "#FF6692",
           "#B6E880",
           "#FF97FF",
           "#FECB52"
          ],
          "font": {
           "color": "#2a3f5f"
          },
          "geo": {
           "bgcolor": "white",
           "lakecolor": "white",
           "landcolor": "#E5ECF6",
           "showlakes": true,
           "showland": true,
           "subunitcolor": "white"
          },
          "hoverlabel": {
           "align": "left"
          },
          "hovermode": "closest",
          "mapbox": {
           "style": "light"
          },
          "paper_bgcolor": "white",
          "plot_bgcolor": "#E5ECF6",
          "polar": {
           "angularaxis": {
            "gridcolor": "white",
            "linecolor": "white",
            "ticks": ""
           },
           "bgcolor": "#E5ECF6",
           "radialaxis": {
            "gridcolor": "white",
            "linecolor": "white",
            "ticks": ""
           }
          },
          "scene": {
           "xaxis": {
            "backgroundcolor": "#E5ECF6",
            "gridcolor": "white",
            "gridwidth": 2,
            "linecolor": "white",
            "showbackground": true,
            "ticks": "",
            "zerolinecolor": "white"
           },
           "yaxis": {
            "backgroundcolor": "#E5ECF6",
            "gridcolor": "white",
            "gridwidth": 2,
            "linecolor": "white",
            "showbackground": true,
            "ticks": "",
            "zerolinecolor": "white"
           },
           "zaxis": {
            "backgroundcolor": "#E5ECF6",
            "gridcolor": "white",
            "gridwidth": 2,
            "linecolor": "white",
            "showbackground": true,
            "ticks": "",
            "zerolinecolor": "white"
           }
          },
          "shapedefaults": {
           "line": {
            "color": "#2a3f5f"
           }
          },
          "ternary": {
           "aaxis": {
            "gridcolor": "white",
            "linecolor": "white",
            "ticks": ""
           },
           "baxis": {
            "gridcolor": "white",
            "linecolor": "white",
            "ticks": ""
           },
           "bgcolor": "#E5ECF6",
           "caxis": {
            "gridcolor": "white",
            "linecolor": "white",
            "ticks": ""
           }
          },
          "title": {
           "x": 0.05
          },
          "xaxis": {
           "automargin": true,
           "gridcolor": "white",
           "linecolor": "white",
           "ticks": "",
           "title": {
            "standoff": 15
           },
           "zerolinecolor": "white",
           "zerolinewidth": 2
          },
          "yaxis": {
           "automargin": true,
           "gridcolor": "white",
           "linecolor": "white",
           "ticks": "",
           "title": {
            "standoff": 15
           },
           "zerolinecolor": "white",
           "zerolinewidth": 2
          }
         }
        },
        "title": {
         "text": "NUMBER OF DEATHS IN DIFFERENT STATES IN USA"
        }
       }
      },
      "text/html": [
       "<div>\n",
       "        \n",
       "        \n",
       "            <div id=\"2e7997f6-d775-4cd2-be50-c7935bc1d664\" class=\"plotly-graph-div\" style=\"height:525px; width:100%;\"></div>\n",
       "            <script type=\"text/javascript\">\n",
       "                require([\"plotly\"], function(Plotly) {\n",
       "                    window.PLOTLYENV=window.PLOTLYENV || {};\n",
       "                    \n",
       "                if (document.getElementById(\"2e7997f6-d775-4cd2-be50-c7935bc1d664\")) {\n",
       "                    Plotly.newPlot(\n",
       "                        '2e7997f6-d775-4cd2-be50-c7935bc1d664',\n",
       "                        [{\"colorbar\": {\"title\": {\"text\": \"Confirmed Cases in thousands\"}}, \"colorscale\": [[0.0, \"rgb(247,251,255)\"], [0.125, \"rgb(222,235,247)\"], [0.25, \"rgb(198,219,239)\"], [0.375, \"rgb(158,202,225)\"], [0.5, \"rgb(107,174,214)\"], [0.625, \"rgb(66,146,198)\"], [0.75, \"rgb(33,113,181)\"], [0.875, \"rgb(8,81,156)\"], [1.0, \"rgb(8,48,107)\"]], \"locationmode\": \"USA-states\", \"locations\": [\"NY\", \"NJ\", \"IL\", \"MA\", \"CA\", \"PA\", \"MI\", \"TX\", \"FL\", \"MD\", \"GA\", \"CT\", \"LA\", \"VA\", \"OH\", \"IN\", \"CO\", \"NC\", \"WA\", \"TN\", \"MN\", \"IA\", \"AZ\", \"RI\", \"WI\", \"AL\", \"MS\", \"MO\", \"NE\", \"SC\", \"KS\", \"KY\", \"DE\", \"UT\", \"DC\", \"NV\", \"NM\", \"OK\", \"AR\", \"SD\", \"OR\", \"NH\", \"PR\", \"ID\", \"ND\", \"ME\", \"WV\", \"VT\", \"WY\", \"HI\", \"MT\", \"AK\", \"GU\", \"VI\", \"MP\"], \"type\": \"choropleth\", \"z\": [28232.0, 10363.0, 4177.0, 5797.0, 3240.0, 4495.0, 4891.0, 1343.0, 1973.0, 1992.0, 1610.0, 3408.0, 2491.0, 1010.0, 1625.0, 1751.0, 1215.0, 686.0, 1001.0, 298.0, 731.0, 351.0, 680.0, 499.0, 453.0, 488.0, 521.0, 600.0, 123.0, 385.0, 195.0, 334.0, 290.0, 80.0, 383.0, 350.0, 265.0, 288.0, 98.0, 44.0, 137.0, 172.0, 123.0, 73.0, 43.0, 70.0, 67.0, 54.0, 8.0, 17.0, 16.0, 10.0, 5.0, 6.0, 2.0]}],\n",
       "                        {\"geo\": {\"scope\": \"usa\"}, \"template\": {\"data\": {\"bar\": [{\"error_x\": {\"color\": \"#2a3f5f\"}, \"error_y\": {\"color\": \"#2a3f5f\"}, \"marker\": {\"line\": {\"color\": \"#E5ECF6\", \"width\": 0.5}}, \"type\": \"bar\"}], \"barpolar\": [{\"marker\": {\"line\": {\"color\": \"#E5ECF6\", \"width\": 0.5}}, \"type\": \"barpolar\"}], \"carpet\": [{\"aaxis\": {\"endlinecolor\": \"#2a3f5f\", \"gridcolor\": \"white\", \"linecolor\": \"white\", \"minorgridcolor\": \"white\", \"startlinecolor\": \"#2a3f5f\"}, \"baxis\": {\"endlinecolor\": \"#2a3f5f\", \"gridcolor\": \"white\", \"linecolor\": \"white\", \"minorgridcolor\": \"white\", \"startlinecolor\": \"#2a3f5f\"}, \"type\": \"carpet\"}], \"choropleth\": [{\"colorbar\": {\"outlinewidth\": 0, \"ticks\": \"\"}, \"type\": \"choropleth\"}], \"contour\": [{\"colorbar\": {\"outlinewidth\": 0, \"ticks\": \"\"}, \"colorscale\": [[0.0, \"#0d0887\"], [0.1111111111111111, \"#46039f\"], [0.2222222222222222, \"#7201a8\"], [0.3333333333333333, \"#9c179e\"], [0.4444444444444444, \"#bd3786\"], [0.5555555555555556, \"#d8576b\"], [0.6666666666666666, \"#ed7953\"], [0.7777777777777778, \"#fb9f3a\"], [0.8888888888888888, \"#fdca26\"], [1.0, \"#f0f921\"]], \"type\": \"contour\"}], \"contourcarpet\": [{\"colorbar\": {\"outlinewidth\": 0, \"ticks\": \"\"}, \"type\": \"contourcarpet\"}], \"heatmap\": [{\"colorbar\": {\"outlinewidth\": 0, \"ticks\": \"\"}, \"colorscale\": [[0.0, \"#0d0887\"], [0.1111111111111111, \"#46039f\"], [0.2222222222222222, \"#7201a8\"], [0.3333333333333333, \"#9c179e\"], [0.4444444444444444, \"#bd3786\"], [0.5555555555555556, \"#d8576b\"], [0.6666666666666666, \"#ed7953\"], [0.7777777777777778, \"#fb9f3a\"], [0.8888888888888888, \"#fdca26\"], [1.0, \"#f0f921\"]], \"type\": \"heatmap\"}], \"heatmapgl\": [{\"colorbar\": {\"outlinewidth\": 0, \"ticks\": \"\"}, \"colorscale\": [[0.0, \"#0d0887\"], [0.1111111111111111, \"#46039f\"], [0.2222222222222222, \"#7201a8\"], [0.3333333333333333, \"#9c179e\"], [0.4444444444444444, \"#bd3786\"], [0.5555555555555556, \"#d8576b\"], [0.6666666666666666, \"#ed7953\"], [0.7777777777777778, \"#fb9f3a\"], [0.8888888888888888, \"#fdca26\"], [1.0, \"#f0f921\"]], \"type\": \"heatmapgl\"}], \"histogram\": [{\"marker\": {\"colorbar\": {\"outlinewidth\": 0, \"ticks\": \"\"}}, \"type\": \"histogram\"}], \"histogram2d\": [{\"colorbar\": {\"outlinewidth\": 0, \"ticks\": \"\"}, \"colorscale\": [[0.0, \"#0d0887\"], [0.1111111111111111, \"#46039f\"], [0.2222222222222222, \"#7201a8\"], [0.3333333333333333, \"#9c179e\"], [0.4444444444444444, \"#bd3786\"], [0.5555555555555556, \"#d8576b\"], [0.6666666666666666, \"#ed7953\"], [0.7777777777777778, \"#fb9f3a\"], [0.8888888888888888, \"#fdca26\"], [1.0, \"#f0f921\"]], \"type\": \"histogram2d\"}], \"histogram2dcontour\": [{\"colorbar\": {\"outlinewidth\": 0, \"ticks\": \"\"}, \"colorscale\": [[0.0, \"#0d0887\"], [0.1111111111111111, \"#46039f\"], [0.2222222222222222, \"#7201a8\"], [0.3333333333333333, \"#9c179e\"], [0.4444444444444444, \"#bd3786\"], [0.5555555555555556, \"#d8576b\"], [0.6666666666666666, \"#ed7953\"], [0.7777777777777778, \"#fb9f3a\"], [0.8888888888888888, \"#fdca26\"], [1.0, \"#f0f921\"]], \"type\": \"histogram2dcontour\"}], \"mesh3d\": [{\"colorbar\": {\"outlinewidth\": 0, \"ticks\": \"\"}, \"type\": \"mesh3d\"}], \"parcoords\": [{\"line\": {\"colorbar\": {\"outlinewidth\": 0, \"ticks\": \"\"}}, \"type\": \"parcoords\"}], \"pie\": [{\"automargin\": true, \"type\": \"pie\"}], \"scatter\": [{\"marker\": {\"colorbar\": {\"outlinewidth\": 0, \"ticks\": \"\"}}, \"type\": \"scatter\"}], \"scatter3d\": [{\"line\": {\"colorbar\": {\"outlinewidth\": 0, \"ticks\": \"\"}}, \"marker\": {\"colorbar\": {\"outlinewidth\": 0, \"ticks\": \"\"}}, \"type\": \"scatter3d\"}], \"scattercarpet\": [{\"marker\": {\"colorbar\": {\"outlinewidth\": 0, \"ticks\": \"\"}}, \"type\": \"scattercarpet\"}], \"scattergeo\": [{\"marker\": {\"colorbar\": {\"outlinewidth\": 0, \"ticks\": \"\"}}, \"type\": \"scattergeo\"}], \"scattergl\": [{\"marker\": {\"colorbar\": {\"outlinewidth\": 0, \"ticks\": \"\"}}, \"type\": \"scattergl\"}], \"scattermapbox\": [{\"marker\": {\"colorbar\": {\"outlinewidth\": 0, \"ticks\": \"\"}}, \"type\": \"scattermapbox\"}], \"scatterpolar\": [{\"marker\": {\"colorbar\": {\"outlinewidth\": 0, \"ticks\": \"\"}}, \"type\": \"scatterpolar\"}], \"scatterpolargl\": [{\"marker\": {\"colorbar\": {\"outlinewidth\": 0, \"ticks\": \"\"}}, \"type\": \"scatterpolargl\"}], \"scatterternary\": [{\"marker\": {\"colorbar\": {\"outlinewidth\": 0, \"ticks\": \"\"}}, \"type\": \"scatterternary\"}], \"surface\": [{\"colorbar\": {\"outlinewidth\": 0, \"ticks\": \"\"}, \"colorscale\": [[0.0, \"#0d0887\"], [0.1111111111111111, \"#46039f\"], [0.2222222222222222, \"#7201a8\"], [0.3333333333333333, \"#9c179e\"], [0.4444444444444444, \"#bd3786\"], [0.5555555555555556, \"#d8576b\"], [0.6666666666666666, \"#ed7953\"], [0.7777777777777778, \"#fb9f3a\"], [0.8888888888888888, \"#fdca26\"], [1.0, \"#f0f921\"]], \"type\": \"surface\"}], \"table\": [{\"cells\": {\"fill\": {\"color\": \"#EBF0F8\"}, \"line\": {\"color\": \"white\"}}, \"header\": {\"fill\": {\"color\": \"#C8D4E3\"}, \"line\": {\"color\": \"white\"}}, \"type\": \"table\"}]}, \"layout\": {\"annotationdefaults\": {\"arrowcolor\": \"#2a3f5f\", \"arrowhead\": 0, \"arrowwidth\": 1}, \"coloraxis\": {\"colorbar\": {\"outlinewidth\": 0, \"ticks\": \"\"}}, \"colorscale\": {\"diverging\": [[0, \"#8e0152\"], [0.1, \"#c51b7d\"], [0.2, \"#de77ae\"], [0.3, \"#f1b6da\"], [0.4, \"#fde0ef\"], [0.5, \"#f7f7f7\"], [0.6, \"#e6f5d0\"], [0.7, \"#b8e186\"], [0.8, \"#7fbc41\"], [0.9, \"#4d9221\"], [1, \"#276419\"]], \"sequential\": [[0.0, \"#0d0887\"], [0.1111111111111111, \"#46039f\"], [0.2222222222222222, \"#7201a8\"], [0.3333333333333333, \"#9c179e\"], [0.4444444444444444, \"#bd3786\"], [0.5555555555555556, \"#d8576b\"], [0.6666666666666666, \"#ed7953\"], [0.7777777777777778, \"#fb9f3a\"], [0.8888888888888888, \"#fdca26\"], [1.0, \"#f0f921\"]], \"sequentialminus\": [[0.0, \"#0d0887\"], [0.1111111111111111, \"#46039f\"], [0.2222222222222222, \"#7201a8\"], [0.3333333333333333, \"#9c179e\"], [0.4444444444444444, \"#bd3786\"], [0.5555555555555556, \"#d8576b\"], [0.6666666666666666, \"#ed7953\"], [0.7777777777777778, \"#fb9f3a\"], [0.8888888888888888, \"#fdca26\"], [1.0, \"#f0f921\"]]}, \"colorway\": [\"#636efa\", \"#EF553B\", \"#00cc96\", \"#ab63fa\", \"#FFA15A\", \"#19d3f3\", \"#FF6692\", \"#B6E880\", \"#FF97FF\", \"#FECB52\"], \"font\": {\"color\": \"#2a3f5f\"}, \"geo\": {\"bgcolor\": \"white\", \"lakecolor\": \"white\", \"landcolor\": \"#E5ECF6\", \"showlakes\": true, \"showland\": true, \"subunitcolor\": \"white\"}, \"hoverlabel\": {\"align\": \"left\"}, \"hovermode\": \"closest\", \"mapbox\": {\"style\": \"light\"}, \"paper_bgcolor\": \"white\", \"plot_bgcolor\": \"#E5ECF6\", \"polar\": {\"angularaxis\": {\"gridcolor\": \"white\", \"linecolor\": \"white\", \"ticks\": \"\"}, \"bgcolor\": \"#E5ECF6\", \"radialaxis\": {\"gridcolor\": \"white\", \"linecolor\": \"white\", \"ticks\": \"\"}}, \"scene\": {\"xaxis\": {\"backgroundcolor\": \"#E5ECF6\", \"gridcolor\": \"white\", \"gridwidth\": 2, \"linecolor\": \"white\", \"showbackground\": true, \"ticks\": \"\", \"zerolinecolor\": \"white\"}, \"yaxis\": {\"backgroundcolor\": \"#E5ECF6\", \"gridcolor\": \"white\", \"gridwidth\": 2, \"linecolor\": \"white\", \"showbackground\": true, \"ticks\": \"\", \"zerolinecolor\": \"white\"}, \"zaxis\": {\"backgroundcolor\": \"#E5ECF6\", \"gridcolor\": \"white\", \"gridwidth\": 2, \"linecolor\": \"white\", \"showbackground\": true, \"ticks\": \"\", \"zerolinecolor\": \"white\"}}, \"shapedefaults\": {\"line\": {\"color\": \"#2a3f5f\"}}, \"ternary\": {\"aaxis\": {\"gridcolor\": \"white\", \"linecolor\": \"white\", \"ticks\": \"\"}, \"baxis\": {\"gridcolor\": \"white\", \"linecolor\": \"white\", \"ticks\": \"\"}, \"bgcolor\": \"#E5ECF6\", \"caxis\": {\"gridcolor\": \"white\", \"linecolor\": \"white\", \"ticks\": \"\"}}, \"title\": {\"x\": 0.05}, \"xaxis\": {\"automargin\": true, \"gridcolor\": \"white\", \"linecolor\": \"white\", \"ticks\": \"\", \"title\": {\"standoff\": 15}, \"zerolinecolor\": \"white\", \"zerolinewidth\": 2}, \"yaxis\": {\"automargin\": true, \"gridcolor\": \"white\", \"linecolor\": \"white\", \"ticks\": \"\", \"title\": {\"standoff\": 15}, \"zerolinecolor\": \"white\", \"zerolinewidth\": 2}}}, \"title\": {\"text\": \"NUMBER OF DEATHS IN DIFFERENT STATES IN USA\"}},\n",
       "                        {\"responsive\": true}\n",
       "                    ).then(function(){\n",
       "                            \n",
       "var gd = document.getElementById('2e7997f6-d775-4cd2-be50-c7935bc1d664');\n",
       "var x = new MutationObserver(function (mutations, observer) {{\n",
       "        var display = window.getComputedStyle(gd).display;\n",
       "        if (!display || display === 'none') {{\n",
       "            console.log([gd, 'removed!']);\n",
       "            Plotly.purge(gd);\n",
       "            observer.disconnect();\n",
       "        }}\n",
       "}});\n",
       "\n",
       "// Listen for the removal of the full notebook cells\n",
       "var notebookContainer = gd.closest('#notebook-container');\n",
       "if (notebookContainer) {{\n",
       "    x.observe(notebookContainer, {childList: true});\n",
       "}}\n",
       "\n",
       "// Listen for the clearing of the current output cell\n",
       "var outputEl = gd.closest('.output');\n",
       "if (outputEl) {{\n",
       "    x.observe(outputEl, {childList: true});\n",
       "}}\n",
       "\n",
       "                        })\n",
       "                };\n",
       "                });\n",
       "            </script>\n",
       "        </div>"
      ]
     },
     "metadata": {},
     "output_type": "display_data"
    }
   ],
   "source": [
    "import plotly.graph_objects as go\n",
    "\n",
    "# Load data frame and tidy it.\n",
    "import pandas as pd\n",
    "\n",
    "fig = go.Figure(data=go.Choropleth(\n",
    "    locations=df['code'], # Spatial coordinates\n",
    "    z = df['Deaths'], # Data to be color-coded\n",
    "    locationmode = 'USA-states', # set of locations match entries in `locations`\n",
    "    colorscale = 'blues',#Zmin and zmap for limiting the values to be plotted\n",
    "    colorbar_title = \"Confirmed Cases in thousands\"\n",
    "))\n",
    "\n",
    "fig.update_layout(\n",
    "    title_text = 'NUMBER OF DEATHS IN DIFFERENT STATES IN USA',\n",
    "    geo_scope='usa', # limite map scope to USA\n",
    ")\n",
    "#fig.colorbar(sm, orientation=\"horizontal\", fraction=0.036, pad=0.1, aspect = 30)\n",
    "\n",
    "fig.show()"
   ]
  },
  {
   "cell_type": "code",
   "execution_count": 74,
   "metadata": {},
   "outputs": [],
   "source": [
    "from sklearn.model_selection import GridSearchCV\n",
    "from sklearn.preprocessing import StandardScaler\n",
    "from sklearn.cluster import KMeans\n",
    "from sklearn.metrics import silhouette_score,silhouette_samples\n",
    "from sklearn.linear_model import LinearRegression,Ridge,Lasso\n",
    "from sklearn.svm import SVR\n",
    "from sklearn.metrics import mean_squared_error,r2_score\n",
    "import statsmodels.api as sm\n",
    "from statsmodels.tsa.api import Holt,SimpleExpSmoothing,ExponentialSmoothing\n",
    "#from fbprophet import Prophet\n",
    "from sklearn.preprocessing import PolynomialFeatures\n",
    "from statsmodels.tsa.stattools import adfuller\n",
    "#!pip install pyramid-arima\n",
    "#from pyramid.arima import auto_arima\n",
    "#from statsmodels.tsa.arima_model import ARIMA\n",
    "from statsmodels.graphics.tsaplots import plot_acf,plot_pacf\n",
    "std=StandardScaler()"
   ]
  },
  {
   "cell_type": "code",
   "execution_count": 75,
   "metadata": {},
   "outputs": [],
   "source": [
    "X=ProvinceData[[\"Confirmed\",\"Deaths\"]]\n",
    "X=std.fit_transform(X)\n",
    "import sklearn"
   ]
  },
  {
   "cell_type": "markdown",
   "metadata": {},
   "source": [
    "## Finding the optimal value of k"
   ]
  },
  {
   "cell_type": "code",
   "execution_count": 76,
   "metadata": {},
   "outputs": [],
   "source": [
    "def plot_kmeans(dataset):\n",
    "    obs = dataset.copy()\n",
    "    silhouette_score_values = list()\n",
    "    number_of_clusters = range(3, 30)\n",
    "    for i in number_of_clusters:\n",
    "        classifier = KMeans(i, init='k-means++', n_init=10,\n",
    "                            max_iter=300, tol=0.0001, random_state=10)\n",
    "        classifier.fit(obs)\n",
    "        labels = classifier.predict(obs)\n",
    "        silhouette_score_values.append(sklearn.metrics.silhouette_score(\n",
    "            obs, labels, metric='euclidean', random_state=0))\n",
    "\n",
    "    plt.plot(number_of_clusters, silhouette_score_values)\n",
    "    plt.title(\"Silhouette score values vs Numbers of Clusters \")\n",
    "    plt.show()\n",
    "\n",
    "    optimum_number_of_components = number_of_clusters[silhouette_score_values.index(\n",
    "        max(silhouette_score_values))]\n",
    "    print(\"Optimal number of components is:\")\n",
    "    print(optimum_number_of_components)"
   ]
  },
  {
   "cell_type": "code",
   "execution_count": 77,
   "metadata": {},
   "outputs": [
    {
     "data": {
      "image/png": "[encoded data removed]",
      "text/plain": [
       "<Figure size 432x288 with 1 Axes>"
      ]
     },
     "metadata": {
      "needs_background": "light"
     },
     "output_type": "display_data"
    },
    {
     "name": "stdout",
     "output_type": "stream",
     "text": [
      "Optimal number of components is:\n",
      "3\n"
     ]
    }
   ],
   "source": [
    "plot_kmeans(X)"
   ]
  },
  {
   "cell_type": "markdown",
   "metadata": {},
   "source": [
    "## Using 3 clusters for clustering"
   ]
  },
  {
   "cell_type": "code",
   "execution_count": 78,
   "metadata": {},
   "outputs": [
    {
     "data": {
      "text/plain": [
       "KMeans(algorithm='auto', copy_x=True, init='k-means++', max_iter=300,\n",
       "       n_clusters=3, n_init=10, n_jobs=None, precompute_distances='auto',\n",
       "       random_state=42, tol=0.0001, verbose=0)"
      ]
     },
     "execution_count": 78,
     "metadata": {},
     "output_type": "execute_result"
    }
   ],
   "source": [
    "clf_final=KMeans(n_clusters=3,init='k-means++',random_state=42)\n",
    "clf_final.fit(X)"
   ]
  },
  {
   "cell_type": "code",
   "execution_count": 79,
   "metadata": {},
   "outputs": [],
   "source": [
    "ProvinceData[\"Clusters\"]=clf_final.predict(X)"
   ]
  },
  {
   "cell_type": "code",
   "execution_count": 80,
   "metadata": {},
   "outputs": [
    {
     "data": {
      "text/html": [
       "<style  type=\"text/css\" >\n",
       "    #T_5ad9ccc0_99b2_11ea_9251_2816a84fe5farow0_col0 {\n",
       "            background-color:  #67000d;\n",
       "            color:  #f1f1f1;\n",
       "        }    #T_5ad9ccc0_99b2_11ea_9251_2816a84fe5farow0_col1 {\n",
       "            background-color:  #67000d;\n",
       "            color:  #f1f1f1;\n",
       "        }    #T_5ad9ccc0_99b2_11ea_9251_2816a84fe5farow0_col2 {\n",
       "            background-color:  #b81419;\n",
       "            color:  #f1f1f1;\n",
       "        }    #T_5ad9ccc0_99b2_11ea_9251_2816a84fe5farow0_col3 {\n",
       "            background-color:  #fb694a;\n",
       "            color:  #000000;\n",
       "        }    #T_5ad9ccc0_99b2_11ea_9251_2816a84fe5farow1_col0 {\n",
       "            background-color:  #fc8d6d;\n",
       "            color:  #000000;\n",
       "        }    #T_5ad9ccc0_99b2_11ea_9251_2816a84fe5farow1_col1 {\n",
       "            background-color:  #fc9777;\n",
       "            color:  #000000;\n",
       "        }    #T_5ad9ccc0_99b2_11ea_9251_2816a84fe5farow1_col2 {\n",
       "            background-color:  #de2b25;\n",
       "            color:  #f1f1f1;\n",
       "        }    #T_5ad9ccc0_99b2_11ea_9251_2816a84fe5farow1_col3 {\n",
       "            background-color:  #67000d;\n",
       "            color:  #f1f1f1;\n",
       "        }    #T_5ad9ccc0_99b2_11ea_9251_2816a84fe5farow2_col0 {\n",
       "            background-color:  #fcbfa7;\n",
       "            color:  #000000;\n",
       "        }    #T_5ad9ccc0_99b2_11ea_9251_2816a84fe5farow2_col1 {\n",
       "            background-color:  #fedccd;\n",
       "            color:  #000000;\n",
       "        }    #T_5ad9ccc0_99b2_11ea_9251_2816a84fe5farow2_col2 {\n",
       "            background-color:  #fc9c7d;\n",
       "            color:  #000000;\n",
       "        }    #T_5ad9ccc0_99b2_11ea_9251_2816a84fe5farow2_col3 {\n",
       "            background-color:  #67000d;\n",
       "            color:  #f1f1f1;\n",
       "        }    #T_5ad9ccc0_99b2_11ea_9251_2816a84fe5farow3_col0 {\n",
       "            background-color:  #fdc6b0;\n",
       "            color:  #000000;\n",
       "        }    #T_5ad9ccc0_99b2_11ea_9251_2816a84fe5farow3_col1 {\n",
       "            background-color:  #fdcbb6;\n",
       "            color:  #000000;\n",
       "        }    #T_5ad9ccc0_99b2_11ea_9251_2816a84fe5farow3_col2 {\n",
       "            background-color:  #eb372a;\n",
       "            color:  #f1f1f1;\n",
       "        }    #T_5ad9ccc0_99b2_11ea_9251_2816a84fe5farow3_col3 {\n",
       "            background-color:  #67000d;\n",
       "            color:  #f1f1f1;\n",
       "        }    #T_5ad9ccc0_99b2_11ea_9251_2816a84fe5farow4_col0 {\n",
       "            background-color:  #fdccb8;\n",
       "            color:  #000000;\n",
       "        }    #T_5ad9ccc0_99b2_11ea_9251_2816a84fe5farow4_col1 {\n",
       "            background-color:  #fee4d8;\n",
       "            color:  #000000;\n",
       "        }    #T_5ad9ccc0_99b2_11ea_9251_2816a84fe5farow4_col2 {\n",
       "            background-color:  #fcad90;\n",
       "            color:  #000000;\n",
       "        }    #T_5ad9ccc0_99b2_11ea_9251_2816a84fe5farow4_col3 {\n",
       "            background-color:  #67000d;\n",
       "            color:  #f1f1f1;\n",
       "        }    #T_5ad9ccc0_99b2_11ea_9251_2816a84fe5farow5_col0 {\n",
       "            background-color:  #fed9c9;\n",
       "            color:  #000000;\n",
       "        }    #T_5ad9ccc0_99b2_11ea_9251_2816a84fe5farow5_col1 {\n",
       "            background-color:  #fed9c9;\n",
       "            color:  #000000;\n",
       "        }    #T_5ad9ccc0_99b2_11ea_9251_2816a84fe5farow5_col2 {\n",
       "            background-color:  #e63328;\n",
       "            color:  #f1f1f1;\n",
       "        }    #T_5ad9ccc0_99b2_11ea_9251_2816a84fe5farow5_col3 {\n",
       "            background-color:  #67000d;\n",
       "            color:  #f1f1f1;\n",
       "        }    #T_5ad9ccc0_99b2_11ea_9251_2816a84fe5farow6_col0 {\n",
       "            background-color:  #fee3d7;\n",
       "            color:  #000000;\n",
       "        }    #T_5ad9ccc0_99b2_11ea_9251_2816a84fe5farow6_col1 {\n",
       "            background-color:  #fdd4c2;\n",
       "            color:  #000000;\n",
       "        }    #T_5ad9ccc0_99b2_11ea_9251_2816a84fe5farow6_col2 {\n",
       "            background-color:  #67000d;\n",
       "            color:  #f1f1f1;\n",
       "        }    #T_5ad9ccc0_99b2_11ea_9251_2816a84fe5farow6_col3 {\n",
       "            background-color:  #67000d;\n",
       "            color:  #f1f1f1;\n",
       "        }    #T_5ad9ccc0_99b2_11ea_9251_2816a84fe5farow7_col0 {\n",
       "            background-color:  #fee5d8;\n",
       "            color:  #000000;\n",
       "        }    #T_5ad9ccc0_99b2_11ea_9251_2816a84fe5farow7_col1 {\n",
       "            background-color:  #ffefe8;\n",
       "            color:  #000000;\n",
       "        }    #T_5ad9ccc0_99b2_11ea_9251_2816a84fe5farow7_col2 {\n",
       "            background-color:  #fedecf;\n",
       "            color:  #000000;\n",
       "        }    #T_5ad9ccc0_99b2_11ea_9251_2816a84fe5farow7_col3 {\n",
       "            background-color:  #fff5f0;\n",
       "            color:  #000000;\n",
       "        }    #T_5ad9ccc0_99b2_11ea_9251_2816a84fe5farow8_col0 {\n",
       "            background-color:  #fee6da;\n",
       "            color:  #000000;\n",
       "        }    #T_5ad9ccc0_99b2_11ea_9251_2816a84fe5farow8_col1 {\n",
       "            background-color:  #ffebe2;\n",
       "            color:  #000000;\n",
       "        }    #T_5ad9ccc0_99b2_11ea_9251_2816a84fe5farow8_col2 {\n",
       "            background-color:  #fca082;\n",
       "            color:  #000000;\n",
       "        }    #T_5ad9ccc0_99b2_11ea_9251_2816a84fe5farow8_col3 {\n",
       "            background-color:  #fff5f0;\n",
       "            color:  #000000;\n",
       "        }    #T_5ad9ccc0_99b2_11ea_9251_2816a84fe5farow9_col0 {\n",
       "            background-color:  #fee9df;\n",
       "            color:  #000000;\n",
       "        }    #T_5ad9ccc0_99b2_11ea_9251_2816a84fe5farow9_col1 {\n",
       "            background-color:  #ffebe2;\n",
       "            color:  #000000;\n",
       "        }    #T_5ad9ccc0_99b2_11ea_9251_2816a84fe5farow9_col2 {\n",
       "            background-color:  #fc7f5f;\n",
       "            color:  #000000;\n",
       "        }    #T_5ad9ccc0_99b2_11ea_9251_2816a84fe5farow9_col3 {\n",
       "            background-color:  #fff5f0;\n",
       "            color:  #000000;\n",
       "        }    #T_5ad9ccc0_99b2_11ea_9251_2816a84fe5farow10_col0 {\n",
       "            background-color:  #feeae0;\n",
       "            color:  #000000;\n",
       "        }    #T_5ad9ccc0_99b2_11ea_9251_2816a84fe5farow10_col1 {\n",
       "            background-color:  #ffede5;\n",
       "            color:  #000000;\n",
       "        }    #T_5ad9ccc0_99b2_11ea_9251_2816a84fe5farow10_col2 {\n",
       "            background-color:  #fca285;\n",
       "            color:  #000000;\n",
       "        }    #T_5ad9ccc0_99b2_11ea_9251_2816a84fe5farow10_col3 {\n",
       "            background-color:  #fff5f0;\n",
       "            color:  #000000;\n",
       "        }    #T_5ad9ccc0_99b2_11ea_9251_2816a84fe5farow11_col0 {\n",
       "            background-color:  #feeae0;\n",
       "            color:  #000000;\n",
       "        }    #T_5ad9ccc0_99b2_11ea_9251_2816a84fe5farow11_col1 {\n",
       "            background-color:  #fee3d6;\n",
       "            color:  #000000;\n",
       "        }    #T_5ad9ccc0_99b2_11ea_9251_2816a84fe5farow11_col2 {\n",
       "            background-color:  #820711;\n",
       "            color:  #f1f1f1;\n",
       "        }    #T_5ad9ccc0_99b2_11ea_9251_2816a84fe5farow11_col3 {\n",
       "            background-color:  #fff5f0;\n",
       "            color:  #000000;\n",
       "        }    #T_5ad9ccc0_99b2_11ea_9251_2816a84fe5farow12_col0 {\n",
       "            background-color:  #ffebe2;\n",
       "            color:  #000000;\n",
       "        }    #T_5ad9ccc0_99b2_11ea_9251_2816a84fe5farow12_col1 {\n",
       "            background-color:  #fee8dd;\n",
       "            color:  #000000;\n",
       "        }    #T_5ad9ccc0_99b2_11ea_9251_2816a84fe5farow12_col2 {\n",
       "            background-color:  #d82422;\n",
       "            color:  #f1f1f1;\n",
       "        }    #T_5ad9ccc0_99b2_11ea_9251_2816a84fe5farow12_col3 {\n",
       "            background-color:  #fff5f0;\n",
       "            color:  #000000;\n",
       "        }    #T_5ad9ccc0_99b2_11ea_9251_2816a84fe5farow13_col0 {\n",
       "            background-color:  #ffede5;\n",
       "            color:  #000000;\n",
       "        }    #T_5ad9ccc0_99b2_11ea_9251_2816a84fe5farow13_col1 {\n",
       "            background-color:  #fff1ea;\n",
       "            color:  #000000;\n",
       "        }    #T_5ad9ccc0_99b2_11ea_9251_2816a84fe5farow13_col2 {\n",
       "            background-color:  #fdc9b3;\n",
       "            color:  #000000;\n",
       "        }    #T_5ad9ccc0_99b2_11ea_9251_2816a84fe5farow13_col3 {\n",
       "            background-color:  #fff5f0;\n",
       "            color:  #000000;\n",
       "        }    #T_5ad9ccc0_99b2_11ea_9251_2816a84fe5farow14_col0 {\n",
       "            background-color:  #ffeee7;\n",
       "            color:  #000000;\n",
       "        }    #T_5ad9ccc0_99b2_11ea_9251_2816a84fe5farow14_col1 {\n",
       "            background-color:  #ffede5;\n",
       "            color:  #000000;\n",
       "        }    #T_5ad9ccc0_99b2_11ea_9251_2816a84fe5farow14_col2 {\n",
       "            background-color:  #f96245;\n",
       "            color:  #000000;\n",
       "        }    #T_5ad9ccc0_99b2_11ea_9251_2816a84fe5farow14_col3 {\n",
       "            background-color:  #fff5f0;\n",
       "            color:  #000000;\n",
       "        }    #T_5ad9ccc0_99b2_11ea_9251_2816a84fe5farow15_col0 {\n",
       "            background-color:  #ffeee7;\n",
       "            color:  #000000;\n",
       "        }    #T_5ad9ccc0_99b2_11ea_9251_2816a84fe5farow15_col1 {\n",
       "            background-color:  #ffece4;\n",
       "            color:  #000000;\n",
       "        }    #T_5ad9ccc0_99b2_11ea_9251_2816a84fe5farow15_col2 {\n",
       "            background-color:  #f34a36;\n",
       "            color:  #000000;\n",
       "        }    #T_5ad9ccc0_99b2_11ea_9251_2816a84fe5farow15_col3 {\n",
       "            background-color:  #fff5f0;\n",
       "            color:  #000000;\n",
       "        }    #T_5ad9ccc0_99b2_11ea_9251_2816a84fe5farow16_col0 {\n",
       "            background-color:  #fff2eb;\n",
       "            color:  #000000;\n",
       "        }    #T_5ad9ccc0_99b2_11ea_9251_2816a84fe5farow16_col1 {\n",
       "            background-color:  #fff0e8;\n",
       "            color:  #000000;\n",
       "        }    #T_5ad9ccc0_99b2_11ea_9251_2816a84fe5farow16_col2 {\n",
       "            background-color:  #fb6e4e;\n",
       "            color:  #000000;\n",
       "        }    #T_5ad9ccc0_99b2_11ea_9251_2816a84fe5farow16_col3 {\n",
       "            background-color:  #fff5f0;\n",
       "            color:  #000000;\n",
       "        }    #T_5ad9ccc0_99b2_11ea_9251_2816a84fe5farow17_col0 {\n",
       "            background-color:  #fff3ed;\n",
       "            color:  #000000;\n",
       "        }    #T_5ad9ccc0_99b2_11ea_9251_2816a84fe5farow17_col1 {\n",
       "            background-color:  #fff3ed;\n",
       "            color:  #000000;\n",
       "        }    #T_5ad9ccc0_99b2_11ea_9251_2816a84fe5farow17_col2 {\n",
       "            background-color:  #fcbca2;\n",
       "            color:  #000000;\n",
       "        }    #T_5ad9ccc0_99b2_11ea_9251_2816a84fe5farow17_col3 {\n",
       "            background-color:  #fff5f0;\n",
       "            color:  #000000;\n",
       "        }    #T_5ad9ccc0_99b2_11ea_9251_2816a84fe5farow18_col0 {\n",
       "            background-color:  #fff4ee;\n",
       "            color:  #000000;\n",
       "        }    #T_5ad9ccc0_99b2_11ea_9251_2816a84fe5farow18_col1 {\n",
       "            background-color:  #fff1ea;\n",
       "            color:  #000000;\n",
       "        }    #T_5ad9ccc0_99b2_11ea_9251_2816a84fe5farow18_col2 {\n",
       "            background-color:  #fb7252;\n",
       "            color:  #000000;\n",
       "        }    #T_5ad9ccc0_99b2_11ea_9251_2816a84fe5farow18_col3 {\n",
       "            background-color:  #fff5f0;\n",
       "            color:  #000000;\n",
       "        }    #T_5ad9ccc0_99b2_11ea_9251_2816a84fe5farow19_col0 {\n",
       "            background-color:  #fff4ee;\n",
       "            color:  #000000;\n",
       "        }    #T_5ad9ccc0_99b2_11ea_9251_2816a84fe5farow19_col1 {\n",
       "            background-color:  #fff5f0;\n",
       "            color:  #000000;\n",
       "        }    #T_5ad9ccc0_99b2_11ea_9251_2816a84fe5farow19_col2 {\n",
       "            background-color:  #fff5f0;\n",
       "            color:  #000000;\n",
       "        }    #T_5ad9ccc0_99b2_11ea_9251_2816a84fe5farow19_col3 {\n",
       "            background-color:  #fff5f0;\n",
       "            color:  #000000;\n",
       "        }    #T_5ad9ccc0_99b2_11ea_9251_2816a84fe5farow20_col0 {\n",
       "            background-color:  #fff5f0;\n",
       "            color:  #000000;\n",
       "        }    #T_5ad9ccc0_99b2_11ea_9251_2816a84fe5farow20_col1 {\n",
       "            background-color:  #fff3ed;\n",
       "            color:  #000000;\n",
       "        }    #T_5ad9ccc0_99b2_11ea_9251_2816a84fe5farow20_col2 {\n",
       "            background-color:  #fc9272;\n",
       "            color:  #000000;\n",
       "        }    #T_5ad9ccc0_99b2_11ea_9251_2816a84fe5farow20_col3 {\n",
       "            background-color:  #fff5f0;\n",
       "            color:  #000000;\n",
       "        }    #T_5ad9ccc0_99b2_11ea_9251_2816a84fe5farow21_col0 {\n",
       "            background-color:  #fff5f0;\n",
       "            color:  #000000;\n",
       "        }    #T_5ad9ccc0_99b2_11ea_9251_2816a84fe5farow21_col1 {\n",
       "            background-color:  #fff5f0;\n",
       "            color:  #000000;\n",
       "        }    #T_5ad9ccc0_99b2_11ea_9251_2816a84fe5farow21_col2 {\n",
       "            background-color:  #fee7db;\n",
       "            color:  #000000;\n",
       "        }    #T_5ad9ccc0_99b2_11ea_9251_2816a84fe5farow21_col3 {\n",
       "            background-color:  #fff5f0;\n",
       "            color:  #000000;\n",
       "        }</style><table id=\"T_5ad9ccc0_99b2_11ea_9251_2816a84fe5fa\" ><thead>    <tr>        <th class=\"blank level0\" ></th>        <th class=\"col_heading level0 col0\" >Confirmed</th>        <th class=\"col_heading level0 col1\" >Deaths</th>        <th class=\"col_heading level0 col2\" >Mortality</th>        <th class=\"col_heading level0 col3\" >Clusters</th>    </tr>    <tr>        <th class=\"index_name level0\" >Province/State</th>        <th class=\"blank\" ></th>        <th class=\"blank\" ></th>        <th class=\"blank\" ></th>        <th class=\"blank\" ></th>    </tr></thead><tbody>\n",
       "                <tr>\n",
       "                        <th id=\"T_5ad9ccc0_99b2_11ea_9251_2816a84fe5falevel0_row0\" class=\"row_heading level0 row0\" >New York</th>\n",
       "                        <td id=\"T_5ad9ccc0_99b2_11ea_9251_2816a84fe5farow0_col0\" class=\"data row0 col0\" >350121</td>\n",
       "                        <td id=\"T_5ad9ccc0_99b2_11ea_9251_2816a84fe5farow0_col1\" class=\"data row0 col1\" >28232</td>\n",
       "                        <td id=\"T_5ad9ccc0_99b2_11ea_9251_2816a84fe5farow0_col2\" class=\"data row0 col2\" >8.0635</td>\n",
       "                        <td id=\"T_5ad9ccc0_99b2_11ea_9251_2816a84fe5farow0_col3\" class=\"data row0 col3\" >1</td>\n",
       "            </tr>\n",
       "            <tr>\n",
       "                        <th id=\"T_5ad9ccc0_99b2_11ea_9251_2816a84fe5falevel0_row1\" class=\"row_heading level0 row1\" >New Jersey</th>\n",
       "                        <td id=\"T_5ad9ccc0_99b2_11ea_9251_2816a84fe5farow1_col0\" class=\"data row1 col0\" >146504</td>\n",
       "                        <td id=\"T_5ad9ccc0_99b2_11ea_9251_2816a84fe5farow1_col1\" class=\"data row1 col1\" >10363</td>\n",
       "                        <td id=\"T_5ad9ccc0_99b2_11ea_9251_2816a84fe5farow1_col2\" class=\"data row1 col2\" >7.07353</td>\n",
       "                        <td id=\"T_5ad9ccc0_99b2_11ea_9251_2816a84fe5farow1_col3\" class=\"data row1 col3\" >2</td>\n",
       "            </tr>\n",
       "            <tr>\n",
       "                        <th id=\"T_5ad9ccc0_99b2_11ea_9251_2816a84fe5falevel0_row2\" class=\"row_heading level0 row2\" >Illinois</th>\n",
       "                        <td id=\"T_5ad9ccc0_99b2_11ea_9251_2816a84fe5farow2_col0\" class=\"data row2 col0\" >94191</td>\n",
       "                        <td id=\"T_5ad9ccc0_99b2_11ea_9251_2816a84fe5farow2_col1\" class=\"data row2 col1\" >4177</td>\n",
       "                        <td id=\"T_5ad9ccc0_99b2_11ea_9251_2816a84fe5farow2_col2\" class=\"data row2 col2\" >4.43461</td>\n",
       "                        <td id=\"T_5ad9ccc0_99b2_11ea_9251_2816a84fe5farow2_col3\" class=\"data row2 col3\" >2</td>\n",
       "            </tr>\n",
       "            <tr>\n",
       "                        <th id=\"T_5ad9ccc0_99b2_11ea_9251_2816a84fe5falevel0_row3\" class=\"row_heading level0 row3\" >Massachusetts</th>\n",
       "                        <td id=\"T_5ad9ccc0_99b2_11ea_9251_2816a84fe5farow3_col0\" class=\"data row3 col0\" >86010</td>\n",
       "                        <td id=\"T_5ad9ccc0_99b2_11ea_9251_2816a84fe5farow3_col1\" class=\"data row3 col1\" >5797</td>\n",
       "                        <td id=\"T_5ad9ccc0_99b2_11ea_9251_2816a84fe5farow3_col2\" class=\"data row3 col2\" >6.73991</td>\n",
       "                        <td id=\"T_5ad9ccc0_99b2_11ea_9251_2816a84fe5farow3_col3\" class=\"data row3 col3\" >2</td>\n",
       "            </tr>\n",
       "            <tr>\n",
       "                        <th id=\"T_5ad9ccc0_99b2_11ea_9251_2816a84fe5falevel0_row4\" class=\"row_heading level0 row4\" >California</th>\n",
       "                        <td id=\"T_5ad9ccc0_99b2_11ea_9251_2816a84fe5farow4_col0\" class=\"data row4 col0\" >80166</td>\n",
       "                        <td id=\"T_5ad9ccc0_99b2_11ea_9251_2816a84fe5farow4_col1\" class=\"data row4 col1\" >3240</td>\n",
       "                        <td id=\"T_5ad9ccc0_99b2_11ea_9251_2816a84fe5farow4_col2\" class=\"data row4 col2\" >4.04161</td>\n",
       "                        <td id=\"T_5ad9ccc0_99b2_11ea_9251_2816a84fe5farow4_col3\" class=\"data row4 col3\" >2</td>\n",
       "            </tr>\n",
       "            <tr>\n",
       "                        <th id=\"T_5ad9ccc0_99b2_11ea_9251_2816a84fe5falevel0_row5\" class=\"row_heading level0 row5\" >Pennsylvania</th>\n",
       "                        <td id=\"T_5ad9ccc0_99b2_11ea_9251_2816a84fe5farow5_col0\" class=\"data row5 col0\" >65700</td>\n",
       "                        <td id=\"T_5ad9ccc0_99b2_11ea_9251_2816a84fe5farow5_col1\" class=\"data row5 col1\" >4495</td>\n",
       "                        <td id=\"T_5ad9ccc0_99b2_11ea_9251_2816a84fe5farow5_col2\" class=\"data row5 col2\" >6.8417</td>\n",
       "                        <td id=\"T_5ad9ccc0_99b2_11ea_9251_2816a84fe5farow5_col3\" class=\"data row5 col3\" >2</td>\n",
       "            </tr>\n",
       "            <tr>\n",
       "                        <th id=\"T_5ad9ccc0_99b2_11ea_9251_2816a84fe5falevel0_row6\" class=\"row_heading level0 row6\" >Michigan</th>\n",
       "                        <td id=\"T_5ad9ccc0_99b2_11ea_9251_2816a84fe5farow6_col0\" class=\"data row6 col0\" >51142</td>\n",
       "                        <td id=\"T_5ad9ccc0_99b2_11ea_9251_2816a84fe5farow6_col1\" class=\"data row6 col1\" >4891</td>\n",
       "                        <td id=\"T_5ad9ccc0_99b2_11ea_9251_2816a84fe5farow6_col2\" class=\"data row6 col2\" >9.56357</td>\n",
       "                        <td id=\"T_5ad9ccc0_99b2_11ea_9251_2816a84fe5farow6_col3\" class=\"data row6 col3\" >2</td>\n",
       "            </tr>\n",
       "            <tr>\n",
       "                        <th id=\"T_5ad9ccc0_99b2_11ea_9251_2816a84fe5falevel0_row7\" class=\"row_heading level0 row7\" >Texas</th>\n",
       "                        <td id=\"T_5ad9ccc0_99b2_11ea_9251_2816a84fe5farow7_col0\" class=\"data row7 col0\" >48396</td>\n",
       "                        <td id=\"T_5ad9ccc0_99b2_11ea_9251_2816a84fe5farow7_col1\" class=\"data row7 col1\" >1343</td>\n",
       "                        <td id=\"T_5ad9ccc0_99b2_11ea_9251_2816a84fe5farow7_col2\" class=\"data row7 col2\" >2.77502</td>\n",
       "                        <td id=\"T_5ad9ccc0_99b2_11ea_9251_2816a84fe5farow7_col3\" class=\"data row7 col3\" >0</td>\n",
       "            </tr>\n",
       "            <tr>\n",
       "                        <th id=\"T_5ad9ccc0_99b2_11ea_9251_2816a84fe5falevel0_row8\" class=\"row_heading level0 row8\" >Florida</th>\n",
       "                        <td id=\"T_5ad9ccc0_99b2_11ea_9251_2816a84fe5farow8_col0\" class=\"data row8 col0\" >45588</td>\n",
       "                        <td id=\"T_5ad9ccc0_99b2_11ea_9251_2816a84fe5farow8_col1\" class=\"data row8 col1\" >1973</td>\n",
       "                        <td id=\"T_5ad9ccc0_99b2_11ea_9251_2816a84fe5farow8_col2\" class=\"data row8 col2\" >4.32789</td>\n",
       "                        <td id=\"T_5ad9ccc0_99b2_11ea_9251_2816a84fe5farow8_col3\" class=\"data row8 col3\" >0</td>\n",
       "            </tr>\n",
       "            <tr>\n",
       "                        <th id=\"T_5ad9ccc0_99b2_11ea_9251_2816a84fe5falevel0_row9\" class=\"row_heading level0 row9\" >Maryland</th>\n",
       "                        <td id=\"T_5ad9ccc0_99b2_11ea_9251_2816a84fe5farow9_col0\" class=\"data row9 col0\" >38804</td>\n",
       "                        <td id=\"T_5ad9ccc0_99b2_11ea_9251_2816a84fe5farow9_col1\" class=\"data row9 col1\" >1992</td>\n",
       "                        <td id=\"T_5ad9ccc0_99b2_11ea_9251_2816a84fe5farow9_col2\" class=\"data row9 col2\" >5.13349</td>\n",
       "                        <td id=\"T_5ad9ccc0_99b2_11ea_9251_2816a84fe5farow9_col3\" class=\"data row9 col3\" >0</td>\n",
       "            </tr>\n",
       "            <tr>\n",
       "                        <th id=\"T_5ad9ccc0_99b2_11ea_9251_2816a84fe5falevel0_row10\" class=\"row_heading level0 row10\" >Georgia</th>\n",
       "                        <td id=\"T_5ad9ccc0_99b2_11ea_9251_2816a84fe5farow10_col0\" class=\"data row10 col0\" >37579</td>\n",
       "                        <td id=\"T_5ad9ccc0_99b2_11ea_9251_2816a84fe5farow10_col1\" class=\"data row10 col1\" >1610</td>\n",
       "                        <td id=\"T_5ad9ccc0_99b2_11ea_9251_2816a84fe5farow10_col2\" class=\"data row10 col2\" >4.28431</td>\n",
       "                        <td id=\"T_5ad9ccc0_99b2_11ea_9251_2816a84fe5farow10_col3\" class=\"data row10 col3\" >0</td>\n",
       "            </tr>\n",
       "            <tr>\n",
       "                        <th id=\"T_5ad9ccc0_99b2_11ea_9251_2816a84fe5falevel0_row11\" class=\"row_heading level0 row11\" >Connecticut</th>\n",
       "                        <td id=\"T_5ad9ccc0_99b2_11ea_9251_2816a84fe5farow11_col0\" class=\"data row11 col0\" >37419</td>\n",
       "                        <td id=\"T_5ad9ccc0_99b2_11ea_9251_2816a84fe5farow11_col1\" class=\"data row11 col1\" >3408</td>\n",
       "                        <td id=\"T_5ad9ccc0_99b2_11ea_9251_2816a84fe5farow11_col2\" class=\"data row11 col2\" >9.10767</td>\n",
       "                        <td id=\"T_5ad9ccc0_99b2_11ea_9251_2816a84fe5farow11_col3\" class=\"data row11 col3\" >0</td>\n",
       "            </tr>\n",
       "            <tr>\n",
       "                        <th id=\"T_5ad9ccc0_99b2_11ea_9251_2816a84fe5falevel0_row12\" class=\"row_heading level0 row12\" >Louisiana</th>\n",
       "                        <td id=\"T_5ad9ccc0_99b2_11ea_9251_2816a84fe5farow12_col0\" class=\"data row12 col0\" >34432</td>\n",
       "                        <td id=\"T_5ad9ccc0_99b2_11ea_9251_2816a84fe5farow12_col1\" class=\"data row12 col1\" >2491</td>\n",
       "                        <td id=\"T_5ad9ccc0_99b2_11ea_9251_2816a84fe5farow12_col2\" class=\"data row12 col2\" >7.23455</td>\n",
       "                        <td id=\"T_5ad9ccc0_99b2_11ea_9251_2816a84fe5farow12_col3\" class=\"data row12 col3\" >0</td>\n",
       "            </tr>\n",
       "            <tr>\n",
       "                        <th id=\"T_5ad9ccc0_99b2_11ea_9251_2816a84fe5falevel0_row13\" class=\"row_heading level0 row13\" >Virginia</th>\n",
       "                        <td id=\"T_5ad9ccc0_99b2_11ea_9251_2816a84fe5farow13_col0\" class=\"data row13 col0\" >30388</td>\n",
       "                        <td id=\"T_5ad9ccc0_99b2_11ea_9251_2816a84fe5farow13_col1\" class=\"data row13 col1\" >1010</td>\n",
       "                        <td id=\"T_5ad9ccc0_99b2_11ea_9251_2816a84fe5farow13_col2\" class=\"data row13 col2\" >3.32368</td>\n",
       "                        <td id=\"T_5ad9ccc0_99b2_11ea_9251_2816a84fe5farow13_col3\" class=\"data row13 col3\" >0</td>\n",
       "            </tr>\n",
       "            <tr>\n",
       "                        <th id=\"T_5ad9ccc0_99b2_11ea_9251_2816a84fe5falevel0_row14\" class=\"row_heading level0 row14\" >Ohio</th>\n",
       "                        <td id=\"T_5ad9ccc0_99b2_11ea_9251_2816a84fe5farow14_col0\" class=\"data row14 col0\" >27923</td>\n",
       "                        <td id=\"T_5ad9ccc0_99b2_11ea_9251_2816a84fe5farow14_col1\" class=\"data row14 col1\" >1625</td>\n",
       "                        <td id=\"T_5ad9ccc0_99b2_11ea_9251_2816a84fe5farow14_col2\" class=\"data row14 col2\" >5.81958</td>\n",
       "                        <td id=\"T_5ad9ccc0_99b2_11ea_9251_2816a84fe5farow14_col3\" class=\"data row14 col3\" >0</td>\n",
       "            </tr>\n",
       "            <tr>\n",
       "                        <th id=\"T_5ad9ccc0_99b2_11ea_9251_2816a84fe5falevel0_row15\" class=\"row_heading level0 row15\" >Indiana</th>\n",
       "                        <td id=\"T_5ad9ccc0_99b2_11ea_9251_2816a84fe5farow15_col0\" class=\"data row15 col0\" >27778</td>\n",
       "                        <td id=\"T_5ad9ccc0_99b2_11ea_9251_2816a84fe5farow15_col1\" class=\"data row15 col1\" >1751</td>\n",
       "                        <td id=\"T_5ad9ccc0_99b2_11ea_9251_2816a84fe5farow15_col2\" class=\"data row15 col2\" >6.30355</td>\n",
       "                        <td id=\"T_5ad9ccc0_99b2_11ea_9251_2816a84fe5farow15_col3\" class=\"data row15 col3\" >0</td>\n",
       "            </tr>\n",
       "            <tr>\n",
       "                        <th id=\"T_5ad9ccc0_99b2_11ea_9251_2816a84fe5falevel0_row16\" class=\"row_heading level0 row16\" >Colorado</th>\n",
       "                        <td id=\"T_5ad9ccc0_99b2_11ea_9251_2816a84fe5farow16_col0\" class=\"data row16 col0\" >21938</td>\n",
       "                        <td id=\"T_5ad9ccc0_99b2_11ea_9251_2816a84fe5farow16_col1\" class=\"data row16 col1\" >1215</td>\n",
       "                        <td id=\"T_5ad9ccc0_99b2_11ea_9251_2816a84fe5farow16_col2\" class=\"data row16 col2\" >5.53834</td>\n",
       "                        <td id=\"T_5ad9ccc0_99b2_11ea_9251_2816a84fe5farow16_col3\" class=\"data row16 col3\" >0</td>\n",
       "            </tr>\n",
       "            <tr>\n",
       "                        <th id=\"T_5ad9ccc0_99b2_11ea_9251_2816a84fe5falevel0_row17\" class=\"row_heading level0 row17\" >North Carolina</th>\n",
       "                        <td id=\"T_5ad9ccc0_99b2_11ea_9251_2816a84fe5farow17_col0\" class=\"data row17 col0\" >18673</td>\n",
       "                        <td id=\"T_5ad9ccc0_99b2_11ea_9251_2816a84fe5farow17_col1\" class=\"data row17 col1\" >686</td>\n",
       "                        <td id=\"T_5ad9ccc0_99b2_11ea_9251_2816a84fe5farow17_col2\" class=\"data row17 col2\" >3.67375</td>\n",
       "                        <td id=\"T_5ad9ccc0_99b2_11ea_9251_2816a84fe5farow17_col3\" class=\"data row17 col3\" >0</td>\n",
       "            </tr>\n",
       "            <tr>\n",
       "                        <th id=\"T_5ad9ccc0_99b2_11ea_9251_2816a84fe5falevel0_row18\" class=\"row_heading level0 row18\" >Washington</th>\n",
       "                        <td id=\"T_5ad9ccc0_99b2_11ea_9251_2816a84fe5farow18_col0\" class=\"data row18 col0\" >18433</td>\n",
       "                        <td id=\"T_5ad9ccc0_99b2_11ea_9251_2816a84fe5farow18_col1\" class=\"data row18 col1\" >1001</td>\n",
       "                        <td id=\"T_5ad9ccc0_99b2_11ea_9251_2816a84fe5farow18_col2\" class=\"data row18 col2\" >5.43048</td>\n",
       "                        <td id=\"T_5ad9ccc0_99b2_11ea_9251_2816a84fe5farow18_col3\" class=\"data row18 col3\" >0</td>\n",
       "            </tr>\n",
       "            <tr>\n",
       "                        <th id=\"T_5ad9ccc0_99b2_11ea_9251_2816a84fe5falevel0_row19\" class=\"row_heading level0 row19\" >Tennessee</th>\n",
       "                        <td id=\"T_5ad9ccc0_99b2_11ea_9251_2816a84fe5farow19_col0\" class=\"data row19 col0\" >17359</td>\n",
       "                        <td id=\"T_5ad9ccc0_99b2_11ea_9251_2816a84fe5farow19_col1\" class=\"data row19 col1\" >298</td>\n",
       "                        <td id=\"T_5ad9ccc0_99b2_11ea_9251_2816a84fe5farow19_col2\" class=\"data row19 col2\" >1.71669</td>\n",
       "                        <td id=\"T_5ad9ccc0_99b2_11ea_9251_2816a84fe5farow19_col3\" class=\"data row19 col3\" >0</td>\n",
       "            </tr>\n",
       "            <tr>\n",
       "                        <th id=\"T_5ad9ccc0_99b2_11ea_9251_2816a84fe5falevel0_row20\" class=\"row_heading level0 row20\" >Minnesota</th>\n",
       "                        <td id=\"T_5ad9ccc0_99b2_11ea_9251_2816a84fe5farow20_col0\" class=\"data row20 col0\" >15668</td>\n",
       "                        <td id=\"T_5ad9ccc0_99b2_11ea_9251_2816a84fe5farow20_col1\" class=\"data row20 col1\" >731</td>\n",
       "                        <td id=\"T_5ad9ccc0_99b2_11ea_9251_2816a84fe5farow20_col2\" class=\"data row20 col2\" >4.66556</td>\n",
       "                        <td id=\"T_5ad9ccc0_99b2_11ea_9251_2816a84fe5farow20_col3\" class=\"data row20 col3\" >0</td>\n",
       "            </tr>\n",
       "            <tr>\n",
       "                        <th id=\"T_5ad9ccc0_99b2_11ea_9251_2816a84fe5falevel0_row21\" class=\"row_heading level0 row21\" >Iowa</th>\n",
       "                        <td id=\"T_5ad9ccc0_99b2_11ea_9251_2816a84fe5farow21_col0\" class=\"data row21 col0\" >14651</td>\n",
       "                        <td id=\"T_5ad9ccc0_99b2_11ea_9251_2816a84fe5farow21_col1\" class=\"data row21 col1\" >351</td>\n",
       "                        <td id=\"T_5ad9ccc0_99b2_11ea_9251_2816a84fe5farow21_col2\" class=\"data row21 col2\" >2.39574</td>\n",
       "                        <td id=\"T_5ad9ccc0_99b2_11ea_9251_2816a84fe5farow21_col3\" class=\"data row21 col3\" >0</td>\n",
       "            </tr>\n",
       "    </tbody></table>"
      ],
      "text/plain": [
       "<pandas.io.formats.style.Styler at 0x27b6bbaf780>"
      ]
     },
     "execution_count": 80,
     "metadata": {},
     "output_type": "execute_result"
    }
   ],
   "source": [
    "cluster_summary=pd.concat([ProvinceData[ProvinceData[\"Clusters\"]==1],ProvinceData[ProvinceData[\"Clusters\"]==2],ProvinceData[ProvinceData[\"Clusters\"]==3],ProvinceData[ProvinceData[\"Clusters\"]==4],ProvinceData[ProvinceData[\"Clusters\"]==0].head(15)])\n",
    "cluster_summary.style.background_gradient(cmap='Reds')"
   ]
  },
  {
   "cell_type": "code",
   "execution_count": 81,
   "metadata": {},
   "outputs": [
    {
     "data": {
      "image/png": "[encoded data removed]",
      "text/plain": [
       "<Figure size 360x360 with 1 Axes>"
      ]
     },
     "metadata": {
      "needs_background": "light"
     },
     "output_type": "display_data"
    }
   ],
   "source": [
    "plt.figure(figsize=(5,5))\n",
    "plt.xlim(xmax=100000)\n",
    "plt.ylim(ymax=15000)\n",
    "sns.scatterplot(x=ProvinceData[\"Confirmed\"],y=ProvinceData[\"Deaths\"],hue=ProvinceData[\"Clusters\"],s=200)\n",
    "plt.show()"
   ]
  },
  {
   "cell_type": "code",
   "execution_count": 82,
   "metadata": {},
   "outputs": [
    {
     "data": {
      "image/png": "[encoded data removed]",
      "text/plain": [
       "<Figure size 864x504 with 1 Axes>"
      ]
     },
     "metadata": {
      "needs_background": "light"
     },
     "output_type": "display_data"
    }
   ],
   "source": [
    "from mpl_toolkits.mplot3d import Axes3D\n",
    "\n",
    "fig = plt.figure(figsize=(12,7))\n",
    "ax = fig.add_subplot(111, projection='3d')\n",
    "ax.scatter(ProvinceData[\"Confirmed\"],ProvinceData[\"Deaths\"], c=ProvinceData[\"Clusters\"],\n",
    "           marker='o',s=100)\n",
    "ax.view_init(azim=180)\n",
    "ax.set_xlabel('Confirmed Cases')\n",
    "ax.set_zlabel('Death Cases')\n",
    "plt.title(\"Statewise Cluster Plot\")\n",
    "plt.tight_layout()\n",
    "plt.show()"
   ]
  },
  {
   "cell_type": "markdown",
   "metadata": {},
   "source": [
    "### Cluster 0 is a set of states which are very less affected, with comparitively low number of deaths and confirmed cases.\n",
    "\n",
    "### Cluster 1 belongs to states which are worst affected with high number of deaths and confirmed cases.\n",
    "\n",
    "### Cluster 2 is set of states which are severly affected, with really high number of deaths and confirmed cases."
   ]
  },
  {
   "cell_type": "markdown",
   "metadata": {},
   "source": [
    "### Using ML Algorithms for making predictions"
   ]
  },
  {
   "cell_type": "code",
   "execution_count": 83,
   "metadata": {},
   "outputs": [],
   "source": [
    "import datetime as dt"
   ]
  },
  {
   "cell_type": "code",
   "execution_count": 84,
   "metadata": {},
   "outputs": [],
   "source": [
    "datewise=USData.groupby([\"ObservationDate\"]).agg({\"Confirmed\":'sum',\"Recovered\":'sum',\"Deaths\":'sum'})\n",
    "datewise[\"Days Since\"]=datewise.index-datewise.index.min()"
   ]
  },
  {
   "cell_type": "code",
   "execution_count": 85,
   "metadata": {},
   "outputs": [],
   "source": [
    "datewise[\"Days Since\"]=datewise.index-datewise.index[0]\n",
    "datewise[\"Days Since\"]=datewise[\"Days Since\"].dt.days"
   ]
  },
  {
   "cell_type": "code",
   "execution_count": 86,
   "metadata": {},
   "outputs": [],
   "source": [
    "train_ml=datewise.iloc[:int(datewise.shape[0]*0.95)]\n",
    "valid_ml=datewise.iloc[int(datewise.shape[0]*0.95):]\n",
    "model_scores=[]"
   ]
  },
  {
   "cell_type": "code",
   "execution_count": 87,
   "metadata": {},
   "outputs": [
    {
     "name": "stdout",
     "output_type": "stream",
     "text": [
      "Root Mean Square Error for Linear Regression:  438012.82745862653\n"
     ]
    }
   ],
   "source": [
    "lin_reg=LinearRegression(normalize=True)\n",
    "lin_reg.fit(np.array(train_ml[\"Days Since\"]).reshape(-1,1),np.array(train_ml[\"Confirmed\"]).reshape(-1,1))\n",
    "prediction_valid_linreg=lin_reg.predict(np.array(valid_ml[\"Days Since\"]).reshape(-1,1))\n",
    "model_scores.append(np.sqrt(mean_squared_error(valid_ml[\"Confirmed\"],prediction_valid_linreg)))\n",
    "print(\"Root Mean Square Error for Linear Regression: \",np.sqrt(mean_squared_error(valid_ml[\"Confirmed\"],prediction_valid_linreg)))"
   ]
  },
  {
   "cell_type": "code",
   "execution_count": 88,
   "metadata": {},
   "outputs": [
    {
     "data": {
      "text/plain": [
       "<matplotlib.legend.Legend at 0x27b66b72978>"
      ]
     },
     "execution_count": 88,
     "metadata": {},
     "output_type": "execute_result"
    },
    {
     "data": {
      "image/png": "[encoded data removed]",
      "text/plain": [
       "<Figure size 792x432 with 1 Axes>"
      ]
     },
     "metadata": {
      "needs_background": "light"
     },
     "output_type": "display_data"
    }
   ],
   "source": [
    "plt.figure(figsize=(11,6))\n",
    "prediction_linreg=lin_reg.predict(np.array(datewise[\"Days Since\"]).reshape(-1,1))\n",
    "plt.plot(datewise[\"Confirmed\"],label=\"Actual Confirmed Cases\")\n",
    "plt.plot(datewise.index,prediction_linreg, linestyle='--',label=\"Predicted Confirmed Cases using Linear Regression\",color='black')\n",
    "plt.xlabel('Time')\n",
    "plt.ylabel('Confirmed Cases')\n",
    "plt.title(\"Confirmed Cases Linear Regression Prediction\")\n",
    "plt.xticks(rotation=90)\n",
    "plt.legend()"
   ]
  },
  {
   "cell_type": "code",
   "execution_count": 89,
   "metadata": {},
   "outputs": [
    {
     "name": "stdout",
     "output_type": "stream",
     "text": [
      "Root Mean Squared Error for Polynomial Regression:  30614.588566014056\n"
     ]
    }
   ],
   "source": [
    "train_ml=datewise.iloc[:int(datewise.shape[0]*0.95)]\n",
    "valid_ml=datewise.iloc[int(datewise.shape[0]*0.95):]\n",
    "poly = PolynomialFeatures(degree = 6) \n",
    "train_poly=poly.fit_transform(np.array(train_ml[\"Days Since\"]).reshape(-1,1))\n",
    "valid_poly=poly.fit_transform(np.array(valid_ml[\"Days Since\"]).reshape(-1,1))\n",
    "y=train_ml[\"Confirmed\"]\n",
    "linreg=LinearRegression(normalize=True)\n",
    "linreg.fit(train_poly,y)\n",
    "prediction_poly=linreg.predict(valid_poly)\n",
    "rmse_poly=np.sqrt(mean_squared_error(valid_ml[\"Confirmed\"],prediction_poly))\n",
    "model_scores.append(rmse_poly)\n",
    "print(\"Root Mean Squared Error for Polynomial Regression: \",rmse_poly)"
   ]
  },
  {
   "cell_type": "code",
   "execution_count": 90,
   "metadata": {},
   "outputs": [
    {
     "data": {
      "text/plain": [
       "<matplotlib.legend.Legend at 0x27b6be11940>"
      ]
     },
     "execution_count": 90,
     "metadata": {},
     "output_type": "execute_result"
    },
    {
     "data": {
      "image/png": "[encoded data removed]",
      "text/plain": [
       "<Figure size 792x432 with 1 Axes>"
      ]
     },
     "metadata": {
      "needs_background": "light"
     },
     "output_type": "display_data"
    }
   ],
   "source": [
    "comp_data=poly.fit_transform(np.array(datewise[\"Days Since\"]).reshape(-1,1))\n",
    "plt.figure(figsize=(11,6))\n",
    "predictions_poly=linreg.predict(comp_data)\n",
    "plt.plot(datewise[\"Confirmed\"],label=\"Train Confirmed Cases\",linewidth=3)\n",
    "plt.plot(datewise.index,predictions_poly, linestyle='--',label=\"Best Fit for Polynomial Regression\",color='black')\n",
    "plt.xlabel('Time')\n",
    "plt.ylabel('Confirmed Cases')\n",
    "plt.title(\"Confirmed Cases Polynomial Regression Prediction\")\n",
    "plt.xticks(rotation=90)\n",
    "plt.legend()"
   ]
  },
  {
   "cell_type": "code",
   "execution_count": 91,
   "metadata": {},
   "outputs": [],
   "source": [
    "new_prediction_poly=[]\n",
    "for i in range(1,21):\n",
    "    new_date_poly=poly.fit_transform(np.array(datewise[\"Days Since\"].max()+i).reshape(-1,1))\n",
    "    new_prediction_poly.append(linreg.predict(new_date_poly)[0])\n",
    "    "
   ]
  },
  {
   "cell_type": "code",
   "execution_count": 92,
   "metadata": {},
   "outputs": [],
   "source": [
    "model_scores=[]\n",
    "train_ml=datewise.iloc[:int(datewise.shape[0]*0.95)]\n",
    "valid_ml=datewise.iloc[int(datewise.shape[0]*0.95):]"
   ]
  },
  {
   "cell_type": "code",
   "execution_count": 93,
   "metadata": {},
   "outputs": [],
   "source": [
    "new_date=[]\n",
    "new_prediction_lr=[]\n",
    "for i in range(1,21):\n",
    "    new_date.append(datewise.index[-1]+timedelta(days=i))\n",
    "    new_prediction_lr.append(lin_reg.predict(np.array(datewise[\"Days Since\"].max()+i).reshape(-1,1))[0][0])"
   ]
  },
  {
   "cell_type": "code",
   "execution_count": 94,
   "metadata": {},
   "outputs": [
    {
     "data": {
      "text/html": [
       "<div>\n",
       "<style scoped>\n",
       "    .dataframe tbody tr th:only-of-type {\n",
       "        vertical-align: middle;\n",
       "    }\n",
       "\n",
       "    .dataframe tbody tr th {\n",
       "        vertical-align: top;\n",
       "    }\n",
       "\n",
       "    .dataframe thead th {\n",
       "        text-align: right;\n",
       "    }\n",
       "</style>\n",
       "<table border=\"1\" class=\"dataframe\">\n",
       "  <thead>\n",
       "    <tr style=\"text-align: right;\">\n",
       "      <th></th>\n",
       "      <th>Dates</th>\n",
       "      <th>Linear Regression Prediction</th>\n",
       "      <th>Polynonmial Regression Prediction</th>\n",
       "    </tr>\n",
       "  </thead>\n",
       "  <tbody>\n",
       "    <tr>\n",
       "      <th>0</th>\n",
       "      <td>2020-05-18</td>\n",
       "      <td>1032626.3498</td>\n",
       "      <td>1459714.2130</td>\n",
       "    </tr>\n",
       "    <tr>\n",
       "      <th>1</th>\n",
       "      <td>2020-05-19</td>\n",
       "      <td>1044320.6850</td>\n",
       "      <td>1476186.4492</td>\n",
       "    </tr>\n",
       "    <tr>\n",
       "      <th>2</th>\n",
       "      <td>2020-05-20</td>\n",
       "      <td>1056015.0201</td>\n",
       "      <td>1492888.4180</td>\n",
       "    </tr>\n",
       "    <tr>\n",
       "      <th>3</th>\n",
       "      <td>2020-05-21</td>\n",
       "      <td>1067709.3553</td>\n",
       "      <td>1510006.3638</td>\n",
       "    </tr>\n",
       "    <tr>\n",
       "      <th>4</th>\n",
       "      <td>2020-05-22</td>\n",
       "      <td>1079403.6905</td>\n",
       "      <td>1527745.6064</td>\n",
       "    </tr>\n",
       "  </tbody>\n",
       "</table>\n",
       "</div>"
      ],
      "text/plain": [
       "       Dates  Linear Regression Prediction  Polynonmial Regression Prediction\n",
       "0 2020-05-18                  1032626.3498                       1459714.2130\n",
       "1 2020-05-19                  1044320.6850                       1476186.4492\n",
       "2 2020-05-20                  1056015.0201                       1492888.4180\n",
       "3 2020-05-21                  1067709.3553                       1510006.3638\n",
       "4 2020-05-22                  1079403.6905                       1527745.6064"
      ]
     },
     "execution_count": 94,
     "metadata": {},
     "output_type": "execute_result"
    }
   ],
   "source": [
    "pd.set_option('display.float_format', lambda x: '%.4f' % x)\n",
    "model_predictions=pd.DataFrame(zip(new_date,new_prediction_lr,new_prediction_poly),\n",
    "                               columns=[\"Dates\",\"Linear Regression Prediction\",\"Polynonmial Regression Prediction\"])\n",
    "model_predictions.head()"
   ]
  },
  {
   "cell_type": "markdown",
   "metadata": {},
   "source": [
    "## Finding medical facilities using Foursquare API for state with highest number of confirmed cases"
   ]
  },
  {
   "cell_type": "code",
   "execution_count": 45,
   "metadata": {},
   "outputs": [
    {
     "name": "stdout",
     "output_type": "stream",
     "text": [
      "Folium installed\n",
      "Libraries imported.\n"
     ]
    }
   ],
   "source": [
    "import requests # library to handle requests\n",
    "import pandas as pd # library for data analsysis\n",
    "import numpy as np # library to handle data in a vectorized manner\n",
    "import random # library for random number generation\n",
    "\n",
    "#!conda install -c conda-forge geopy --yes \n",
    "from geopy.geocoders import Nominatim # module to convert an address into latitude and longitude values\n",
    "\n",
    "# libraries for displaying images\n",
    "from IPython.display import Image \n",
    "from IPython.core.display import HTML \n",
    "    \n",
    "# tranforming json file into a pandas dataframe library\n",
    "from pandas.io.json import json_normalize\n",
    "print('Folium installed')\n",
    "print('Libraries imported.')"
   ]
  },
  {
   "cell_type": "code",
   "execution_count": 46,
   "metadata": {},
   "outputs": [
    {
     "name": "stdout",
     "output_type": "stream",
     "text": [
      "Your credentails:\n",
      "CLIENT_ID: WG2VJVFBMYEBHNKDLSM0DTR4AMQ04SM2XFCKGJESQWPRD5MP\n",
      "CLIENT_SECRET:Z1BUGGFBZ2KHCXJKWSJU0LMALY5NUW4YIGDC0OPDGXSLO21C\n"
     ]
    }
   ],
   "source": [
    "CLIENT_ID = 'WG2VJVFBMYEBHNKDLSM0DTR4AMQ04SM2XFCKGJESQWPRD5MP' # your Foursquare ID\n",
    "CLIENT_SECRET = 'Z1BUGGFBZ2KHCXJKWSJU0LMALY5NUW4YIGDC0OPDGXSLO21C' # your Foursquare Secret\n",
    "VERSION = '20200413' # Foursquare API version\n",
    "\n",
    "print('Your credentails:')\n",
    "print('CLIENT_ID: ' + CLIENT_ID)\n",
    "print('CLIENT_SECRET:' + CLIENT_SECRET)"
   ]
  },
  {
   "cell_type": "code",
   "execution_count": 288,
   "metadata": {},
   "outputs": [
    {
     "data": {
      "text/html": [
       "<div>\n",
       "<style scoped>\n",
       "    .dataframe tbody tr th:only-of-type {\n",
       "        vertical-align: middle;\n",
       "    }\n",
       "\n",
       "    .dataframe tbody tr th {\n",
       "        vertical-align: top;\n",
       "    }\n",
       "\n",
       "    .dataframe thead th {\n",
       "        text-align: right;\n",
       "    }\n",
       "</style>\n",
       "<table border=\"1\" class=\"dataframe\">\n",
       "  <thead>\n",
       "    <tr style=\"text-align: right;\">\n",
       "      <th></th>\n",
       "      <th>Province/State</th>\n",
       "      <th>Confirmed</th>\n",
       "      <th>Deaths</th>\n",
       "    </tr>\n",
       "  </thead>\n",
       "  <tbody>\n",
       "    <tr>\n",
       "      <th>0</th>\n",
       "      <td>New York</td>\n",
       "      <td>350121.0000</td>\n",
       "      <td>28232.0000</td>\n",
       "    </tr>\n",
       "    <tr>\n",
       "      <th>1</th>\n",
       "      <td>New Jersey</td>\n",
       "      <td>146504.0000</td>\n",
       "      <td>10363.0000</td>\n",
       "    </tr>\n",
       "    <tr>\n",
       "      <th>2</th>\n",
       "      <td>Illinois</td>\n",
       "      <td>94191.0000</td>\n",
       "      <td>4177.0000</td>\n",
       "    </tr>\n",
       "    <tr>\n",
       "      <th>3</th>\n",
       "      <td>Massachusetts</td>\n",
       "      <td>86010.0000</td>\n",
       "      <td>5797.0000</td>\n",
       "    </tr>\n",
       "    <tr>\n",
       "      <th>4</th>\n",
       "      <td>California</td>\n",
       "      <td>80166.0000</td>\n",
       "      <td>3240.0000</td>\n",
       "    </tr>\n",
       "    <tr>\n",
       "      <th>5</th>\n",
       "      <td>Pennsylvania</td>\n",
       "      <td>65700.0000</td>\n",
       "      <td>4495.0000</td>\n",
       "    </tr>\n",
       "    <tr>\n",
       "      <th>6</th>\n",
       "      <td>Michigan</td>\n",
       "      <td>51142.0000</td>\n",
       "      <td>4891.0000</td>\n",
       "    </tr>\n",
       "    <tr>\n",
       "      <th>7</th>\n",
       "      <td>Texas</td>\n",
       "      <td>48396.0000</td>\n",
       "      <td>1343.0000</td>\n",
       "    </tr>\n",
       "    <tr>\n",
       "      <th>8</th>\n",
       "      <td>Florida</td>\n",
       "      <td>45588.0000</td>\n",
       "      <td>1973.0000</td>\n",
       "    </tr>\n",
       "    <tr>\n",
       "      <th>9</th>\n",
       "      <td>Maryland</td>\n",
       "      <td>38804.0000</td>\n",
       "      <td>1992.0000</td>\n",
       "    </tr>\n",
       "    <tr>\n",
       "      <th>10</th>\n",
       "      <td>Georgia</td>\n",
       "      <td>37579.0000</td>\n",
       "      <td>1610.0000</td>\n",
       "    </tr>\n",
       "    <tr>\n",
       "      <th>11</th>\n",
       "      <td>Connecticut</td>\n",
       "      <td>37419.0000</td>\n",
       "      <td>3408.0000</td>\n",
       "    </tr>\n",
       "    <tr>\n",
       "      <th>12</th>\n",
       "      <td>Louisiana</td>\n",
       "      <td>34432.0000</td>\n",
       "      <td>2491.0000</td>\n",
       "    </tr>\n",
       "    <tr>\n",
       "      <th>13</th>\n",
       "      <td>Virginia</td>\n",
       "      <td>30388.0000</td>\n",
       "      <td>1010.0000</td>\n",
       "    </tr>\n",
       "    <tr>\n",
       "      <th>14</th>\n",
       "      <td>Ohio</td>\n",
       "      <td>27923.0000</td>\n",
       "      <td>1625.0000</td>\n",
       "    </tr>\n",
       "    <tr>\n",
       "      <th>15</th>\n",
       "      <td>Indiana</td>\n",
       "      <td>27778.0000</td>\n",
       "      <td>1751.0000</td>\n",
       "    </tr>\n",
       "    <tr>\n",
       "      <th>16</th>\n",
       "      <td>Colorado</td>\n",
       "      <td>21938.0000</td>\n",
       "      <td>1215.0000</td>\n",
       "    </tr>\n",
       "    <tr>\n",
       "      <th>17</th>\n",
       "      <td>North Carolina</td>\n",
       "      <td>18673.0000</td>\n",
       "      <td>686.0000</td>\n",
       "    </tr>\n",
       "    <tr>\n",
       "      <th>18</th>\n",
       "      <td>Washington</td>\n",
       "      <td>18433.0000</td>\n",
       "      <td>1001.0000</td>\n",
       "    </tr>\n",
       "    <tr>\n",
       "      <th>19</th>\n",
       "      <td>Tennessee</td>\n",
       "      <td>17359.0000</td>\n",
       "      <td>298.0000</td>\n",
       "    </tr>\n",
       "    <tr>\n",
       "      <th>20</th>\n",
       "      <td>Minnesota</td>\n",
       "      <td>15668.0000</td>\n",
       "      <td>731.0000</td>\n",
       "    </tr>\n",
       "    <tr>\n",
       "      <th>21</th>\n",
       "      <td>Iowa</td>\n",
       "      <td>14651.0000</td>\n",
       "      <td>351.0000</td>\n",
       "    </tr>\n",
       "    <tr>\n",
       "      <th>22</th>\n",
       "      <td>Arizona</td>\n",
       "      <td>13945.0000</td>\n",
       "      <td>680.0000</td>\n",
       "    </tr>\n",
       "    <tr>\n",
       "      <th>23</th>\n",
       "      <td>Rhode Island</td>\n",
       "      <td>12674.0000</td>\n",
       "      <td>499.0000</td>\n",
       "    </tr>\n",
       "    <tr>\n",
       "      <th>24</th>\n",
       "      <td>Wisconsin</td>\n",
       "      <td>12543.0000</td>\n",
       "      <td>453.0000</td>\n",
       "    </tr>\n",
       "    <tr>\n",
       "      <th>25</th>\n",
       "      <td>Alabama</td>\n",
       "      <td>11771.0000</td>\n",
       "      <td>488.0000</td>\n",
       "    </tr>\n",
       "    <tr>\n",
       "      <th>26</th>\n",
       "      <td>Mississippi</td>\n",
       "      <td>11296.0000</td>\n",
       "      <td>521.0000</td>\n",
       "    </tr>\n",
       "    <tr>\n",
       "      <th>27</th>\n",
       "      <td>Missouri</td>\n",
       "      <td>11108.0000</td>\n",
       "      <td>600.0000</td>\n",
       "    </tr>\n",
       "    <tr>\n",
       "      <th>28</th>\n",
       "      <td>Nebraska</td>\n",
       "      <td>10177.0000</td>\n",
       "      <td>123.0000</td>\n",
       "    </tr>\n",
       "    <tr>\n",
       "      <th>29</th>\n",
       "      <td>South Carolina</td>\n",
       "      <td>8816.0000</td>\n",
       "      <td>385.0000</td>\n",
       "    </tr>\n",
       "    <tr>\n",
       "      <th>30</th>\n",
       "      <td>Kansas</td>\n",
       "      <td>7953.0000</td>\n",
       "      <td>195.0000</td>\n",
       "    </tr>\n",
       "    <tr>\n",
       "      <th>31</th>\n",
       "      <td>Kentucky</td>\n",
       "      <td>7688.0000</td>\n",
       "      <td>334.0000</td>\n",
       "    </tr>\n",
       "    <tr>\n",
       "      <th>32</th>\n",
       "      <td>Delaware</td>\n",
       "      <td>7670.0000</td>\n",
       "      <td>290.0000</td>\n",
       "    </tr>\n",
       "    <tr>\n",
       "      <th>33</th>\n",
       "      <td>Utah</td>\n",
       "      <td>7238.0000</td>\n",
       "      <td>80.0000</td>\n",
       "    </tr>\n",
       "    <tr>\n",
       "      <th>34</th>\n",
       "      <td>District of Columbia</td>\n",
       "      <td>7123.0000</td>\n",
       "      <td>383.0000</td>\n",
       "    </tr>\n",
       "    <tr>\n",
       "      <th>35</th>\n",
       "      <td>Nevada</td>\n",
       "      <td>6949.0000</td>\n",
       "      <td>350.0000</td>\n",
       "    </tr>\n",
       "    <tr>\n",
       "      <th>36</th>\n",
       "      <td>New Mexico</td>\n",
       "      <td>5938.0000</td>\n",
       "      <td>265.0000</td>\n",
       "    </tr>\n",
       "    <tr>\n",
       "      <th>37</th>\n",
       "      <td>Oklahoma</td>\n",
       "      <td>5310.0000</td>\n",
       "      <td>288.0000</td>\n",
       "    </tr>\n",
       "    <tr>\n",
       "      <th>38</th>\n",
       "      <td>Arkansas</td>\n",
       "      <td>4759.0000</td>\n",
       "      <td>98.0000</td>\n",
       "    </tr>\n",
       "    <tr>\n",
       "      <th>39</th>\n",
       "      <td>South Dakota</td>\n",
       "      <td>3987.0000</td>\n",
       "      <td>44.0000</td>\n",
       "    </tr>\n",
       "    <tr>\n",
       "      <th>40</th>\n",
       "      <td>Oregon</td>\n",
       "      <td>3623.0000</td>\n",
       "      <td>137.0000</td>\n",
       "    </tr>\n",
       "    <tr>\n",
       "      <th>41</th>\n",
       "      <td>New Hampshire</td>\n",
       "      <td>3596.0000</td>\n",
       "      <td>172.0000</td>\n",
       "    </tr>\n",
       "    <tr>\n",
       "      <th>42</th>\n",
       "      <td>Puerto Rico</td>\n",
       "      <td>2646.0000</td>\n",
       "      <td>123.0000</td>\n",
       "    </tr>\n",
       "    <tr>\n",
       "      <th>43</th>\n",
       "      <td>Idaho</td>\n",
       "      <td>2419.0000</td>\n",
       "      <td>73.0000</td>\n",
       "    </tr>\n",
       "    <tr>\n",
       "      <th>44</th>\n",
       "      <td>North Dakota</td>\n",
       "      <td>1900.0000</td>\n",
       "      <td>43.0000</td>\n",
       "    </tr>\n",
       "    <tr>\n",
       "      <th>45</th>\n",
       "      <td>Maine</td>\n",
       "      <td>1687.0000</td>\n",
       "      <td>70.0000</td>\n",
       "    </tr>\n",
       "    <tr>\n",
       "      <th>46</th>\n",
       "      <td>West Virginia</td>\n",
       "      <td>1492.0000</td>\n",
       "      <td>67.0000</td>\n",
       "    </tr>\n",
       "    <tr>\n",
       "      <th>47</th>\n",
       "      <td>Vermont</td>\n",
       "      <td>940.0000</td>\n",
       "      <td>54.0000</td>\n",
       "    </tr>\n",
       "    <tr>\n",
       "      <th>48</th>\n",
       "      <td>Wyoming</td>\n",
       "      <td>754.0000</td>\n",
       "      <td>8.0000</td>\n",
       "    </tr>\n",
       "    <tr>\n",
       "      <th>49</th>\n",
       "      <td>Hawaii</td>\n",
       "      <td>640.0000</td>\n",
       "      <td>17.0000</td>\n",
       "    </tr>\n",
       "    <tr>\n",
       "      <th>50</th>\n",
       "      <td>Montana</td>\n",
       "      <td>468.0000</td>\n",
       "      <td>16.0000</td>\n",
       "    </tr>\n",
       "    <tr>\n",
       "      <th>51</th>\n",
       "      <td>Alaska</td>\n",
       "      <td>388.0000</td>\n",
       "      <td>10.0000</td>\n",
       "    </tr>\n",
       "    <tr>\n",
       "      <th>52</th>\n",
       "      <td>Guam</td>\n",
       "      <td>154.0000</td>\n",
       "      <td>5.0000</td>\n",
       "    </tr>\n",
       "    <tr>\n",
       "      <th>53</th>\n",
       "      <td>Grand Princess</td>\n",
       "      <td>103.0000</td>\n",
       "      <td>3.0000</td>\n",
       "    </tr>\n",
       "    <tr>\n",
       "      <th>54</th>\n",
       "      <td>Virgin Islands</td>\n",
       "      <td>69.0000</td>\n",
       "      <td>6.0000</td>\n",
       "    </tr>\n",
       "    <tr>\n",
       "      <th>55</th>\n",
       "      <td>Diamond Princess cruise ship</td>\n",
       "      <td>49.0000</td>\n",
       "      <td>0.0000</td>\n",
       "    </tr>\n",
       "    <tr>\n",
       "      <th>56</th>\n",
       "      <td>Northern Mariana Islands</td>\n",
       "      <td>21.0000</td>\n",
       "      <td>2.0000</td>\n",
       "    </tr>\n",
       "    <tr>\n",
       "      <th>57</th>\n",
       "      <td>Recovered</td>\n",
       "      <td>0.0000</td>\n",
       "      <td>0.0000</td>\n",
       "    </tr>\n",
       "  </tbody>\n",
       "</table>\n",
       "</div>"
      ],
      "text/plain": [
       "                  Province/State   Confirmed     Deaths\n",
       "0                       New York 350121.0000 28232.0000\n",
       "1                     New Jersey 146504.0000 10363.0000\n",
       "2                       Illinois  94191.0000  4177.0000\n",
       "3                  Massachusetts  86010.0000  5797.0000\n",
       "4                     California  80166.0000  3240.0000\n",
       "5                   Pennsylvania  65700.0000  4495.0000\n",
       "6                       Michigan  51142.0000  4891.0000\n",
       "7                          Texas  48396.0000  1343.0000\n",
       "8                        Florida  45588.0000  1973.0000\n",
       "9                       Maryland  38804.0000  1992.0000\n",
       "10                       Georgia  37579.0000  1610.0000\n",
       "11                   Connecticut  37419.0000  3408.0000\n",
       "12                     Louisiana  34432.0000  2491.0000\n",
       "13                      Virginia  30388.0000  1010.0000\n",
       "14                          Ohio  27923.0000  1625.0000\n",
       "15                       Indiana  27778.0000  1751.0000\n",
       "16                      Colorado  21938.0000  1215.0000\n",
       "17                North Carolina  18673.0000   686.0000\n",
       "18                    Washington  18433.0000  1001.0000\n",
       "19                     Tennessee  17359.0000   298.0000\n",
       "20                     Minnesota  15668.0000   731.0000\n",
       "21                          Iowa  14651.0000   351.0000\n",
       "22                       Arizona  13945.0000   680.0000\n",
       "23                  Rhode Island  12674.0000   499.0000\n",
       "24                     Wisconsin  12543.0000   453.0000\n",
       "25                       Alabama  11771.0000   488.0000\n",
       "26                   Mississippi  11296.0000   521.0000\n",
       "27                      Missouri  11108.0000   600.0000\n",
       "28                      Nebraska  10177.0000   123.0000\n",
       "29                South Carolina   8816.0000   385.0000\n",
       "30                        Kansas   7953.0000   195.0000\n",
       "31                      Kentucky   7688.0000   334.0000\n",
       "32                      Delaware   7670.0000   290.0000\n",
       "33                          Utah   7238.0000    80.0000\n",
       "34          District of Columbia   7123.0000   383.0000\n",
       "35                        Nevada   6949.0000   350.0000\n",
       "36                    New Mexico   5938.0000   265.0000\n",
       "37                      Oklahoma   5310.0000   288.0000\n",
       "38                      Arkansas   4759.0000    98.0000\n",
       "39                  South Dakota   3987.0000    44.0000\n",
       "40                        Oregon   3623.0000   137.0000\n",
       "41                 New Hampshire   3596.0000   172.0000\n",
       "42                   Puerto Rico   2646.0000   123.0000\n",
       "43                         Idaho   2419.0000    73.0000\n",
       "44                  North Dakota   1900.0000    43.0000\n",
       "45                         Maine   1687.0000    70.0000\n",
       "46                 West Virginia   1492.0000    67.0000\n",
       "47                       Vermont    940.0000    54.0000\n",
       "48                       Wyoming    754.0000     8.0000\n",
       "49                        Hawaii    640.0000    17.0000\n",
       "50                       Montana    468.0000    16.0000\n",
       "51                        Alaska    388.0000    10.0000\n",
       "52                          Guam    154.0000     5.0000\n",
       "53                Grand Princess    103.0000     3.0000\n",
       "54                Virgin Islands     69.0000     6.0000\n",
       "55  Diamond Princess cruise ship     49.0000     0.0000\n",
       "56      Northern Mariana Islands     21.0000     2.0000\n",
       "57                     Recovered      0.0000     0.0000"
      ]
     },
     "execution_count": 288,
     "metadata": {},
     "output_type": "execute_result"
    }
   ],
   "source": [
    "ProvinceData1=USData[USData[\"ObservationDate\"]==USData[\"ObservationDate\"].max()].groupby([\"Province/State\"]).agg({\"Confirmed\":'sum',\"Deaths\":'sum'}).sort_values([\"Confirmed\"],ascending=False).reset_index()\n",
    "ProvinceData1"
   ]
  },
  {
   "cell_type": "markdown",
   "metadata": {},
   "source": [
    "## Finding the latitude and longitude of the Top 5 states using Geocode"
   ]
  },
  {
   "cell_type": "code",
   "execution_count": 289,
   "metadata": {},
   "outputs": [
    {
     "name": "stdout",
     "output_type": "stream",
     "text": [
      "Requirement already satisfied: opencage in c:\\programdata\\anaconda3\\lib\\site-packages (1.2)\n",
      "Requirement already satisfied: six>=1.4.0 in c:\\programdata\\anaconda3\\lib\\site-packages (from opencage) (1.12.0)\n",
      "Requirement already satisfied: Requests>=2.2.0 in c:\\programdata\\anaconda3\\lib\\site-packages (from opencage) (2.22.0)\n",
      "Requirement already satisfied: chardet<3.1.0,>=3.0.2 in c:\\programdata\\anaconda3\\lib\\site-packages (from Requests>=2.2.0->opencage) (3.0.4)\n",
      "Requirement already satisfied: certifi>=2017.4.17 in c:\\programdata\\anaconda3\\lib\\site-packages (from Requests>=2.2.0->opencage) (2019.6.16)\n",
      "Requirement already satisfied: idna<2.9,>=2.5 in c:\\programdata\\anaconda3\\lib\\site-packages (from Requests>=2.2.0->opencage) (2.8)\n",
      "Requirement already satisfied: urllib3!=1.25.0,!=1.25.1,<1.26,>=1.21.1 in c:\\programdata\\anaconda3\\lib\\site-packages (from Requests>=2.2.0->opencage) (1.24.2)\n"
     ]
    }
   ],
   "source": [
    "def get_location(query):\n",
    "    \"\"\"\n",
    "    This function will return lattitude and longitude of an given address\n",
    "    \"\"\"\n",
    "    geocoder = OpenCageGeocode(key)\n",
    "    results = geocoder.geocode(query)   \n",
    "    \n",
    "    if results:\n",
    "        lat = results[0]['geometry']['lat']\n",
    "        long = results[0]['geometry']['lng']\n",
    "        return [lat, long]\n",
    "    return [None, None]\n",
    "import sys\n",
    "!{sys.executable} -m pip install opencage\n",
    "from opencage.geocoder import OpenCageGeocode\n",
    "\n",
    "key = 'edd0d8824a194625ad263a10de172823' # API Key\n",
    "geocoder = OpenCageGeocode(key)"
   ]
  },
  {
   "cell_type": "code",
   "execution_count": 290,
   "metadata": {},
   "outputs": [],
   "source": [
    "list_lat = []   # create empty lists\n",
    "list_long = []\n",
    "\n",
    "for  row in ProvinceData1['Province/State']:# iterate over rows in dataframe\n",
    "    Name = row\n",
    "    query =  str(Name).strip()\n",
    "    results = geocoder.geocode(query)   \n",
    "    if results: \n",
    "        lat = results[0]['geometry']['lat']\n",
    "        list_lat.append(lat)\n",
    "        long = results[0]['geometry']['lng']\n",
    "        list_long.append(long)\n",
    "    else:\n",
    "        lat = 0\n",
    "        list_lat.append(lat)\n",
    "        long = 0\n",
    "        list_long.append(long)\n",
    "\n",
    "    list_lat\n",
    "    list_long"
   ]
  },
  {
   "cell_type": "markdown",
   "metadata": {},
   "source": [
    "### Finding medical facilities in New York using foursquare API"
   ]
  },
  {
   "cell_type": "code",
   "execution_count": 291,
   "metadata": {},
   "outputs": [
    {
     "data": {
      "text/html": [
       "<div>\n",
       "<style scoped>\n",
       "    .dataframe tbody tr th:only-of-type {\n",
       "        vertical-align: middle;\n",
       "    }\n",
       "\n",
       "    .dataframe tbody tr th {\n",
       "        vertical-align: top;\n",
       "    }\n",
       "\n",
       "    .dataframe thead th {\n",
       "        text-align: right;\n",
       "    }\n",
       "</style>\n",
       "<table border=\"1\" class=\"dataframe\">\n",
       "  <thead>\n",
       "    <tr style=\"text-align: right;\">\n",
       "      <th></th>\n",
       "      <th>Province/State</th>\n",
       "      <th>Confirmed</th>\n",
       "      <th>Deaths</th>\n",
       "      <th>Latitude</th>\n",
       "      <th>Longitude</th>\n",
       "    </tr>\n",
       "  </thead>\n",
       "  <tbody>\n",
       "    <tr>\n",
       "      <th>0</th>\n",
       "      <td>New York</td>\n",
       "      <td>350121.0000</td>\n",
       "      <td>28232.0000</td>\n",
       "      <td>40.7127</td>\n",
       "      <td>-74.0060</td>\n",
       "    </tr>\n",
       "    <tr>\n",
       "      <th>1</th>\n",
       "      <td>New Jersey</td>\n",
       "      <td>146504.0000</td>\n",
       "      <td>10363.0000</td>\n",
       "      <td>40.0757</td>\n",
       "      <td>-74.4042</td>\n",
       "    </tr>\n",
       "    <tr>\n",
       "      <th>2</th>\n",
       "      <td>Illinois</td>\n",
       "      <td>94191.0000</td>\n",
       "      <td>4177.0000</td>\n",
       "      <td>40.0797</td>\n",
       "      <td>-89.4337</td>\n",
       "    </tr>\n",
       "    <tr>\n",
       "      <th>3</th>\n",
       "      <td>Massachusetts</td>\n",
       "      <td>86010.0000</td>\n",
       "      <td>5797.0000</td>\n",
       "      <td>42.3789</td>\n",
       "      <td>-72.0324</td>\n",
       "    </tr>\n",
       "    <tr>\n",
       "      <th>4</th>\n",
       "      <td>California</td>\n",
       "      <td>80166.0000</td>\n",
       "      <td>3240.0000</td>\n",
       "      <td>36.7015</td>\n",
       "      <td>-118.7560</td>\n",
       "    </tr>\n",
       "  </tbody>\n",
       "</table>\n",
       "</div>"
      ],
      "text/plain": [
       "  Province/State   Confirmed     Deaths  Latitude  Longitude\n",
       "0       New York 350121.0000 28232.0000   40.7127   -74.0060\n",
       "1     New Jersey 146504.0000 10363.0000   40.0757   -74.4042\n",
       "2       Illinois  94191.0000  4177.0000   40.0797   -89.4337\n",
       "3  Massachusetts  86010.0000  5797.0000   42.3789   -72.0324\n",
       "4     California  80166.0000  3240.0000   36.7015  -118.7560"
      ]
     },
     "execution_count": 291,
     "metadata": {},
     "output_type": "execute_result"
    }
   ],
   "source": [
    "ProvinceData1['Latitude']=list_lat\n",
    "ProvinceData1['Longitude']= list_long\n",
    "ProvinceData1=ProvinceData1.sort_values(by=['Confirmed'],ascending=False)\n",
    "ProvinceData1=ProvinceData1.head(5)\n",
    "ProvinceData1"
   ]
  },
  {
   "cell_type": "code",
   "execution_count": 385,
   "metadata": {},
   "outputs": [],
   "source": [
    "# Now, let us fetch hospital information for each Municipality\n",
    "def get_hospital_data(lat, lng):\n",
    "    \"\"\"\n",
    "    We are going to utilize foursquare API to fetch hospital data. It will take latitude, longitude and return hospital information.\n",
    "    \"\"\"\n",
    "    radius = 10000\n",
    "    LIMIT = 100\n",
    "    FS_CLIENT_ID = 'KI3TR0QO4JOKMFELOMF3WSOOI3HFNBF5YLW354MYWBKDHEX3' # Foursquare ID\n",
    "    FS_CLIENT_SECRET = 'QF4ZBLJRBV4BQX52DVWUPEHJ14A2UJABPCZARZQZYTKIISUD' # Foursquare Secret\n",
    "    VERSION = '20181206' # Foursquare API version\n",
    "    FS_HOSPITAL_KEY = \"4bf58dd8d48988d104941735\"\n",
    "    url = 'https://api.foursquare.com/v2/venues/search?&client_id={}&client_secret={}&v={}&ll={},{}&radius={}&limit={}&categoryId={}'.format(\n",
    "        FS_CLIENT_ID,\n",
    "        FS_CLIENT_SECRET,\n",
    "        VERSION,\n",
    "        lat,\n",
    "        lng,\n",
    "        radius,\n",
    "        LIMIT,\n",
    "        FS_HOSPITAL_KEY)\n",
    "    response = requests.get(url)\n",
    "    if not response.status_code == 200:\n",
    "        print(\"ERROR\", response.status_code, response.content)\n",
    "        return None\n",
    "    results = response.json()\n",
    "    venue_data = results[\"response\"][\"venues\"]\n",
    "    venue_details = []\n",
    "    for row in venue_data:\n",
    "        try:\n",
    "            venue_id = row['id']\n",
    "            venue_name = row['name']\n",
    "            lat = row[\"location\"][\"lat\"]\n",
    "            lng = row[\"location\"][\"lng\"]\n",
    "            venue_category = row['categories']\n",
    "            venue_details.append(\n",
    "                [venue_id, venue_name, lat, lng, venue_category])\n",
    "        except KeyError:\n",
    "            pass\n",
    "\n",
    "    column_names = ['ID', 'Name', 'Latitude',\n",
    "                    'Longitude', \"Venue Category\"]\n",
    "    df = pd.DataFrame(venue_details, columns=column_names)\n",
    "    return df"
   ]
  },
  {
   "cell_type": "code",
   "execution_count": 386,
   "metadata": {},
   "outputs": [],
   "source": [
    "ProvinceData1 = ProvinceData1.replace(r'\\n',  ' ', regex=True)"
   ]
  },
  {
   "cell_type": "markdown",
   "metadata": {},
   "source": [
    "## Analysing healthcare facilities in New York"
   ]
  },
  {
   "cell_type": "code",
   "execution_count": 388,
   "metadata": {},
   "outputs": [],
   "source": [
    "df=get_hospital_data(40.7127,-74.0060)"
   ]
  },
  {
   "cell_type": "code",
   "execution_count": 393,
   "metadata": {},
   "outputs": [
    {
     "data": {
      "text/html": [
       "<div>\n",
       "<style scoped>\n",
       "    .dataframe tbody tr th:only-of-type {\n",
       "        vertical-align: middle;\n",
       "    }\n",
       "\n",
       "    .dataframe tbody tr th {\n",
       "        vertical-align: top;\n",
       "    }\n",
       "\n",
       "    .dataframe thead th {\n",
       "        text-align: right;\n",
       "    }\n",
       "</style>\n",
       "<table border=\"1\" class=\"dataframe\">\n",
       "  <thead>\n",
       "    <tr style=\"text-align: right;\">\n",
       "      <th></th>\n",
       "      <th>ID</th>\n",
       "      <th>Name</th>\n",
       "      <th>Latitude</th>\n",
       "      <th>Longitude</th>\n",
       "      <th>Venue Category</th>\n",
       "      <th>Category</th>\n",
       "    </tr>\n",
       "  </thead>\n",
       "  <tbody>\n",
       "    <tr>\n",
       "      <th>0</th>\n",
       "      <td>4a82ef0af964a52092f91fe3</td>\n",
       "      <td>NewYork-Presbyterian-Lower Manhattan Hospital</td>\n",
       "      <td>40.7099</td>\n",
       "      <td>-74.0048</td>\n",
       "      <td>[{'id': '4bf58dd8d48988d196941735', 'name': 'H...</td>\n",
       "      <td>0</td>\n",
       "    </tr>\n",
       "    <tr>\n",
       "      <th>1</th>\n",
       "      <td>50c0b119e4b0c4d42f979cd1</td>\n",
       "      <td>Hudson Allergy</td>\n",
       "      <td>40.7141</td>\n",
       "      <td>-74.0095</td>\n",
       "      <td>[{'id': '4bf58dd8d48988d177941735', 'name': 'D...</td>\n",
       "      <td>0</td>\n",
       "    </tr>\n",
       "    <tr>\n",
       "      <th>2</th>\n",
       "      <td>5eb9a8d1a5a70d00088f5f1d</td>\n",
       "      <td>CityMD West 57th Urgent Care - NYC</td>\n",
       "      <td>40.7674</td>\n",
       "      <td>-73.9837</td>\n",
       "      <td>[{'id': '56aa371be4b08b9a8d573526', 'name': 'U...</td>\n",
       "      <td>0</td>\n",
       "    </tr>\n",
       "    <tr>\n",
       "      <th>3</th>\n",
       "      <td>5644e694498e5f3d3f853e80</td>\n",
       "      <td>Crown Heights Center for Nursing and Rehabilit...</td>\n",
       "      <td>40.6748</td>\n",
       "      <td>-73.9459</td>\n",
       "      <td>[{'id': '4bf58dd8d48988d196941735', 'name': 'H...</td>\n",
       "      <td>0</td>\n",
       "    </tr>\n",
       "    <tr>\n",
       "      <th>4</th>\n",
       "      <td>5c3fa31d3731ee002c43162d</td>\n",
       "      <td>Klingenstein Clinical Center</td>\n",
       "      <td>40.7897</td>\n",
       "      <td>-73.9526</td>\n",
       "      <td>[{'id': '4bf58dd8d48988d196941735', 'name': 'H...</td>\n",
       "      <td>0</td>\n",
       "    </tr>\n",
       "    <tr>\n",
       "      <th>5</th>\n",
       "      <td>5e66496ef3bac00008605f07</td>\n",
       "      <td>Harlem Hospital Child Psych @ Ronald Brown Bui...</td>\n",
       "      <td>40.8148</td>\n",
       "      <td>-73.9389</td>\n",
       "      <td>[{'id': '4bf58dd8d48988d196941735', 'name': 'H...</td>\n",
       "      <td>0</td>\n",
       "    </tr>\n",
       "    <tr>\n",
       "      <th>6</th>\n",
       "      <td>5a1420421ffed768ee24fe07</td>\n",
       "      <td>Cardiac Cath Lab @ Mt Sinai St Lukes</td>\n",
       "      <td>40.8053</td>\n",
       "      <td>-73.9615</td>\n",
       "      <td>[{'id': '4f4531b14b9074f6e4fb0103', 'name': 'M...</td>\n",
       "      <td>0</td>\n",
       "    </tr>\n",
       "    <tr>\n",
       "      <th>7</th>\n",
       "      <td>51f682d1498e76b181e00bcf</td>\n",
       "      <td>Starbase Optometry</td>\n",
       "      <td>40.7547</td>\n",
       "      <td>-73.9712</td>\n",
       "      <td>[{'id': '4bf58dd8d48988d177941735', 'name': 'D...</td>\n",
       "      <td>0</td>\n",
       "    </tr>\n",
       "    <tr>\n",
       "      <th>8</th>\n",
       "      <td>5bb21660e55d8b003981b3fd</td>\n",
       "      <td>Davita Dialyis</td>\n",
       "      <td>40.7296</td>\n",
       "      <td>-74.0614</td>\n",
       "      <td>[{'id': '4bf58dd8d48988d104941735', 'name': 'M...</td>\n",
       "      <td>0</td>\n",
       "    </tr>\n",
       "    <tr>\n",
       "      <th>9</th>\n",
       "      <td>4e78a089c65b8073f58dabe9</td>\n",
       "      <td>New York Community Hospital</td>\n",
       "      <td>40.6139</td>\n",
       "      <td>-73.9486</td>\n",
       "      <td>[{'id': '4bf58dd8d48988d196941735', 'name': 'H...</td>\n",
       "      <td>0</td>\n",
       "    </tr>\n",
       "    <tr>\n",
       "      <th>10</th>\n",
       "      <td>52544ed111d2d71cc769ab51</td>\n",
       "      <td>NY Methodist Hospital - Pediatrics</td>\n",
       "      <td>40.6682</td>\n",
       "      <td>-73.9775</td>\n",
       "      <td>[{'id': '4bf58dd8d48988d177941735', 'name': 'D...</td>\n",
       "      <td>0</td>\n",
       "    </tr>\n",
       "    <tr>\n",
       "      <th>11</th>\n",
       "      <td>4a43baaaf964a520b9a61fe3</td>\n",
       "      <td>Bellevue Hospital Center</td>\n",
       "      <td>40.7395</td>\n",
       "      <td>-73.9755</td>\n",
       "      <td>[{'id': '4bf58dd8d48988d196941735', 'name': 'H...</td>\n",
       "      <td>0</td>\n",
       "    </tr>\n",
       "    <tr>\n",
       "      <th>12</th>\n",
       "      <td>4a9d8f44f964a5207e3820e3</td>\n",
       "      <td>The Mount Sinai Hospital</td>\n",
       "      <td>40.7900</td>\n",
       "      <td>-73.9527</td>\n",
       "      <td>[{'id': '4bf58dd8d48988d196941735', 'name': 'H...</td>\n",
       "      <td>0</td>\n",
       "    </tr>\n",
       "    <tr>\n",
       "      <th>13</th>\n",
       "      <td>4ad635d8f964a520c40521e3</td>\n",
       "      <td>Memorial Sloan Kettering Cancer Center</td>\n",
       "      <td>40.7642</td>\n",
       "      <td>-73.9562</td>\n",
       "      <td>[{'id': '4bf58dd8d48988d196941735', 'name': 'H...</td>\n",
       "      <td>0</td>\n",
       "    </tr>\n",
       "    <tr>\n",
       "      <th>14</th>\n",
       "      <td>4a386563f964a520f29e1fe3</td>\n",
       "      <td>NewYork-Presbyterian Brooklyn Methodist Hospital</td>\n",
       "      <td>40.6677</td>\n",
       "      <td>-73.9784</td>\n",
       "      <td>[{'id': '4bf58dd8d48988d196941735', 'name': 'H...</td>\n",
       "      <td>0</td>\n",
       "    </tr>\n",
       "    <tr>\n",
       "      <th>15</th>\n",
       "      <td>4a78348ff964a52046e51fe3</td>\n",
       "      <td>Hospital for Special Surgery</td>\n",
       "      <td>40.7653</td>\n",
       "      <td>-73.9527</td>\n",
       "      <td>[{'id': '4bf58dd8d48988d196941735', 'name': 'H...</td>\n",
       "      <td>0</td>\n",
       "    </tr>\n",
       "    <tr>\n",
       "      <th>16</th>\n",
       "      <td>4af2b0def964a5203fe821e3</td>\n",
       "      <td>Mount Sinai Morningside</td>\n",
       "      <td>40.8056</td>\n",
       "      <td>-73.9613</td>\n",
       "      <td>[{'id': '4bf58dd8d48988d196941735', 'name': 'H...</td>\n",
       "      <td>0</td>\n",
       "    </tr>\n",
       "    <tr>\n",
       "      <th>17</th>\n",
       "      <td>4a889b61f964a520180720e3</td>\n",
       "      <td>The Animal Medical Center</td>\n",
       "      <td>40.7600</td>\n",
       "      <td>-73.9579</td>\n",
       "      <td>[{'id': '4d954af4a243a5684765b473', 'name': 'V...</td>\n",
       "      <td>0</td>\n",
       "    </tr>\n",
       "    <tr>\n",
       "      <th>18</th>\n",
       "      <td>4ab66100f964a520ce7620e3</td>\n",
       "      <td>Maimonides Medical Center</td>\n",
       "      <td>40.6395</td>\n",
       "      <td>-73.9983</td>\n",
       "      <td>[{'id': '4bf58dd8d48988d196941735', 'name': 'H...</td>\n",
       "      <td>0</td>\n",
       "    </tr>\n",
       "    <tr>\n",
       "      <th>19</th>\n",
       "      <td>4a5bece4f964a52000bc1fe3</td>\n",
       "      <td>New York Presbyterian Hospital Weill Cornell M...</td>\n",
       "      <td>40.7648</td>\n",
       "      <td>-73.9541</td>\n",
       "      <td>[{'id': '4bf58dd8d48988d196941735', 'name': 'H...</td>\n",
       "      <td>0</td>\n",
       "    </tr>\n",
       "    <tr>\n",
       "      <th>20</th>\n",
       "      <td>4b918efcf964a52078c533e3</td>\n",
       "      <td>Harlem Hospital Center</td>\n",
       "      <td>40.8144</td>\n",
       "      <td>-73.9405</td>\n",
       "      <td>[{'id': '4bf58dd8d48988d196941735', 'name': 'H...</td>\n",
       "      <td>0</td>\n",
       "    </tr>\n",
       "    <tr>\n",
       "      <th>21</th>\n",
       "      <td>49f1c450f964a520b6691fe3</td>\n",
       "      <td>Mount Sinai West</td>\n",
       "      <td>40.7695</td>\n",
       "      <td>-73.9864</td>\n",
       "      <td>[{'id': '4bf58dd8d48988d196941735', 'name': 'H...</td>\n",
       "      <td>0</td>\n",
       "    </tr>\n",
       "    <tr>\n",
       "      <th>22</th>\n",
       "      <td>4a856435f964a5203afe1fe3</td>\n",
       "      <td>Mount Sinai Beth Israel</td>\n",
       "      <td>40.7332</td>\n",
       "      <td>-73.9821</td>\n",
       "      <td>[{'id': '4bf58dd8d48988d196941735', 'name': 'H...</td>\n",
       "      <td>0</td>\n",
       "    </tr>\n",
       "    <tr>\n",
       "      <th>23</th>\n",
       "      <td>4b5dc610f964a520ea6a29e3</td>\n",
       "      <td>Hackensack Meridian Health Palisades Medical C...</td>\n",
       "      <td>40.7940</td>\n",
       "      <td>-73.9959</td>\n",
       "      <td>[{'id': '4bf58dd8d48988d104941735', 'name': 'M...</td>\n",
       "      <td>0</td>\n",
       "    </tr>\n",
       "    <tr>\n",
       "      <th>24</th>\n",
       "      <td>4adca1e5f964a5201e2e21e3</td>\n",
       "      <td>Metropolitan Hospital Center</td>\n",
       "      <td>40.7849</td>\n",
       "      <td>-73.9449</td>\n",
       "      <td>[{'id': '4bf58dd8d48988d196941735', 'name': 'H...</td>\n",
       "      <td>0</td>\n",
       "    </tr>\n",
       "    <tr>\n",
       "      <th>25</th>\n",
       "      <td>4b9275adf964a5202dfb33e3</td>\n",
       "      <td>CarePoint Health: Bayonne Medical Center</td>\n",
       "      <td>40.6682</td>\n",
       "      <td>-74.1123</td>\n",
       "      <td>[{'id': '4bf58dd8d48988d196941735', 'name': 'H...</td>\n",
       "      <td>0</td>\n",
       "    </tr>\n",
       "    <tr>\n",
       "      <th>26</th>\n",
       "      <td>4e9e7dde7ee511e1b7ac587c</td>\n",
       "      <td>NYU Lutheran Emergency Department</td>\n",
       "      <td>40.6461</td>\n",
       "      <td>-74.0203</td>\n",
       "      <td>[{'id': '4bf58dd8d48988d194941735', 'name': 'E...</td>\n",
       "      <td>0</td>\n",
       "    </tr>\n",
       "    <tr>\n",
       "      <th>27</th>\n",
       "      <td>4b8d18c5f964a520b7e732e3</td>\n",
       "      <td>NYU Medical Center Emergency Department</td>\n",
       "      <td>40.7429</td>\n",
       "      <td>-73.9741</td>\n",
       "      <td>[{'id': '4bf58dd8d48988d194941735', 'name': 'E...</td>\n",
       "      <td>0</td>\n",
       "    </tr>\n",
       "    <tr>\n",
       "      <th>28</th>\n",
       "      <td>5484f9d8498e9b7b781d7d47</td>\n",
       "      <td>CityMD</td>\n",
       "      <td>40.7331</td>\n",
       "      <td>-73.9867</td>\n",
       "      <td>[{'id': '4bf58dd8d48988d177941735', 'name': 'D...</td>\n",
       "      <td>0</td>\n",
       "    </tr>\n",
       "    <tr>\n",
       "      <th>29</th>\n",
       "      <td>4c2ce033d1a10f476627fa64</td>\n",
       "      <td>Memorial Sloan Kettering Evelyn H. Lauder Brea...</td>\n",
       "      <td>40.7645</td>\n",
       "      <td>-73.9611</td>\n",
       "      <td>[{'id': '4bf58dd8d48988d104941735', 'name': 'M...</td>\n",
       "      <td>0</td>\n",
       "    </tr>\n",
       "    <tr>\n",
       "      <th>30</th>\n",
       "      <td>4f67a70ee4b0f3808b581f87</td>\n",
       "      <td>NYU Langone Center for Musculoskeletal Care</td>\n",
       "      <td>40.7468</td>\n",
       "      <td>-73.9723</td>\n",
       "      <td>[{'id': '4bf58dd8d48988d104941735', 'name': 'M...</td>\n",
       "      <td>0</td>\n",
       "    </tr>\n",
       "    <tr>\n",
       "      <th>31</th>\n",
       "      <td>4a4cc69df964a52040ad1fe3</td>\n",
       "      <td>Lenox Hill Hospital</td>\n",
       "      <td>40.7740</td>\n",
       "      <td>-73.9608</td>\n",
       "      <td>[{'id': '4bf58dd8d48988d196941735', 'name': 'H...</td>\n",
       "      <td>0</td>\n",
       "    </tr>\n",
       "    <tr>\n",
       "      <th>32</th>\n",
       "      <td>56602ba6498e7f038fd2e56b</td>\n",
       "      <td>NYU Kimmel Pavilion</td>\n",
       "      <td>40.7430</td>\n",
       "      <td>-73.9730</td>\n",
       "      <td>[{'id': '4bf58dd8d48988d196941735', 'name': 'H...</td>\n",
       "      <td>0</td>\n",
       "    </tr>\n",
       "    <tr>\n",
       "      <th>33</th>\n",
       "      <td>4a36c1b9f964a520dd9d1fe3</td>\n",
       "      <td>NYU Langone Medical Center</td>\n",
       "      <td>40.7418</td>\n",
       "      <td>-73.9742</td>\n",
       "      <td>[{'id': '4bf58dd8d48988d196941735', 'name': 'H...</td>\n",
       "      <td>0</td>\n",
       "    </tr>\n",
       "    <tr>\n",
       "      <th>34</th>\n",
       "      <td>4d0267cce117f04dfd3d24bf</td>\n",
       "      <td>Zuckerman Research Center</td>\n",
       "      <td>40.7652</td>\n",
       "      <td>-73.9567</td>\n",
       "      <td>[{'id': '4f4531b14b9074f6e4fb0103', 'name': 'M...</td>\n",
       "      <td>0</td>\n",
       "    </tr>\n",
       "    <tr>\n",
       "      <th>35</th>\n",
       "      <td>4dc91a141f6e936efe51ac20</td>\n",
       "      <td>Maimonides Medical Center ER</td>\n",
       "      <td>40.6388</td>\n",
       "      <td>-73.9974</td>\n",
       "      <td>[{'id': '4bf58dd8d48988d194941735', 'name': 'E...</td>\n",
       "      <td>0</td>\n",
       "    </tr>\n",
       "    <tr>\n",
       "      <th>36</th>\n",
       "      <td>4a896d11f964a520020820e3</td>\n",
       "      <td>NYU Lutheran Medical Center</td>\n",
       "      <td>40.6470</td>\n",
       "      <td>-74.0214</td>\n",
       "      <td>[{'id': '4bf58dd8d48988d196941735', 'name': 'H...</td>\n",
       "      <td>0</td>\n",
       "    </tr>\n",
       "    <tr>\n",
       "      <th>37</th>\n",
       "      <td>4e1c94ded22dd2c50eea57af</td>\n",
       "      <td>Mount Sinai Guggenheim Pavilion</td>\n",
       "      <td>40.7900</td>\n",
       "      <td>-73.9529</td>\n",
       "      <td>[{'id': '4bf58dd8d48988d196941735', 'name': 'H...</td>\n",
       "      <td>0</td>\n",
       "    </tr>\n",
       "    <tr>\n",
       "      <th>38</th>\n",
       "      <td>4e0267a9e4cdbd9a51744db1</td>\n",
       "      <td>Mt. Sinai Center for Advanced Medicine (CAM) B...</td>\n",
       "      <td>40.7912</td>\n",
       "      <td>-73.9520</td>\n",
       "      <td>[{'id': '4bf58dd8d48988d196941735', 'name': 'H...</td>\n",
       "      <td>0</td>\n",
       "    </tr>\n",
       "    <tr>\n",
       "      <th>39</th>\n",
       "      <td>4df6270c22718759f82857bc</td>\n",
       "      <td>NewYork-Presbyterian Maternity Ward</td>\n",
       "      <td>40.7638</td>\n",
       "      <td>-73.9542</td>\n",
       "      <td>[{'id': '58daa1558bbb0b01f18ec1f7', 'name': 'H...</td>\n",
       "      <td>0</td>\n",
       "    </tr>\n",
       "    <tr>\n",
       "      <th>40</th>\n",
       "      <td>4a413a7ff964a520fda41fe3</td>\n",
       "      <td>Rockefeller Research Laboratories</td>\n",
       "      <td>40.7639</td>\n",
       "      <td>-73.9568</td>\n",
       "      <td>[{'id': '4bf58dd8d48988d104941735', 'name': 'M...</td>\n",
       "      <td>0</td>\n",
       "    </tr>\n",
       "    <tr>\n",
       "      <th>41</th>\n",
       "      <td>59c589c650a6f05ddc9007a6</td>\n",
       "      <td>Veterinary Emergency &amp; Referral Group</td>\n",
       "      <td>40.6783</td>\n",
       "      <td>-73.9825</td>\n",
       "      <td>[{'id': '4d954af4a243a5684765b473', 'name': 'V...</td>\n",
       "      <td>0</td>\n",
       "    </tr>\n",
       "    <tr>\n",
       "      <th>42</th>\n",
       "      <td>4dd2ea69d22d4d4d408261e4</td>\n",
       "      <td>New York Blood Center</td>\n",
       "      <td>40.7536</td>\n",
       "      <td>-73.9765</td>\n",
       "      <td>[{'id': '4bf58dd8d48988d104941735', 'name': 'M...</td>\n",
       "      <td>0</td>\n",
       "    </tr>\n",
       "    <tr>\n",
       "      <th>43</th>\n",
       "      <td>4b7048bdf964a520f50f2de3</td>\n",
       "      <td>New York Blood Center</td>\n",
       "      <td>40.7647</td>\n",
       "      <td>-73.9600</td>\n",
       "      <td>[{'id': '4bf58dd8d48988d104941735', 'name': 'M...</td>\n",
       "      <td>0</td>\n",
       "    </tr>\n",
       "    <tr>\n",
       "      <th>44</th>\n",
       "      <td>4ffb7d97e4b0339985be7fc2</td>\n",
       "      <td>CityMD Park Slope</td>\n",
       "      <td>40.6701</td>\n",
       "      <td>-73.9858</td>\n",
       "      <td>[{'id': '4bf58dd8d48988d196941735', 'name': 'H...</td>\n",
       "      <td>0</td>\n",
       "    </tr>\n",
       "    <tr>\n",
       "      <th>45</th>\n",
       "      <td>4ae9ec7ff964a520b2b721e3</td>\n",
       "      <td>New York Eye and Ear Infirmary of Mount Sinai</td>\n",
       "      <td>40.7319</td>\n",
       "      <td>-73.9846</td>\n",
       "      <td>[{'id': '522e32fae4b09b556e370f19', 'name': 'E...</td>\n",
       "      <td>0</td>\n",
       "    </tr>\n",
       "    <tr>\n",
       "      <th>46</th>\n",
       "      <td>4ad8f51bf964a5206c1621e3</td>\n",
       "      <td>SUNY College of Optometry</td>\n",
       "      <td>40.7541</td>\n",
       "      <td>-73.9827</td>\n",
       "      <td>[{'id': '4bf58dd8d48988d1b3941735', 'name': 'M...</td>\n",
       "      <td>0</td>\n",
       "    </tr>\n",
       "    <tr>\n",
       "      <th>47</th>\n",
       "      <td>4a7722d4f964a520b2e31fe3</td>\n",
       "      <td>Jersey City Medical Center</td>\n",
       "      <td>40.7163</td>\n",
       "      <td>-74.0504</td>\n",
       "      <td>[{'id': '4bf58dd8d48988d196941735', 'name': 'H...</td>\n",
       "      <td>0</td>\n",
       "    </tr>\n",
       "    <tr>\n",
       "      <th>48</th>\n",
       "      <td>4e1a39ea45dd120c122044be</td>\n",
       "      <td>Upper East Veterinary</td>\n",
       "      <td>40.7845</td>\n",
       "      <td>-73.9519</td>\n",
       "      <td>[{'id': '4d954af4a243a5684765b473', 'name': 'V...</td>\n",
       "      <td>0</td>\n",
       "    </tr>\n",
       "    <tr>\n",
       "      <th>49</th>\n",
       "      <td>4b190c9ff964a52074d723e3</td>\n",
       "      <td>SUNY Downstate</td>\n",
       "      <td>40.6551</td>\n",
       "      <td>-73.9445</td>\n",
       "      <td>[{'id': '4bf58dd8d48988d1b3941735', 'name': 'M...</td>\n",
       "      <td>0</td>\n",
       "    </tr>\n",
       "  </tbody>\n",
       "</table>\n",
       "</div>"
      ],
      "text/plain": [
       "                          ID  \\\n",
       "0   4a82ef0af964a52092f91fe3   \n",
       "1   50c0b119e4b0c4d42f979cd1   \n",
       "2   5eb9a8d1a5a70d00088f5f1d   \n",
       "3   5644e694498e5f3d3f853e80   \n",
       "4   5c3fa31d3731ee002c43162d   \n",
       "5   5e66496ef3bac00008605f07   \n",
       "6   5a1420421ffed768ee24fe07   \n",
       "7   51f682d1498e76b181e00bcf   \n",
       "8   5bb21660e55d8b003981b3fd   \n",
       "9   4e78a089c65b8073f58dabe9   \n",
       "10  52544ed111d2d71cc769ab51   \n",
       "11  4a43baaaf964a520b9a61fe3   \n",
       "12  4a9d8f44f964a5207e3820e3   \n",
       "13  4ad635d8f964a520c40521e3   \n",
       "14  4a386563f964a520f29e1fe3   \n",
       "15  4a78348ff964a52046e51fe3   \n",
       "16  4af2b0def964a5203fe821e3   \n",
       "17  4a889b61f964a520180720e3   \n",
       "18  4ab66100f964a520ce7620e3   \n",
       "19  4a5bece4f964a52000bc1fe3   \n",
       "20  4b918efcf964a52078c533e3   \n",
       "21  49f1c450f964a520b6691fe3   \n",
       "22  4a856435f964a5203afe1fe3   \n",
       "23  4b5dc610f964a520ea6a29e3   \n",
       "24  4adca1e5f964a5201e2e21e3   \n",
       "25  4b9275adf964a5202dfb33e3   \n",
       "26  4e9e7dde7ee511e1b7ac587c   \n",
       "27  4b8d18c5f964a520b7e732e3   \n",
       "28  5484f9d8498e9b7b781d7d47   \n",
       "29  4c2ce033d1a10f476627fa64   \n",
       "30  4f67a70ee4b0f3808b581f87   \n",
       "31  4a4cc69df964a52040ad1fe3   \n",
       "32  56602ba6498e7f038fd2e56b   \n",
       "33  4a36c1b9f964a520dd9d1fe3   \n",
       "34  4d0267cce117f04dfd3d24bf   \n",
       "35  4dc91a141f6e936efe51ac20   \n",
       "36  4a896d11f964a520020820e3   \n",
       "37  4e1c94ded22dd2c50eea57af   \n",
       "38  4e0267a9e4cdbd9a51744db1   \n",
       "39  4df6270c22718759f82857bc   \n",
       "40  4a413a7ff964a520fda41fe3   \n",
       "41  59c589c650a6f05ddc9007a6   \n",
       "42  4dd2ea69d22d4d4d408261e4   \n",
       "43  4b7048bdf964a520f50f2de3   \n",
       "44  4ffb7d97e4b0339985be7fc2   \n",
       "45  4ae9ec7ff964a520b2b721e3   \n",
       "46  4ad8f51bf964a5206c1621e3   \n",
       "47  4a7722d4f964a520b2e31fe3   \n",
       "48  4e1a39ea45dd120c122044be   \n",
       "49  4b190c9ff964a52074d723e3   \n",
       "\n",
       "                                                 Name  Latitude  Longitude  \\\n",
       "0       NewYork-Presbyterian-Lower Manhattan Hospital   40.7099   -74.0048   \n",
       "1                                      Hudson Allergy   40.7141   -74.0095   \n",
       "2                  CityMD West 57th Urgent Care - NYC   40.7674   -73.9837   \n",
       "3   Crown Heights Center for Nursing and Rehabilit...   40.6748   -73.9459   \n",
       "4                        Klingenstein Clinical Center   40.7897   -73.9526   \n",
       "5   Harlem Hospital Child Psych @ Ronald Brown Bui...   40.8148   -73.9389   \n",
       "6                Cardiac Cath Lab @ Mt Sinai St Lukes   40.8053   -73.9615   \n",
       "7                                  Starbase Optometry   40.7547   -73.9712   \n",
       "8                                      Davita Dialyis   40.7296   -74.0614   \n",
       "9                         New York Community Hospital   40.6139   -73.9486   \n",
       "10                 NY Methodist Hospital - Pediatrics   40.6682   -73.9775   \n",
       "11                           Bellevue Hospital Center   40.7395   -73.9755   \n",
       "12                           The Mount Sinai Hospital   40.7900   -73.9527   \n",
       "13             Memorial Sloan Kettering Cancer Center   40.7642   -73.9562   \n",
       "14   NewYork-Presbyterian Brooklyn Methodist Hospital   40.6677   -73.9784   \n",
       "15                       Hospital for Special Surgery   40.7653   -73.9527   \n",
       "16                            Mount Sinai Morningside   40.8056   -73.9613   \n",
       "17                          The Animal Medical Center   40.7600   -73.9579   \n",
       "18                          Maimonides Medical Center   40.6395   -73.9983   \n",
       "19  New York Presbyterian Hospital Weill Cornell M...   40.7648   -73.9541   \n",
       "20                             Harlem Hospital Center   40.8144   -73.9405   \n",
       "21                                   Mount Sinai West   40.7695   -73.9864   \n",
       "22                            Mount Sinai Beth Israel   40.7332   -73.9821   \n",
       "23  Hackensack Meridian Health Palisades Medical C...   40.7940   -73.9959   \n",
       "24                       Metropolitan Hospital Center   40.7849   -73.9449   \n",
       "25           CarePoint Health: Bayonne Medical Center   40.6682   -74.1123   \n",
       "26                  NYU Lutheran Emergency Department   40.6461   -74.0203   \n",
       "27            NYU Medical Center Emergency Department   40.7429   -73.9741   \n",
       "28                                             CityMD   40.7331   -73.9867   \n",
       "29  Memorial Sloan Kettering Evelyn H. Lauder Brea...   40.7645   -73.9611   \n",
       "30        NYU Langone Center for Musculoskeletal Care   40.7468   -73.9723   \n",
       "31                                Lenox Hill Hospital   40.7740   -73.9608   \n",
       "32                                NYU Kimmel Pavilion   40.7430   -73.9730   \n",
       "33                         NYU Langone Medical Center   40.7418   -73.9742   \n",
       "34                          Zuckerman Research Center   40.7652   -73.9567   \n",
       "35                       Maimonides Medical Center ER   40.6388   -73.9974   \n",
       "36                        NYU Lutheran Medical Center   40.6470   -74.0214   \n",
       "37                    Mount Sinai Guggenheim Pavilion   40.7900   -73.9529   \n",
       "38  Mt. Sinai Center for Advanced Medicine (CAM) B...   40.7912   -73.9520   \n",
       "39                NewYork-Presbyterian Maternity Ward   40.7638   -73.9542   \n",
       "40                  Rockefeller Research Laboratories   40.7639   -73.9568   \n",
       "41              Veterinary Emergency & Referral Group   40.6783   -73.9825   \n",
       "42                              New York Blood Center   40.7536   -73.9765   \n",
       "43                              New York Blood Center   40.7647   -73.9600   \n",
       "44                                  CityMD Park Slope   40.6701   -73.9858   \n",
       "45      New York Eye and Ear Infirmary of Mount Sinai   40.7319   -73.9846   \n",
       "46                          SUNY College of Optometry   40.7541   -73.9827   \n",
       "47                         Jersey City Medical Center   40.7163   -74.0504   \n",
       "48                              Upper East Veterinary   40.7845   -73.9519   \n",
       "49                                     SUNY Downstate   40.6551   -73.9445   \n",
       "\n",
       "                                       Venue Category  Category  \n",
       "0   [{'id': '4bf58dd8d48988d196941735', 'name': 'H...         0  \n",
       "1   [{'id': '4bf58dd8d48988d177941735', 'name': 'D...         0  \n",
       "2   [{'id': '56aa371be4b08b9a8d573526', 'name': 'U...         0  \n",
       "3   [{'id': '4bf58dd8d48988d196941735', 'name': 'H...         0  \n",
       "4   [{'id': '4bf58dd8d48988d196941735', 'name': 'H...         0  \n",
       "5   [{'id': '4bf58dd8d48988d196941735', 'name': 'H...         0  \n",
       "6   [{'id': '4f4531b14b9074f6e4fb0103', 'name': 'M...         0  \n",
       "7   [{'id': '4bf58dd8d48988d177941735', 'name': 'D...         0  \n",
       "8   [{'id': '4bf58dd8d48988d104941735', 'name': 'M...         0  \n",
       "9   [{'id': '4bf58dd8d48988d196941735', 'name': 'H...         0  \n",
       "10  [{'id': '4bf58dd8d48988d177941735', 'name': 'D...         0  \n",
       "11  [{'id': '4bf58dd8d48988d196941735', 'name': 'H...         0  \n",
       "12  [{'id': '4bf58dd8d48988d196941735', 'name': 'H...         0  \n",
       "13  [{'id': '4bf58dd8d48988d196941735', 'name': 'H...         0  \n",
       "14  [{'id': '4bf58dd8d48988d196941735', 'name': 'H...         0  \n",
       "15  [{'id': '4bf58dd8d48988d196941735', 'name': 'H...         0  \n",
       "16  [{'id': '4bf58dd8d48988d196941735', 'name': 'H...         0  \n",
       "17  [{'id': '4d954af4a243a5684765b473', 'name': 'V...         0  \n",
       "18  [{'id': '4bf58dd8d48988d196941735', 'name': 'H...         0  \n",
       "19  [{'id': '4bf58dd8d48988d196941735', 'name': 'H...         0  \n",
       "20  [{'id': '4bf58dd8d48988d196941735', 'name': 'H...         0  \n",
       "21  [{'id': '4bf58dd8d48988d196941735', 'name': 'H...         0  \n",
       "22  [{'id': '4bf58dd8d48988d196941735', 'name': 'H...         0  \n",
       "23  [{'id': '4bf58dd8d48988d104941735', 'name': 'M...         0  \n",
       "24  [{'id': '4bf58dd8d48988d196941735', 'name': 'H...         0  \n",
       "25  [{'id': '4bf58dd8d48988d196941735', 'name': 'H...         0  \n",
       "26  [{'id': '4bf58dd8d48988d194941735', 'name': 'E...         0  \n",
       "27  [{'id': '4bf58dd8d48988d194941735', 'name': 'E...         0  \n",
       "28  [{'id': '4bf58dd8d48988d177941735', 'name': 'D...         0  \n",
       "29  [{'id': '4bf58dd8d48988d104941735', 'name': 'M...         0  \n",
       "30  [{'id': '4bf58dd8d48988d104941735', 'name': 'M...         0  \n",
       "31  [{'id': '4bf58dd8d48988d196941735', 'name': 'H...         0  \n",
       "32  [{'id': '4bf58dd8d48988d196941735', 'name': 'H...         0  \n",
       "33  [{'id': '4bf58dd8d48988d196941735', 'name': 'H...         0  \n",
       "34  [{'id': '4f4531b14b9074f6e4fb0103', 'name': 'M...         0  \n",
       "35  [{'id': '4bf58dd8d48988d194941735', 'name': 'E...         0  \n",
       "36  [{'id': '4bf58dd8d48988d196941735', 'name': 'H...         0  \n",
       "37  [{'id': '4bf58dd8d48988d196941735', 'name': 'H...         0  \n",
       "38  [{'id': '4bf58dd8d48988d196941735', 'name': 'H...         0  \n",
       "39  [{'id': '58daa1558bbb0b01f18ec1f7', 'name': 'H...         0  \n",
       "40  [{'id': '4bf58dd8d48988d104941735', 'name': 'M...         0  \n",
       "41  [{'id': '4d954af4a243a5684765b473', 'name': 'V...         0  \n",
       "42  [{'id': '4bf58dd8d48988d104941735', 'name': 'M...         0  \n",
       "43  [{'id': '4bf58dd8d48988d104941735', 'name': 'M...         0  \n",
       "44  [{'id': '4bf58dd8d48988d196941735', 'name': 'H...         0  \n",
       "45  [{'id': '522e32fae4b09b556e370f19', 'name': 'E...         0  \n",
       "46  [{'id': '4bf58dd8d48988d1b3941735', 'name': 'M...         0  \n",
       "47  [{'id': '4bf58dd8d48988d196941735', 'name': 'H...         0  \n",
       "48  [{'id': '4d954af4a243a5684765b473', 'name': 'V...         0  \n",
       "49  [{'id': '4bf58dd8d48988d1b3941735', 'name': 'M...         0  "
      ]
     },
     "execution_count": 393,
     "metadata": {},
     "output_type": "execute_result"
    }
   ],
   "source": [
    "df['Category']=0\n",
    "df"
   ]
  },
  {
   "cell_type": "code",
   "execution_count": 394,
   "metadata": {},
   "outputs": [],
   "source": [
    "s=0\n",
    "for i in df[\"Venue Category\"]:\n",
    "    x=df[\"Venue Category\"].loc[s][0]['name']\n",
    "    df.iloc[s,5]=x\n",
    "    s=s+1 \n",
    "df1=df.groupby(['Category']).count()\n",
    "df1=df1.sort_values(by='ID',ascending=False)"
   ]
  },
  {
   "cell_type": "code",
   "execution_count": 423,
   "metadata": {},
   "outputs": [
    {
     "data": {
      "image/png": "[encoded data removed]",
      "text/plain": [
       "<Figure size 864x720 with 1 Axes>"
      ]
     },
     "metadata": {
      "needs_background": "light"
     },
     "output_type": "display_data"
    }
   ],
   "source": [
    "plt.figure(figsize=(12,10))\n",
    "sns.barplot(x=df1[\"ID\"],y=df1.index,color='blue')\n",
    "plt.title(\"MEDICAL FACILITIES IN NEW YORK\",fontsize=16)\n",
    "plt.xlabel(\"Number of Facilities\",fontsize=12)\n",
    "plt.ylabel(\"Category\",fontsize=12)\n",
    "plt.show()"
   ]
  }
 ],
 "metadata": {
  "kernelspec": {
   "display_name": "Python 3",
   "language": "python",
   "name": "python3"
  },
  "language_info": {
   "codemirror_mode": {
    "name": "ipython",
    "version": 3
   },
   "file_extension": ".py",
   "mimetype": "text/x-python",
   "name": "python",
   "nbconvert_exporter": "python",
   "pygments_lexer": "ipython3",
   "version": "3.7.3"
  }
 },
 "nbformat": 4,
 "nbformat_minor": 2
}
